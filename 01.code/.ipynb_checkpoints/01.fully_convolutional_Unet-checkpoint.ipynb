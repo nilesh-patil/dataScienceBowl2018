{
 "cells": [
  {
   "cell_type": "code",
   "execution_count": 1,
   "metadata": {
    "run_control": {
     "frozen": false,
     "read_only": false
    }
   },
   "outputs": [
    {
     "name": "stdout",
     "output_type": "stream",
     "text": [
      "Populating the interactive namespace from numpy and matplotlib\n"
     ]
    }
   ],
   "source": [
    "%pylab inline"
   ]
  },
  {
   "cell_type": "code",
   "execution_count": 2,
   "metadata": {
    "run_control": {
     "frozen": false,
     "read_only": false
    }
   },
   "outputs": [
    {
     "name": "stderr",
     "output_type": "stream",
     "text": [
      "Using TensorFlow backend.\n"
     ]
    }
   ],
   "source": [
    "import os\n",
    "import sys\n",
    "import random\n",
    "import warnings\n",
    "\n",
    "import pandas as pd\n",
    "from tqdm import tqdm\n",
    "from itertools import chain\n",
    "from skimage.io import imread, imshow, imread_collection, concatenate_images\n",
    "from skimage.transform import resize\n",
    "from skimage.morphology import label\n",
    "\n",
    "import tensorflow as tf\n",
    "from keras import backend as K\n",
    "from keras.models import Model, load_model\n",
    "from keras.layers import Input, Lambda, Conv2D, Conv2DTranspose, MaxPooling2D\n",
    "from keras.layers.merge import concatenate\n",
    "from keras.callbacks import EarlyStopping, ModelCheckpoint"
   ]
  },
  {
   "cell_type": "code",
   "execution_count": 3,
   "metadata": {
    "collapsed": true,
    "run_control": {
     "frozen": false,
     "read_only": false
    }
   },
   "outputs": [],
   "source": [
    "import time\n",
    "\n",
    "start_time = time.time()\n",
    "tcurrent   = start_time"
   ]
  },
  {
   "cell_type": "code",
   "execution_count": 4,
   "metadata": {
    "collapsed": true,
    "run_control": {
     "frozen": false,
     "read_only": false
    }
   },
   "outputs": [],
   "source": [
    "# Set some parameters\n",
    "IMG_WIDTH = 128\n",
    "IMG_HEIGHT = 128\n",
    "IMG_CHANNELS = 3\n",
    "TRAIN_PATH = '../00.data/extracted/stage1_train/'\n",
    "TEST_PATH = '../00.data/extracted/stage1_test/'\n",
    "\n",
    "warnings.filterwarnings('ignore', category=UserWarning, module='skimage')\n",
    "seed = 423 # original seed: 42\n",
    "random.seed = seed\n",
    "np.random.seed = seed"
   ]
  },
  {
   "cell_type": "code",
   "execution_count": 5,
   "metadata": {
    "collapsed": true,
    "run_control": {
     "frozen": false,
     "read_only": false
    }
   },
   "outputs": [],
   "source": [
    "# Get train and test IDs\n",
    "train_ids = next(os.walk(TRAIN_PATH))[1]\n",
    "test_ids = next(os.walk(TEST_PATH))[1]"
   ]
  },
  {
   "cell_type": "code",
   "execution_count": 6,
   "metadata": {
    "collapsed": true,
    "run_control": {
     "frozen": false,
     "read_only": false
    }
   },
   "outputs": [],
   "source": [
    "X_train = np.zeros((len(train_ids), IMG_HEIGHT, IMG_WIDTH, IMG_CHANNELS), dtype=np.uint8)\n",
    "Y_train = np.zeros((len(train_ids), IMG_HEIGHT, IMG_WIDTH, 1), dtype=np.bool)"
   ]
  },
  {
   "cell_type": "code",
   "execution_count": 7,
   "metadata": {
    "run_control": {
     "frozen": false,
     "read_only": false
    }
   },
   "outputs": [
    {
     "name": "stdout",
     "output_type": "stream",
     "text": [
      "Getting and resizing train images and masks ... \n"
     ]
    },
    {
     "name": "stderr",
     "output_type": "stream",
     "text": [
      "100%|██████████| 670/670 [03:39<00:00,  3.06it/s]\n"
     ]
    }
   ],
   "source": [
    "print('Getting and resizing train images and masks ... ')\n",
    "\n",
    "sys.stdout.flush()\n",
    "\n",
    "for n, id_ in tqdm(enumerate(train_ids), total=len(train_ids)):\n",
    "    \n",
    "    path = TRAIN_PATH + id_\n",
    "    img = imread(path + '/images/' + id_ + '.png')[:,:,:IMG_CHANNELS]\n",
    "    img = resize(img, (IMG_HEIGHT, IMG_WIDTH), mode='constant', preserve_range=True)\n",
    "    X_train[n] = img\n",
    "    mask = np.zeros((IMG_HEIGHT, IMG_WIDTH, 1), dtype=np.bool)\n",
    "    \n",
    "    for mask_file in next(os.walk(path + '/masks/'))[2]:\n",
    "        mask_ = imread(path + '/masks/' + mask_file)\n",
    "        mask_ = np.expand_dims(resize(mask_, (IMG_HEIGHT, IMG_WIDTH), mode='constant', \n",
    "                                      preserve_range=True), axis=-1)\n",
    "        mask = np.maximum(mask, mask_)\n",
    "    \n",
    "    Y_train[n] = mask"
   ]
  },
  {
   "cell_type": "code",
   "execution_count": 8,
   "metadata": {
    "collapsed": true,
    "run_control": {
     "frozen": false,
     "read_only": false
    }
   },
   "outputs": [],
   "source": [
    "# Get and resize test images\n",
    "\n",
    "X_test = np.zeros((len(test_ids), IMG_HEIGHT, IMG_WIDTH, IMG_CHANNELS), dtype=np.uint8)\n",
    "\n",
    "sizes_test = []"
   ]
  },
  {
   "cell_type": "code",
   "execution_count": 9,
   "metadata": {
    "run_control": {
     "frozen": false,
     "read_only": false
    }
   },
   "outputs": [
    {
     "name": "stdout",
     "output_type": "stream",
     "text": [
      "Getting and resizing test images ... \n"
     ]
    },
    {
     "name": "stderr",
     "output_type": "stream",
     "text": [
      "100%|██████████| 65/65 [00:01<00:00, 42.52it/s]"
     ]
    },
    {
     "name": "stdout",
     "output_type": "stream",
     "text": [
      "Done!\n"
     ]
    },
    {
     "name": "stderr",
     "output_type": "stream",
     "text": [
      "\n"
     ]
    }
   ],
   "source": [
    "print('Getting and resizing test images ... ')\n",
    "\n",
    "sys.stdout.flush()\n",
    "\n",
    "for n, id_ in tqdm(enumerate(test_ids), total=len(test_ids)):\n",
    "    \n",
    "    path = TEST_PATH + id_\n",
    "    img = imread(path + '/images/' + id_ + '.png')[:,:,:IMG_CHANNELS]\n",
    "    sizes_test.append([img.shape[0], img.shape[1]])\n",
    "    img = resize(img, (IMG_HEIGHT, IMG_WIDTH), mode='constant', preserve_range=True)\n",
    "    X_test[n] = img\n",
    "\n",
    "print('Done!')"
   ]
  },
  {
   "cell_type": "markdown",
   "metadata": {
    "run_control": {
     "frozen": false,
     "read_only": false
    }
   },
   "source": [
    "#### Check if training data looks all right"
   ]
  },
  {
   "cell_type": "code",
   "execution_count": 10,
   "metadata": {
    "run_control": {
     "frozen": false,
     "read_only": false
    }
   },
   "outputs": [
    {
     "data": {
      "image/png": "[encoded data removed]",
      "text/plain": [
       "<matplotlib.figure.Figure at 0x2ab476c44a50>"
      ]
     },
     "metadata": {},
     "output_type": "display_data"
    }
   ],
   "source": [
    "ix = random.randint(0, len(train_ids))\n",
    "\n",
    "plt.subplot(121)\n",
    "imshow(X_train[ix])\n",
    "plt.subplot(122)\n",
    "imshow(np.squeeze(Y_train[ix]));"
   ]
  },
  {
   "cell_type": "markdown",
   "metadata": {
    "run_control": {
     "frozen": false,
     "read_only": false
    }
   },
   "source": [
    "#### Define IoU metric"
   ]
  },
  {
   "cell_type": "code",
   "execution_count": 11,
   "metadata": {
    "collapsed": true,
    "run_control": {
     "frozen": false,
     "read_only": false
    }
   },
   "outputs": [],
   "source": [
    "def mean_iou(y_true, y_pred):\n",
    "    \n",
    "    prec = []\n",
    "    \n",
    "    for t in np.arange(0.5, 1.0, 0.05):\n",
    "        \n",
    "        y_pred_ = tf.to_int32(y_pred > t)\n",
    "        score, up_opt = tf.metrics.mean_iou(y_true, y_pred_, 2)\n",
    "        K.get_session().run(tf.local_variables_initializer())\n",
    "        \n",
    "        with tf.control_dependencies([up_opt]):\n",
    "            \n",
    "            score = tf.identity(score)\n",
    "            \n",
    "        prec.append(score)\n",
    "        \n",
    "    return K.mean(K.stack(prec), axis=0)"
   ]
  },
  {
   "cell_type": "markdown",
   "metadata": {
    "run_control": {
     "frozen": false,
     "read_only": false
    }
   },
   "source": [
    "### Build U-Net model"
   ]
  },
  {
   "cell_type": "code",
   "execution_count": 12,
   "metadata": {
    "collapsed": true,
    "run_control": {
     "frozen": false,
     "read_only": false
    }
   },
   "outputs": [],
   "source": [
    "import tensorflow as tf"
   ]
  },
  {
   "cell_type": "code",
   "execution_count": 13,
   "metadata": {
    "run_control": {
     "frozen": false,
     "read_only": false
    }
   },
   "outputs": [
    {
     "name": "stdout",
     "output_type": "stream",
     "text": [
      "__________________________________________________________________________________________________\n",
      "Layer (type)                    Output Shape         Param #     Connected to                     \n",
      "==================================================================================================\n",
      "input_1 (InputLayer)            (None, 128, 128, 3)  0                                            \n",
      "__________________________________________________________________________________________________\n",
      "lambda_1 (Lambda)               (None, 128, 128, 3)  0           input_1[0][0]                    \n",
      "__________________________________________________________________________________________________\n",
      "conv2d_1 (Conv2D)               (None, 128, 128, 8)  224         lambda_1[0][0]                   \n",
      "__________________________________________________________________________________________________\n",
      "conv2d_2 (Conv2D)               (None, 128, 128, 8)  584         conv2d_1[0][0]                   \n",
      "__________________________________________________________________________________________________\n",
      "conv2d_3 (Conv2D)               (None, 128, 128, 8)  584         conv2d_2[0][0]                   \n",
      "__________________________________________________________________________________________________\n",
      "conv2d_4 (Conv2D)               (None, 128, 128, 8)  584         conv2d_3[0][0]                   \n",
      "__________________________________________________________________________________________________\n",
      "conv2d_5 (Conv2D)               (None, 128, 128, 8)  584         conv2d_4[0][0]                   \n",
      "__________________________________________________________________________________________________\n",
      "max_pooling2d_1 (MaxPooling2D)  (None, 64, 64, 8)    0           conv2d_5[0][0]                   \n",
      "__________________________________________________________________________________________________\n",
      "conv2d_6 (Conv2D)               (None, 64, 64, 16)   1168        max_pooling2d_1[0][0]            \n",
      "__________________________________________________________________________________________________\n",
      "conv2d_7 (Conv2D)               (None, 64, 64, 16)   2320        conv2d_6[0][0]                   \n",
      "__________________________________________________________________________________________________\n",
      "conv2d_8 (Conv2D)               (None, 64, 64, 16)   2320        conv2d_7[0][0]                   \n",
      "__________________________________________________________________________________________________\n",
      "conv2d_9 (Conv2D)               (None, 64, 64, 16)   2320        conv2d_8[0][0]                   \n",
      "__________________________________________________________________________________________________\n",
      "conv2d_10 (Conv2D)              (None, 64, 64, 16)   2320        conv2d_9[0][0]                   \n",
      "__________________________________________________________________________________________________\n",
      "max_pooling2d_2 (MaxPooling2D)  (None, 32, 32, 16)   0           conv2d_10[0][0]                  \n",
      "__________________________________________________________________________________________________\n",
      "conv2d_11 (Conv2D)              (None, 32, 32, 32)   4640        max_pooling2d_2[0][0]            \n",
      "__________________________________________________________________________________________________\n",
      "conv2d_12 (Conv2D)              (None, 32, 32, 32)   9248        conv2d_11[0][0]                  \n",
      "__________________________________________________________________________________________________\n",
      "conv2d_13 (Conv2D)              (None, 32, 32, 32)   9248        conv2d_12[0][0]                  \n",
      "__________________________________________________________________________________________________\n",
      "conv2d_14 (Conv2D)              (None, 32, 32, 32)   9248        conv2d_13[0][0]                  \n",
      "__________________________________________________________________________________________________\n",
      "conv2d_15 (Conv2D)              (None, 32, 32, 32)   9248        conv2d_14[0][0]                  \n",
      "__________________________________________________________________________________________________\n",
      "max_pooling2d_3 (MaxPooling2D)  (None, 16, 16, 32)   0           conv2d_15[0][0]                  \n",
      "__________________________________________________________________________________________________\n",
      "conv2d_16 (Conv2D)              (None, 16, 16, 64)   18496       max_pooling2d_3[0][0]            \n",
      "__________________________________________________________________________________________________\n",
      "conv2d_17 (Conv2D)              (None, 16, 16, 64)   36928       conv2d_16[0][0]                  \n",
      "__________________________________________________________________________________________________\n",
      "conv2d_18 (Conv2D)              (None, 16, 16, 64)   36928       conv2d_17[0][0]                  \n",
      "__________________________________________________________________________________________________\n",
      "conv2d_19 (Conv2D)              (None, 16, 16, 64)   36928       conv2d_18[0][0]                  \n",
      "__________________________________________________________________________________________________\n",
      "conv2d_20 (Conv2D)              (None, 16, 16, 64)   36928       conv2d_19[0][0]                  \n",
      "__________________________________________________________________________________________________\n",
      "max_pooling2d_4 (MaxPooling2D)  (None, 8, 8, 64)     0           conv2d_20[0][0]                  \n",
      "__________________________________________________________________________________________________\n",
      "conv2d_21 (Conv2D)              (None, 8, 8, 128)    73856       max_pooling2d_4[0][0]            \n",
      "__________________________________________________________________________________________________\n",
      "conv2d_22 (Conv2D)              (None, 8, 8, 128)    147584      conv2d_21[0][0]                  \n",
      "__________________________________________________________________________________________________\n",
      "conv2d_23 (Conv2D)              (None, 8, 8, 128)    147584      conv2d_22[0][0]                  \n",
      "__________________________________________________________________________________________________\n",
      "conv2d_24 (Conv2D)              (None, 8, 8, 128)    147584      conv2d_23[0][0]                  \n",
      "__________________________________________________________________________________________________\n",
      "conv2d_25 (Conv2D)              (None, 8, 8, 128)    147584      conv2d_24[0][0]                  \n",
      "__________________________________________________________________________________________________\n",
      "conv2d_transpose_1 (Conv2DTrans (None, 16, 16, 64)   32832       conv2d_25[0][0]                  \n",
      "__________________________________________________________________________________________________\n",
      "concatenate_1 (Concatenate)     (None, 16, 16, 128)  0           conv2d_transpose_1[0][0]         \n",
      "                                                                 conv2d_20[0][0]                  \n",
      "__________________________________________________________________________________________________\n",
      "conv2d_26 (Conv2D)              (None, 16, 16, 64)   73792       concatenate_1[0][0]              \n",
      "__________________________________________________________________________________________________\n",
      "conv2d_27 (Conv2D)              (None, 16, 16, 64)   36928       conv2d_26[0][0]                  \n",
      "__________________________________________________________________________________________________\n",
      "conv2d_28 (Conv2D)              (None, 16, 16, 64)   36928       conv2d_27[0][0]                  \n",
      "__________________________________________________________________________________________________\n",
      "conv2d_29 (Conv2D)              (None, 16, 16, 64)   36928       conv2d_28[0][0]                  \n",
      "__________________________________________________________________________________________________\n",
      "conv2d_30 (Conv2D)              (None, 16, 16, 64)   36928       conv2d_29[0][0]                  \n",
      "__________________________________________________________________________________________________\n",
      "conv2d_transpose_2 (Conv2DTrans (None, 32, 32, 32)   8224        conv2d_30[0][0]                  \n",
      "__________________________________________________________________________________________________\n",
      "concatenate_2 (Concatenate)     (None, 32, 32, 64)   0           conv2d_transpose_2[0][0]         \n",
      "                                                                 conv2d_15[0][0]                  \n",
      "__________________________________________________________________________________________________\n",
      "conv2d_31 (Conv2D)              (None, 32, 32, 32)   18464       concatenate_2[0][0]              \n",
      "__________________________________________________________________________________________________\n",
      "conv2d_32 (Conv2D)              (None, 32, 32, 32)   9248        conv2d_31[0][0]                  \n",
      "__________________________________________________________________________________________________\n",
      "conv2d_33 (Conv2D)              (None, 32, 32, 32)   9248        conv2d_32[0][0]                  \n",
      "__________________________________________________________________________________________________\n",
      "conv2d_34 (Conv2D)              (None, 32, 32, 32)   9248        conv2d_33[0][0]                  \n",
      "__________________________________________________________________________________________________\n",
      "conv2d_35 (Conv2D)              (None, 32, 32, 32)   9248        conv2d_34[0][0]                  \n",
      "__________________________________________________________________________________________________\n",
      "conv2d_transpose_3 (Conv2DTrans (None, 64, 64, 16)   2064        conv2d_35[0][0]                  \n",
      "__________________________________________________________________________________________________\n",
      "concatenate_3 (Concatenate)     (None, 64, 64, 32)   0           conv2d_transpose_3[0][0]         \n",
      "                                                                 conv2d_10[0][0]                  \n",
      "__________________________________________________________________________________________________\n",
      "conv2d_36 (Conv2D)              (None, 64, 64, 16)   4624        concatenate_3[0][0]              \n",
      "__________________________________________________________________________________________________\n",
      "conv2d_37 (Conv2D)              (None, 64, 64, 16)   2320        conv2d_36[0][0]                  \n",
      "__________________________________________________________________________________________________\n",
      "conv2d_38 (Conv2D)              (None, 64, 64, 16)   2320        conv2d_37[0][0]                  \n",
      "__________________________________________________________________________________________________\n",
      "conv2d_39 (Conv2D)              (None, 64, 64, 16)   2320        conv2d_38[0][0]                  \n",
      "__________________________________________________________________________________________________\n",
      "conv2d_40 (Conv2D)              (None, 64, 64, 16)   2320        conv2d_39[0][0]                  \n",
      "__________________________________________________________________________________________________\n",
      "conv2d_transpose_4 (Conv2DTrans (None, 128, 128, 8)  520         conv2d_40[0][0]                  \n",
      "__________________________________________________________________________________________________\n",
      "concatenate_4 (Concatenate)     (None, 128, 128, 16) 0           conv2d_transpose_4[0][0]         \n",
      "                                                                 conv2d_5[0][0]                   \n",
      "__________________________________________________________________________________________________\n",
      "conv2d_41 (Conv2D)              (None, 128, 128, 8)  1160        concatenate_4[0][0]              \n",
      "__________________________________________________________________________________________________\n",
      "conv2d_42 (Conv2D)              (None, 128, 128, 8)  584         conv2d_41[0][0]                  \n",
      "__________________________________________________________________________________________________\n",
      "conv2d_43 (Conv2D)              (None, 128, 128, 8)  584         conv2d_42[0][0]                  \n",
      "__________________________________________________________________________________________________\n",
      "conv2d_44 (Conv2D)              (None, 128, 128, 8)  584         conv2d_43[0][0]                  \n",
      "__________________________________________________________________________________________________\n",
      "conv2d_45 (Conv2D)              (None, 128, 128, 8)  584         conv2d_44[0][0]                  \n",
      "__________________________________________________________________________________________________\n",
      "conv2d_46 (Conv2D)              (None, 128, 128, 1)  9           conv2d_45[0][0]                  \n",
      "==================================================================================================\n",
      "Total params: 1,223,049\n",
      "Trainable params: 1,223,049\n",
      "Non-trainable params: 0\n",
      "__________________________________________________________________________________________________\n"
     ]
    }
   ],
   "source": [
    "K.clear_session()\n",
    "\n",
    "inputs = Input((IMG_HEIGHT, IMG_WIDTH, IMG_CHANNELS))\n",
    "s = Lambda(lambda x: x / 255) (inputs)\n",
    "\n",
    "c1 = Conv2D(8, (3, 3), activation='relu', padding='same') (s)\n",
    "c1 = Conv2D(8, (3, 3), activation='relu', padding='same') (c1)\n",
    "c1 = Conv2D(8, (3, 3), activation='relu', padding='same') (c1)\n",
    "c1 = Conv2D(8, (3, 3), activation='relu', padding='same') (c1)\n",
    "c1 = Conv2D(8, (3, 3), activation='relu', padding='same') (c1)\n",
    "p1 = MaxPooling2D((2, 2)) (c1)\n",
    "\n",
    "c2 = Conv2D(16, (3, 3), activation='relu', padding='same') (p1)\n",
    "c2 = Conv2D(16, (3, 3), activation='relu', padding='same') (c2)\n",
    "c2 = Conv2D(16, (3, 3), activation='relu', padding='same') (c2)\n",
    "c2 = Conv2D(16, (3, 3), activation='relu', padding='same') (c2)\n",
    "c2 = Conv2D(16, (3, 3), activation='relu', padding='same') (c2)\n",
    "p2 = MaxPooling2D((2, 2)) (c2)\n",
    "\n",
    "c3 = Conv2D(32, (3, 3), activation='relu', padding='same') (p2)\n",
    "c3 = Conv2D(32, (3, 3), activation='relu', padding='same') (c3)\n",
    "c3 = Conv2D(32, (3, 3), activation='relu', padding='same') (c3)\n",
    "c3 = Conv2D(32, (3, 3), activation='relu', padding='same') (c3)\n",
    "c3 = Conv2D(32, (3, 3), activation='relu', padding='same') (c3)\n",
    "p3 = MaxPooling2D((2, 2)) (c3)\n",
    "\n",
    "c4 = Conv2D(64, (3, 3), activation='relu', padding='same') (p3)\n",
    "c4 = Conv2D(64, (3, 3), activation='relu', padding='same') (c4)\n",
    "c4 = Conv2D(64, (3, 3), activation='relu', padding='same') (c4)\n",
    "c4 = Conv2D(64, (3, 3), activation='relu', padding='same') (c4)\n",
    "c4 = Conv2D(64, (3, 3), activation='relu', padding='same') (c4)\n",
    "p4 = MaxPooling2D(pool_size=(2, 2)) (c4)\n",
    "\n",
    "c5 = Conv2D(128, (3, 3), activation='relu', padding='same') (p4)\n",
    "c5 = Conv2D(128, (3, 3), activation='relu', padding='same') (c5)\n",
    "c5 = Conv2D(128, (3, 3), activation='relu', padding='same') (c5)\n",
    "c5 = Conv2D(128, (3, 3), activation='relu', padding='same') (c5)\n",
    "c5 = Conv2D(128, (3, 3), activation='relu', padding='same') (c5)\n",
    "\n",
    "u6 = Conv2DTranspose(64, (2, 2), strides=(2, 2), padding='same') (c5)\n",
    "u6 = concatenate([u6, c4])\n",
    "c6 = Conv2D(64, (3, 3), activation='relu', padding='same') (u6)\n",
    "c6 = Conv2D(64, (3, 3), activation='relu', padding='same') (c6)\n",
    "c6 = Conv2D(64, (3, 3), activation='relu', padding='same') (c6)\n",
    "c6 = Conv2D(64, (3, 3), activation='relu', padding='same') (c6)\n",
    "c6 = Conv2D(64, (3, 3), activation='relu', padding='same') (c6)\n",
    "\n",
    "u7 = Conv2DTranspose(32, (2, 2), strides=(2, 2), padding='same') (c6)\n",
    "u7 = concatenate([u7, c3])\n",
    "c7 = Conv2D(32, (3, 3), activation='relu', padding='same') (u7)\n",
    "c7 = Conv2D(32, (3, 3), activation='relu', padding='same') (c7)\n",
    "c7 = Conv2D(32, (3, 3), activation='relu', padding='same') (c7)\n",
    "c7 = Conv2D(32, (3, 3), activation='relu', padding='same') (c7)\n",
    "c7 = Conv2D(32, (3, 3), activation='relu', padding='same') (c7)\n",
    "\n",
    "u8 = Conv2DTranspose(16, (2, 2), strides=(2, 2), padding='same') (c7)\n",
    "u8 = concatenate([u8, c2])\n",
    "c8 = Conv2D(16, (3, 3), activation='relu', padding='same') (u8)\n",
    "c8 = Conv2D(16, (3, 3), activation='relu', padding='same') (c8)\n",
    "c8 = Conv2D(16, (3, 3), activation='relu', padding='same') (c8)\n",
    "c8 = Conv2D(16, (3, 3), activation='relu', padding='same') (c8)\n",
    "c8 = Conv2D(16, (3, 3), activation='relu', padding='same') (c8)\n",
    "\n",
    "u9 = Conv2DTranspose(8, (2, 2), strides=(2, 2), padding='same') (c8)\n",
    "u9 = concatenate([u9, c1], axis=3)\n",
    "c9 = Conv2D(8, (3, 3), activation='relu', padding='same') (u9)\n",
    "c9 = Conv2D(8, (3, 3), activation='relu', padding='same') (c9)\n",
    "c9 = Conv2D(8, (3, 3), activation='relu', padding='same') (c9)\n",
    "c9 = Conv2D(8, (3, 3), activation='relu', padding='same') (c9)\n",
    "c9 = Conv2D(8, (3, 3), activation='relu', padding='same') (c9)\n",
    "\n",
    "outputs = Conv2D(1, (1, 1), activation='sigmoid') (c9)\n",
    "\n",
    "model = Model(inputs=[inputs], outputs=[outputs])\n",
    "\n",
    "model.summary()"
   ]
  },
  {
   "cell_type": "code",
   "execution_count": 14,
   "metadata": {
    "collapsed": true,
    "run_control": {
     "frozen": false,
     "read_only": false
    }
   },
   "outputs": [],
   "source": [
    "model.compile(optimizer='adam', \n",
    "              loss='binary_crossentropy', \n",
    "              metrics=[mean_iou])"
   ]
  },
  {
   "cell_type": "code",
   "execution_count": 15,
   "metadata": {
    "collapsed": true,
    "run_control": {
     "frozen": false,
     "read_only": false
    }
   },
   "outputs": [],
   "source": [
    "model_path = '../02.model/deeper_unet.h5'"
   ]
  },
  {
   "cell_type": "code",
   "execution_count": 26,
   "metadata": {
    "run_control": {
     "frozen": false,
     "read_only": false
    },
    "scrolled": true
   },
   "outputs": [
    {
     "name": "stdout",
     "output_type": "stream",
     "text": [
      "Train on 589 samples, validate on 81 samples\n",
      "Epoch 1/1000\n",
      "584/589 [============================>.] - ETA: 0s - loss: 0.0677 - mean_iou: 0.8548Epoch 00001: val_loss improved from inf to 0.08511, saving model to ../02.model/deeper_unet.h5\n",
      "589/589 [==============================] - 17s 28ms/step - loss: 0.0674 - mean_iou: 0.8549 - val_loss: 0.0851 - val_mean_iou: 0.8683\n",
      "Epoch 2/1000\n",
      "584/589 [============================>.] - ETA: 0s - loss: 0.0690 - mean_iou: 0.8684Epoch 00002: val_loss did not improve\n",
      "589/589 [==============================] - 13s 22ms/step - loss: 0.0689 - mean_iou: 0.8684 - val_loss: 0.1139 - val_mean_iou: 0.8670\n",
      "Epoch 3/1000\n",
      "584/589 [============================>.] - ETA: 0s - loss: 0.0719 - mean_iou: 0.8651Epoch 00003: val_loss improved from 0.08511 to 0.08347, saving model to ../02.model/deeper_unet.h5\n",
      "589/589 [==============================] - 13s 22ms/step - loss: 0.0720 - mean_iou: 0.8651 - val_loss: 0.0835 - val_mean_iou: 0.8650\n",
      "Epoch 4/1000\n",
      "584/589 [============================>.] - ETA: 0s - loss: 0.0666 - mean_iou: 0.8660Epoch 00004: val_loss improved from 0.08347 to 0.08030, saving model to ../02.model/deeper_unet.h5\n",
      "589/589 [==============================] - 13s 22ms/step - loss: 0.0670 - mean_iou: 0.8660 - val_loss: 0.0803 - val_mean_iou: 0.8658\n",
      "Epoch 5/1000\n",
      "584/589 [============================>.] - ETA: 0s - loss: 0.0667 - mean_iou: 0.8660Epoch 00005: val_loss did not improve\n",
      "589/589 [==============================] - 13s 22ms/step - loss: 0.0670 - mean_iou: 0.8660 - val_loss: 0.0845 - val_mean_iou: 0.8665\n",
      "Epoch 6/1000\n",
      "584/589 [============================>.] - ETA: 0s - loss: 0.0662 - mean_iou: 0.8667Epoch 00006: val_loss did not improve\n",
      "589/589 [==============================] - 13s 22ms/step - loss: 0.0666 - mean_iou: 0.8667 - val_loss: 0.0821 - val_mean_iou: 0.8670\n",
      "Epoch 7/1000\n",
      "584/589 [============================>.] - ETA: 0s - loss: 0.0667 - mean_iou: 0.8672Epoch 00007: val_loss did not improve\n",
      "589/589 [==============================] - 13s 22ms/step - loss: 0.0674 - mean_iou: 0.8672 - val_loss: 0.0871 - val_mean_iou: 0.8670\n",
      "Epoch 8/1000\n",
      "584/589 [============================>.] - ETA: 0s - loss: 0.0689 - mean_iou: 0.8664Epoch 00008: val_loss did not improve\n",
      "589/589 [==============================] - 13s 22ms/step - loss: 0.0690 - mean_iou: 0.8664 - val_loss: 0.0807 - val_mean_iou: 0.8667\n",
      "Epoch 9/1000\n",
      "584/589 [============================>.] - ETA: 0s - loss: 0.0657 - mean_iou: 0.8671Epoch 00009: val_loss did not improve\n",
      "589/589 [==============================] - 13s 22ms/step - loss: 0.0654 - mean_iou: 0.8671 - val_loss: 0.0836 - val_mean_iou: 0.8670\n",
      "Epoch 10/1000\n",
      "584/589 [============================>.] - ETA: 0s - loss: 0.0668 - mean_iou: 0.8669Epoch 00010: val_loss did not improve\n",
      "589/589 [==============================] - 13s 22ms/step - loss: 0.0666 - mean_iou: 0.8669 - val_loss: 0.0817 - val_mean_iou: 0.8671\n",
      "Epoch 11/1000\n",
      "584/589 [============================>.] - ETA: 0s - loss: 0.0667 - mean_iou: 0.8668Epoch 00011: val_loss did not improve\n",
      "589/589 [==============================] - 13s 22ms/step - loss: 0.0668 - mean_iou: 0.8668 - val_loss: 0.0807 - val_mean_iou: 0.8672\n",
      "Epoch 12/1000\n",
      "584/589 [============================>.] - ETA: 0s - loss: 0.0647 - mean_iou: 0.8673Epoch 00012: val_loss did not improve\n",
      "589/589 [==============================] - 13s 22ms/step - loss: 0.0648 - mean_iou: 0.8673 - val_loss: 0.0855 - val_mean_iou: 0.8675\n",
      "Epoch 13/1000\n",
      "584/589 [============================>.] - ETA: 0s - loss: 0.0680 - mean_iou: 0.8674Epoch 00013: val_loss did not improve\n",
      "589/589 [==============================] - 13s 22ms/step - loss: 0.0680 - mean_iou: 0.8674 - val_loss: 0.0848 - val_mean_iou: 0.8673\n",
      "Epoch 14/1000\n",
      "584/589 [============================>.] - ETA: 0s - loss: 0.0660 - mean_iou: 0.8673Epoch 00014: val_loss improved from 0.08030 to 0.07967, saving model to ../02.model/deeper_unet.h5\n",
      "589/589 [==============================] - 13s 22ms/step - loss: 0.0659 - mean_iou: 0.8673 - val_loss: 0.0797 - val_mean_iou: 0.8675\n",
      "Epoch 15/1000\n",
      "584/589 [============================>.] - ETA: 0s - loss: 0.0674 - mean_iou: 0.8675Epoch 00015: val_loss did not improve\n",
      "589/589 [==============================] - 13s 22ms/step - loss: 0.0670 - mean_iou: 0.8675 - val_loss: 0.0866 - val_mean_iou: 0.8677\n",
      "Epoch 16/1000\n",
      "584/589 [============================>.] - ETA: 0s - loss: 0.0654 - mean_iou: 0.8679Epoch 00016: val_loss did not improve\n",
      "589/589 [==============================] - 13s 22ms/step - loss: 0.0653 - mean_iou: 0.8679 - val_loss: 0.0883 - val_mean_iou: 0.8680\n",
      "Epoch 17/1000\n",
      "584/589 [============================>.] - ETA: 0s - loss: 0.0648 - mean_iou: 0.8681Epoch 00017: val_loss improved from 0.07967 to 0.07939, saving model to ../02.model/deeper_unet.h5\n",
      "589/589 [==============================] - 13s 22ms/step - loss: 0.0645 - mean_iou: 0.8681 - val_loss: 0.0794 - val_mean_iou: 0.8682\n",
      "Epoch 18/1000\n",
      "584/589 [============================>.] - ETA: 0s - loss: 0.0637 - mean_iou: 0.8684Epoch 00018: val_loss did not improve\n",
      "589/589 [==============================] - 13s 22ms/step - loss: 0.0634 - mean_iou: 0.8684 - val_loss: 0.0823 - val_mean_iou: 0.8686\n",
      "Epoch 19/1000\n",
      "584/589 [============================>.] - ETA: 0s - loss: 0.0640 - mean_iou: 0.8688Epoch 00019: val_loss did not improve\n",
      "589/589 [==============================] - 13s 22ms/step - loss: 0.0639 - mean_iou: 0.8688 - val_loss: 0.0817 - val_mean_iou: 0.8690\n",
      "Epoch 20/1000\n",
      "584/589 [============================>.] - ETA: 0s - loss: 0.0705 - mean_iou: 0.8691Epoch 00020: val_loss did not improve\n",
      "589/589 [==============================] - 13s 22ms/step - loss: 0.0704 - mean_iou: 0.8691 - val_loss: 0.0836 - val_mean_iou: 0.8690\n",
      "Epoch 21/1000\n",
      "584/589 [============================>.] - ETA: 0s - loss: 0.0657 - mean_iou: 0.8688Epoch 00021: val_loss improved from 0.07939 to 0.07814, saving model to ../02.model/deeper_unet.h5\n",
      "589/589 [==============================] - 13s 22ms/step - loss: 0.0656 - mean_iou: 0.8688 - val_loss: 0.0781 - val_mean_iou: 0.8689\n",
      "Epoch 22/1000\n",
      "584/589 [============================>.] - ETA: 0s - loss: 0.0643 - mean_iou: 0.8690Epoch 00022: val_loss did not improve\n",
      "589/589 [==============================] - 13s 22ms/step - loss: 0.0643 - mean_iou: 0.8690 - val_loss: 0.0794 - val_mean_iou: 0.8691\n",
      "Epoch 23/1000\n",
      "584/589 [============================>.] - ETA: 0s - loss: 0.0643 - mean_iou: 0.8692Epoch 00023: val_loss did not improve\n",
      "589/589 [==============================] - 13s 22ms/step - loss: 0.0645 - mean_iou: 0.8692 - val_loss: 0.0866 - val_mean_iou: 0.8694\n",
      "Epoch 24/1000\n",
      "584/589 [============================>.] - ETA: 0s - loss: 0.0624 - mean_iou: 0.8695Epoch 00024: val_loss improved from 0.07814 to 0.07766, saving model to ../02.model/deeper_unet.h5\n",
      "589/589 [==============================] - 13s 22ms/step - loss: 0.0628 - mean_iou: 0.8695 - val_loss: 0.0777 - val_mean_iou: 0.8696\n",
      "Epoch 25/1000\n",
      "584/589 [============================>.] - ETA: 0s - loss: 0.0625 - mean_iou: 0.8697Epoch 00025: val_loss did not improve\n",
      "589/589 [==============================] - 13s 22ms/step - loss: 0.0624 - mean_iou: 0.8697 - val_loss: 0.0858 - val_mean_iou: 0.8699\n",
      "Epoch 26/1000\n",
      "584/589 [============================>.] - ETA: 0s - loss: 0.0645 - mean_iou: 0.8701Epoch 00026: val_loss did not improve\n",
      "589/589 [==============================] - 13s 22ms/step - loss: 0.0646 - mean_iou: 0.8701 - val_loss: 0.0819 - val_mean_iou: 0.8702\n",
      "Epoch 27/1000\n",
      "584/589 [============================>.] - ETA: 0s - loss: 0.0635 - mean_iou: 0.8703Epoch 00027: val_loss did not improve\n",
      "589/589 [==============================] - 13s 22ms/step - loss: 0.0634 - mean_iou: 0.8703 - val_loss: 0.0788 - val_mean_iou: 0.8703\n",
      "Epoch 28/1000\n",
      "584/589 [============================>.] - ETA: 0s - loss: 0.0620 - mean_iou: 0.8704Epoch 00028: val_loss did not improve\n",
      "589/589 [==============================] - 13s 22ms/step - loss: 0.0621 - mean_iou: 0.8704 - val_loss: 0.0808 - val_mean_iou: 0.8705\n",
      "Epoch 29/1000\n",
      "584/589 [============================>.] - ETA: 0s - loss: 0.0627 - mean_iou: 0.8705Epoch 00029: val_loss did not improve\n",
      "589/589 [==============================] - 13s 22ms/step - loss: 0.0629 - mean_iou: 0.8705 - val_loss: 0.0788 - val_mean_iou: 0.8706\n"
     ]
    },
    {
     "name": "stdout",
     "output_type": "stream",
     "text": [
      "Epoch 30/1000\n",
      "584/589 [============================>.] - ETA: 0s - loss: 0.0631 - mean_iou: 0.8706Epoch 00030: val_loss improved from 0.07766 to 0.07675, saving model to ../02.model/deeper_unet.h5\n",
      "589/589 [==============================] - 13s 22ms/step - loss: 0.0631 - mean_iou: 0.8706 - val_loss: 0.0767 - val_mean_iou: 0.8708\n",
      "Epoch 31/1000\n",
      "584/589 [============================>.] - ETA: 0s - loss: 0.0612 - mean_iou: 0.8708Epoch 00031: val_loss did not improve\n",
      "589/589 [==============================] - 13s 22ms/step - loss: 0.0613 - mean_iou: 0.8708 - val_loss: 0.0780 - val_mean_iou: 0.8710\n",
      "Epoch 32/1000\n",
      "584/589 [============================>.] - ETA: 0s - loss: 0.0631 - mean_iou: 0.8711Epoch 00032: val_loss did not improve\n",
      "589/589 [==============================] - 13s 22ms/step - loss: 0.0630 - mean_iou: 0.8711 - val_loss: 0.0802 - val_mean_iou: 0.8711\n",
      "Epoch 33/1000\n",
      "584/589 [============================>.] - ETA: 0s - loss: 0.0621 - mean_iou: 0.8713Epoch 00033: val_loss did not improve\n",
      "589/589 [==============================] - 13s 22ms/step - loss: 0.0625 - mean_iou: 0.8713 - val_loss: 0.0792 - val_mean_iou: 0.8713\n",
      "Epoch 34/1000\n",
      "584/589 [============================>.] - ETA: 0s - loss: 0.0616 - mean_iou: 0.8713Epoch 00034: val_loss did not improve\n",
      "589/589 [==============================] - 13s 22ms/step - loss: 0.0616 - mean_iou: 0.8713 - val_loss: 0.0807 - val_mean_iou: 0.8715\n",
      "Epoch 35/1000\n",
      "584/589 [============================>.] - ETA: 0s - loss: 0.0623 - mean_iou: 0.8716Epoch 00035: val_loss improved from 0.07675 to 0.07621, saving model to ../02.model/deeper_unet.h5\n",
      "589/589 [==============================] - 13s 22ms/step - loss: 0.0621 - mean_iou: 0.8716 - val_loss: 0.0762 - val_mean_iou: 0.8716\n",
      "Epoch 36/1000\n",
      "584/589 [============================>.] - ETA: 0s - loss: 0.0611 - mean_iou: 0.8718Epoch 00036: val_loss did not improve\n",
      "589/589 [==============================] - 13s 22ms/step - loss: 0.0617 - mean_iou: 0.8718 - val_loss: 0.0779 - val_mean_iou: 0.8718\n",
      "Epoch 37/1000\n",
      "584/589 [============================>.] - ETA: 0s - loss: 0.0700 - mean_iou: 0.8718Epoch 00037: val_loss did not improve\n",
      "589/589 [==============================] - 13s 22ms/step - loss: 0.0697 - mean_iou: 0.8718 - val_loss: 0.0830 - val_mean_iou: 0.8717\n",
      "Epoch 38/1000\n",
      "584/589 [============================>.] - ETA: 0s - loss: 0.0659 - mean_iou: 0.8717Epoch 00038: val_loss did not improve\n",
      "589/589 [==============================] - 13s 22ms/step - loss: 0.0660 - mean_iou: 0.8717 - val_loss: 0.0769 - val_mean_iou: 0.8718\n",
      "Epoch 39/1000\n",
      "584/589 [============================>.] - ETA: 0s - loss: 0.0615 - mean_iou: 0.8718Epoch 00039: val_loss did not improve\n",
      "589/589 [==============================] - 13s 22ms/step - loss: 0.0612 - mean_iou: 0.8718 - val_loss: 0.0786 - val_mean_iou: 0.8719\n",
      "Epoch 40/1000\n",
      "584/589 [============================>.] - ETA: 0s - loss: 0.0599 - mean_iou: 0.8720Epoch 00040: val_loss did not improve\n",
      "589/589 [==============================] - 13s 22ms/step - loss: 0.0602 - mean_iou: 0.8720 - val_loss: 0.0788 - val_mean_iou: 0.8721\n",
      "Epoch 41/1000\n",
      "584/589 [============================>.] - ETA: 0s - loss: 0.0611 - mean_iou: 0.8722Epoch 00041: val_loss did not improve\n",
      "589/589 [==============================] - 13s 22ms/step - loss: 0.0609 - mean_iou: 0.8722 - val_loss: 0.0783 - val_mean_iou: 0.8723\n",
      "Epoch 42/1000\n",
      "584/589 [============================>.] - ETA: 0s - loss: 0.0649 - mean_iou: 0.8723Epoch 00042: val_loss did not improve\n",
      "589/589 [==============================] - 13s 22ms/step - loss: 0.0650 - mean_iou: 0.8723 - val_loss: 0.0774 - val_mean_iou: 0.8723\n",
      "Epoch 43/1000\n",
      "584/589 [============================>.] - ETA: 0s - loss: 0.0600 - mean_iou: 0.8724Epoch 00043: val_loss improved from 0.07621 to 0.07490, saving model to ../02.model/deeper_unet.h5\n",
      "589/589 [==============================] - 13s 22ms/step - loss: 0.0600 - mean_iou: 0.8724 - val_loss: 0.0749 - val_mean_iou: 0.8725\n",
      "Epoch 44/1000\n",
      "584/589 [============================>.] - ETA: 0s - loss: 0.0609 - mean_iou: 0.8726Epoch 00044: val_loss did not improve\n",
      "589/589 [==============================] - 13s 22ms/step - loss: 0.0609 - mean_iou: 0.8726 - val_loss: 0.0784 - val_mean_iou: 0.8726\n",
      "Epoch 45/1000\n",
      "584/589 [============================>.] - ETA: 0s - loss: 0.0594 - mean_iou: 0.8727Epoch 00045: val_loss did not improve\n",
      "589/589 [==============================] - 13s 22ms/step - loss: 0.0593 - mean_iou: 0.8727 - val_loss: 0.0784 - val_mean_iou: 0.8728\n",
      "Epoch 46/1000\n",
      "584/589 [============================>.] - ETA: 0s - loss: 0.0593 - mean_iou: 0.8730Epoch 00046: val_loss did not improve\n",
      "589/589 [==============================] - 13s 22ms/step - loss: 0.0594 - mean_iou: 0.8730 - val_loss: 0.0793 - val_mean_iou: 0.8730\n",
      "Epoch 47/1000\n",
      "584/589 [============================>.] - ETA: 0s - loss: 0.0622 - mean_iou: 0.8730Epoch 00047: val_loss did not improve\n",
      "589/589 [==============================] - 13s 22ms/step - loss: 0.0619 - mean_iou: 0.8730 - val_loss: 0.0774 - val_mean_iou: 0.8730\n",
      "Epoch 48/1000\n",
      "584/589 [============================>.] - ETA: 0s - loss: 0.0579 - mean_iou: 0.8732Epoch 00048: val_loss did not improve\n",
      "589/589 [==============================] - 13s 22ms/step - loss: 0.0584 - mean_iou: 0.8732 - val_loss: 0.0764 - val_mean_iou: 0.8733\n",
      "Epoch 49/1000\n",
      "584/589 [============================>.] - ETA: 0s - loss: 0.0608 - mean_iou: 0.8733Epoch 00049: val_loss did not improve\n",
      "589/589 [==============================] - 13s 22ms/step - loss: 0.0605 - mean_iou: 0.8733 - val_loss: 0.0826 - val_mean_iou: 0.8734\n",
      "Epoch 50/1000\n",
      "584/589 [============================>.] - ETA: 0s - loss: 0.0607 - mean_iou: 0.8735Epoch 00050: val_loss did not improve\n",
      "589/589 [==============================] - 13s 22ms/step - loss: 0.0609 - mean_iou: 0.8735 - val_loss: 0.0776 - val_mean_iou: 0.8735\n",
      "Epoch 51/1000\n",
      "584/589 [============================>.] - ETA: 0s - loss: 0.0598 - mean_iou: 0.8736Epoch 00051: val_loss did not improve\n",
      "589/589 [==============================] - 13s 22ms/step - loss: 0.0599 - mean_iou: 0.8736 - val_loss: 0.0767 - val_mean_iou: 0.8737\n",
      "Epoch 52/1000\n",
      "584/589 [============================>.] - ETA: 0s - loss: 0.0580 - mean_iou: 0.8738Epoch 00052: val_loss did not improve\n",
      "589/589 [==============================] - 13s 22ms/step - loss: 0.0580 - mean_iou: 0.8738 - val_loss: 0.0816 - val_mean_iou: 0.8739\n",
      "Epoch 53/1000\n",
      "584/589 [============================>.] - ETA: 0s - loss: 0.0615 - mean_iou: 0.8739Epoch 00053: val_loss did not improve\n",
      "589/589 [==============================] - 13s 22ms/step - loss: 0.0617 - mean_iou: 0.8739 - val_loss: 0.0841 - val_mean_iou: 0.8740\n",
      "Epoch 54/1000\n",
      "584/589 [============================>.] - ETA: 0s - loss: 0.0592 - mean_iou: 0.8741Epoch 00054: val_loss did not improve\n",
      "589/589 [==============================] - 13s 22ms/step - loss: 0.0593 - mean_iou: 0.8741 - val_loss: 0.0777 - val_mean_iou: 0.8741\n",
      "Epoch 55/1000\n",
      "584/589 [============================>.] - ETA: 0s - loss: 0.0591 - mean_iou: 0.8742Epoch 00055: val_loss did not improve\n",
      "589/589 [==============================] - 13s 22ms/step - loss: 0.0590 - mean_iou: 0.8742 - val_loss: 0.0780 - val_mean_iou: 0.8742\n",
      "Epoch 56/1000\n",
      "584/589 [============================>.] - ETA: 0s - loss: 0.0591 - mean_iou: 0.8743Epoch 00056: val_loss did not improve\n",
      "589/589 [==============================] - 13s 22ms/step - loss: 0.0591 - mean_iou: 0.8743 - val_loss: 0.0756 - val_mean_iou: 0.8744\n",
      "Epoch 57/1000\n",
      "584/589 [============================>.] - ETA: 0s - loss: 0.0593 - mean_iou: 0.8744Epoch 00057: val_loss did not improve\n",
      "589/589 [==============================] - 13s 22ms/step - loss: 0.0592 - mean_iou: 0.8744 - val_loss: 0.0789 - val_mean_iou: 0.8745\n",
      "Epoch 58/1000\n",
      "584/589 [============================>.] - ETA: 0s - loss: 0.0577 - mean_iou: 0.8745Epoch 00058: val_loss did not improve\n",
      "589/589 [==============================] - 13s 22ms/step - loss: 0.0575 - mean_iou: 0.8745 - val_loss: 0.0797 - val_mean_iou: 0.8746\n",
      "Epoch 59/1000\n",
      "584/589 [============================>.] - ETA: 0s - loss: 0.0583 - mean_iou: 0.8747Epoch 00059: val_loss improved from 0.07490 to 0.07411, saving model to ../02.model/deeper_unet.h5\n",
      "589/589 [==============================] - 13s 22ms/step - loss: 0.0581 - mean_iou: 0.8747 - val_loss: 0.0741 - val_mean_iou: 0.8748\n"
     ]
    },
    {
     "name": "stdout",
     "output_type": "stream",
     "text": [
      "Epoch 60/1000\n",
      "584/589 [============================>.] - ETA: 0s - loss: 0.0566 - mean_iou: 0.8749Epoch 00060: val_loss did not improve\n",
      "589/589 [==============================] - 13s 22ms/step - loss: 0.0565 - mean_iou: 0.8749 - val_loss: 0.0788 - val_mean_iou: 0.8750\n",
      "Epoch 61/1000\n",
      "584/589 [============================>.] - ETA: 0s - loss: 0.0576 - mean_iou: 0.8750Epoch 00061: val_loss improved from 0.07411 to 0.07333, saving model to ../02.model/deeper_unet.h5\n",
      "589/589 [==============================] - 13s 22ms/step - loss: 0.0574 - mean_iou: 0.8750 - val_loss: 0.0733 - val_mean_iou: 0.8751\n",
      "Epoch 62/1000\n",
      "584/589 [============================>.] - ETA: 0s - loss: 0.0627 - mean_iou: 0.8751Epoch 00062: val_loss did not improve\n",
      "589/589 [==============================] - 13s 22ms/step - loss: 0.0629 - mean_iou: 0.8751 - val_loss: 0.0769 - val_mean_iou: 0.8751\n",
      "Epoch 63/1000\n",
      "584/589 [============================>.] - ETA: 0s - loss: 0.0572 - mean_iou: 0.8751Epoch 00063: val_loss did not improve\n",
      "589/589 [==============================] - 13s 22ms/step - loss: 0.0575 - mean_iou: 0.8751 - val_loss: 0.0770 - val_mean_iou: 0.8752\n",
      "Epoch 64/1000\n",
      "584/589 [============================>.] - ETA: 0s - loss: 0.0569 - mean_iou: 0.8753Epoch 00064: val_loss did not improve\n",
      "589/589 [==============================] - 13s 22ms/step - loss: 0.0569 - mean_iou: 0.8753 - val_loss: 0.0751 - val_mean_iou: 0.8754\n",
      "Epoch 65/1000\n",
      "584/589 [============================>.] - ETA: 0s - loss: 0.0564 - mean_iou: 0.8755Epoch 00065: val_loss did not improve\n",
      "589/589 [==============================] - 13s 22ms/step - loss: 0.0561 - mean_iou: 0.8755 - val_loss: 0.0791 - val_mean_iou: 0.8755\n",
      "Epoch 66/1000\n",
      "584/589 [============================>.] - ETA: 0s - loss: 0.0574 - mean_iou: 0.8756Epoch 00066: val_loss did not improve\n",
      "589/589 [==============================] - 13s 22ms/step - loss: 0.0576 - mean_iou: 0.8756 - val_loss: 0.0764 - val_mean_iou: 0.8757\n",
      "Epoch 67/1000\n",
      "584/589 [============================>.] - ETA: 0s - loss: 0.0558 - mean_iou: 0.8758Epoch 00067: val_loss did not improve\n",
      "589/589 [==============================] - 13s 22ms/step - loss: 0.0559 - mean_iou: 0.8758 - val_loss: 0.0780 - val_mean_iou: 0.8758\n",
      "Epoch 68/1000\n",
      "584/589 [============================>.] - ETA: 0s - loss: 0.0552 - mean_iou: 0.8759Epoch 00068: val_loss did not improve\n",
      "589/589 [==============================] - 13s 22ms/step - loss: 0.0552 - mean_iou: 0.8759 - val_loss: 0.0828 - val_mean_iou: 0.8760\n",
      "Epoch 69/1000\n",
      "584/589 [============================>.] - ETA: 0s - loss: 0.0556 - mean_iou: 0.8761Epoch 00069: val_loss did not improve\n",
      "589/589 [==============================] - 13s 22ms/step - loss: 0.0554 - mean_iou: 0.8761 - val_loss: 0.0824 - val_mean_iou: 0.8762\n",
      "Epoch 70/1000\n",
      "584/589 [============================>.] - ETA: 0s - loss: 0.0585 - mean_iou: 0.8763Epoch 00070: val_loss did not improve\n",
      "589/589 [==============================] - 13s 22ms/step - loss: 0.0581 - mean_iou: 0.8763 - val_loss: 0.0847 - val_mean_iou: 0.8763\n",
      "Epoch 71/1000\n",
      "584/589 [============================>.] - ETA: 0s - loss: 0.0658 - mean_iou: 0.8763Epoch 00071: val_loss did not improve\n",
      "589/589 [==============================] - 13s 22ms/step - loss: 0.0657 - mean_iou: 0.8763 - val_loss: 0.0793 - val_mean_iou: 0.8763\n",
      "Epoch 72/1000\n",
      "584/589 [============================>.] - ETA: 0s - loss: 0.0575 - mean_iou: 0.8763Epoch 00072: val_loss did not improve\n",
      "589/589 [==============================] - 13s 22ms/step - loss: 0.0574 - mean_iou: 0.8763 - val_loss: 0.0775 - val_mean_iou: 0.8764\n",
      "Epoch 73/1000\n",
      "584/589 [============================>.] - ETA: 0s - loss: 0.0549 - mean_iou: 0.8765Epoch 00073: val_loss did not improve\n",
      "589/589 [==============================] - 13s 22ms/step - loss: 0.0548 - mean_iou: 0.8765 - val_loss: 0.0780 - val_mean_iou: 0.8766\n",
      "Epoch 74/1000\n",
      "584/589 [============================>.] - ETA: 0s - loss: 0.0557 - mean_iou: 0.8766Epoch 00074: val_loss did not improve\n",
      "589/589 [==============================] - 13s 22ms/step - loss: 0.0558 - mean_iou: 0.8767 - val_loss: 0.0766 - val_mean_iou: 0.8767\n",
      "Epoch 75/1000\n",
      "584/589 [============================>.] - ETA: 0s - loss: 0.0564 - mean_iou: 0.8768Epoch 00075: val_loss did not improve\n",
      "589/589 [==============================] - 13s 22ms/step - loss: 0.0562 - mean_iou: 0.8768 - val_loss: 0.0982 - val_mean_iou: 0.8768\n",
      "Epoch 76/1000\n",
      "584/589 [============================>.] - ETA: 0s - loss: 0.0594 - mean_iou: 0.8769Epoch 00076: val_loss did not improve\n",
      "589/589 [==============================] - 13s 22ms/step - loss: 0.0591 - mean_iou: 0.8769 - val_loss: 0.0813 - val_mean_iou: 0.8769\n",
      "Epoch 77/1000\n",
      "584/589 [============================>.] - ETA: 0s - loss: 0.0554 - mean_iou: 0.8770Epoch 00077: val_loss did not improve\n",
      "589/589 [==============================] - 13s 22ms/step - loss: 0.0556 - mean_iou: 0.8770 - val_loss: 0.0756 - val_mean_iou: 0.8770\n",
      "Epoch 78/1000\n",
      "584/589 [============================>.] - ETA: 0s - loss: 0.0557 - mean_iou: 0.8771Epoch 00078: val_loss did not improve\n",
      "589/589 [==============================] - 13s 22ms/step - loss: 0.0555 - mean_iou: 0.8771 - val_loss: 0.0758 - val_mean_iou: 0.8772\n",
      "Epoch 79/1000\n",
      "584/589 [============================>.] - ETA: 0s - loss: 0.0539 - mean_iou: 0.8773Epoch 00079: val_loss did not improve\n",
      "589/589 [==============================] - 13s 22ms/step - loss: 0.0540 - mean_iou: 0.8773 - val_loss: 0.0746 - val_mean_iou: 0.8774\n",
      "Epoch 80/1000\n",
      "584/589 [============================>.] - ETA: 0s - loss: 0.0518 - mean_iou: 0.8775Epoch 00080: val_loss did not improve\n",
      "589/589 [==============================] - 13s 22ms/step - loss: 0.0519 - mean_iou: 0.8775 - val_loss: 0.0767 - val_mean_iou: 0.8776\n",
      "Epoch 81/1000\n",
      "584/589 [============================>.] - ETA: 0s - loss: 0.0537 - mean_iou: 0.8776Epoch 00081: val_loss did not improve\n",
      "589/589 [==============================] - 13s 22ms/step - loss: 0.0536 - mean_iou: 0.8776 - val_loss: 0.0786 - val_mean_iou: 0.8777\n",
      "Epoch 82/1000\n",
      "584/589 [============================>.] - ETA: 0s - loss: 0.0520 - mean_iou: 0.8778Epoch 00082: val_loss did not improve\n",
      "589/589 [==============================] - 13s 22ms/step - loss: 0.0525 - mean_iou: 0.8778 - val_loss: 0.0748 - val_mean_iou: 0.8779\n",
      "Epoch 83/1000\n",
      "584/589 [============================>.] - ETA: 0s - loss: 0.0528 - mean_iou: 0.8780Epoch 00083: val_loss did not improve\n",
      "589/589 [==============================] - 13s 22ms/step - loss: 0.0526 - mean_iou: 0.8780 - val_loss: 0.0798 - val_mean_iou: 0.8781\n",
      "Epoch 84/1000\n",
      "584/589 [============================>.] - ETA: 0s - loss: 0.0526 - mean_iou: 0.8781Epoch 00084: val_loss did not improve\n",
      "589/589 [==============================] - 13s 22ms/step - loss: 0.0524 - mean_iou: 0.8781 - val_loss: 0.0797 - val_mean_iou: 0.8782\n",
      "Epoch 85/1000\n",
      "584/589 [============================>.] - ETA: 0s - loss: 0.0523 - mean_iou: 0.8783Epoch 00085: val_loss did not improve\n",
      "589/589 [==============================] - 13s 22ms/step - loss: 0.0521 - mean_iou: 0.8783 - val_loss: 0.0762 - val_mean_iou: 0.8784\n",
      "Epoch 86/1000\n",
      "584/589 [============================>.] - ETA: 0s - loss: 0.0549 - mean_iou: 0.8785Epoch 00086: val_loss did not improve\n",
      "589/589 [==============================] - 13s 22ms/step - loss: 0.0548 - mean_iou: 0.8785 - val_loss: 0.0830 - val_mean_iou: 0.8786\n",
      "Epoch 00086: early stopping\n"
     ]
    }
   ],
   "source": [
    "# Fit model\n",
    "earlystopper = EarlyStopping(patience=25, verbose=1)\n",
    "checkpointer = ModelCheckpoint(model_path, verbose=1, save_best_only=True)\n",
    "\n",
    "# setup\n",
    "n_epochs  = 1000\n",
    "val_split = 0.12\n",
    "\n",
    "# fitting\n",
    "results = model.fit(X_train, Y_train, \n",
    "                    validation_split=val_split, \n",
    "                    batch_size=8,\n",
    "                    epochs=n_epochs, \n",
    "                    callbacks=[earlystopper, checkpointer])"
   ]
  },
  {
   "cell_type": "markdown",
   "metadata": {
    "run_control": {
     "frozen": false,
     "read_only": false
    }
   },
   "source": [
    "#### Predict on train, val and test"
   ]
  },
  {
   "cell_type": "code",
   "execution_count": 27,
   "metadata": {
    "run_control": {
     "frozen": false,
     "read_only": false
    }
   },
   "outputs": [
    {
     "name": "stdout",
     "output_type": "stream",
     "text": [
      "603/603 [==============================] - 2s 4ms/step\n",
      "67/67 [==============================] - 0s 3ms/step\n",
      "65/65 [==============================] - 0s 3ms/step\n"
     ]
    }
   ],
   "source": [
    "model = load_model(model_path, custom_objects={'mean_iou': mean_iou})\n",
    "preds_train = model.predict(X_train[:int(X_train.shape[0]*0.9)], verbose=1)\n",
    "preds_val = model.predict(X_train[int(X_train.shape[0]*0.9):], verbose=1)\n",
    "preds_test = model.predict(X_test, verbose=1)"
   ]
  },
  {
   "cell_type": "markdown",
   "metadata": {
    "run_control": {
     "frozen": false,
     "read_only": false
    }
   },
   "source": [
    "#### Threshold predictions"
   ]
  },
  {
   "cell_type": "code",
   "execution_count": 28,
   "metadata": {
    "collapsed": true,
    "run_control": {
     "frozen": false,
     "read_only": false
    }
   },
   "outputs": [],
   "source": [
    "thr = 0.50\n",
    "preds_train_t = (preds_train > thr).astype(np.uint8)\n",
    "preds_val_t = (preds_val > thr).astype(np.uint8)\n",
    "preds_test_t = (preds_test > thr).astype(np.uint8)"
   ]
  },
  {
   "cell_type": "markdown",
   "metadata": {
    "run_control": {
     "frozen": false,
     "read_only": false
    }
   },
   "source": [
    "#### Create list of upsampled test masks"
   ]
  },
  {
   "cell_type": "code",
   "execution_count": 29,
   "metadata": {
    "collapsed": true,
    "run_control": {
     "frozen": false,
     "read_only": false
    }
   },
   "outputs": [],
   "source": [
    "preds_test_upsampled = []\n",
    "\n",
    "for i in range(len(preds_test)):\n",
    "    \n",
    "    preds_test_upsampled.append(resize(np.squeeze(preds_test[i]), \n",
    "                                       (sizes_test[i][0], sizes_test[i][1]), \n",
    "                                       mode='constant',\n",
    "                                       preserve_range=True))"
   ]
  },
  {
   "cell_type": "markdown",
   "metadata": {
    "run_control": {
     "frozen": false,
     "read_only": false
    }
   },
   "source": [
    "#### Perform a sanity check on some random training samples"
   ]
  },
  {
   "cell_type": "code",
   "execution_count": 30,
   "metadata": {
    "run_control": {
     "frozen": false,
     "read_only": false
    }
   },
   "outputs": [
    {
     "data": {
      "image/png": "[encoded data removed]",
      "text/plain": [
       "<matplotlib.figure.Figure at 0x2ab4ebddcd90>"
      ]
     },
     "metadata": {},
     "output_type": "display_data"
    }
   ],
   "source": [
    "ix = random.randint(0, len(preds_train_t))\n",
    "\n",
    "plt.figure(figsize=(12,6))\n",
    "\n",
    "plt.subplot(131)\n",
    "imshow(X_train[ix])\n",
    "plt.subplot(132)\n",
    "imshow(np.squeeze(Y_train[ix]))\n",
    "plt.subplot(133)\n",
    "imshow(np.squeeze(preds_train_t[ix]));"
   ]
  },
  {
   "cell_type": "markdown",
   "metadata": {
    "run_control": {
     "frozen": false,
     "read_only": false
    }
   },
   "source": [
    "#### Perform a sanity check on some random validation samples"
   ]
  },
  {
   "cell_type": "code",
   "execution_count": 31,
   "metadata": {
    "run_control": {
     "frozen": false,
     "read_only": false
    }
   },
   "outputs": [
    {
     "data": {
      "image/png": "[encoded data removed]",
      "text/plain": [
       "<matplotlib.figure.Figure at 0x2ab52d562390>"
      ]
     },
     "metadata": {},
     "output_type": "display_data"
    }
   ],
   "source": [
    "ix = random.randint(0, len(preds_val_t))\n",
    "\n",
    "plt.figure(figsize=(12,6))\n",
    "\n",
    "plt.subplot(131)\n",
    "imshow(X_train[int(X_train.shape[0]*0.9):][ix])\n",
    "plt.subplot(132)\n",
    "imshow(np.squeeze(Y_train[int(Y_train.shape[0]*0.9):][ix]))\n",
    "plt.subplot(133)\n",
    "imshow(np.squeeze(preds_val_t[ix]));"
   ]
  },
  {
   "cell_type": "markdown",
   "metadata": {
    "run_control": {
     "frozen": false,
     "read_only": false
    }
   },
   "source": [
    "#### Run-length encoding stolen from https://www.kaggle.com/rakhlin/fast-run-length-encoding-python"
   ]
  },
  {
   "cell_type": "code",
   "execution_count": 32,
   "metadata": {
    "collapsed": true,
    "run_control": {
     "frozen": false,
     "read_only": false
    }
   },
   "outputs": [],
   "source": [
    "def rle_encoding(x):\n",
    "    dots = np.where(x.T.flatten() == 1)[0]\n",
    "    run_lengths = []\n",
    "    prev = -2\n",
    "    for b in dots:\n",
    "        if (b>prev+1): run_lengths.extend((b + 1, 0))\n",
    "        run_lengths[-1] += 1\n",
    "        prev = b\n",
    "    return run_lengths\n",
    "\n",
    "def prob_to_rles(x, cutoff=0.5):\n",
    "    lab_img = label(x > cutoff)\n",
    "    for i in range(1, lab_img.max() + 1):\n",
    "        yield rle_encoding(lab_img == i)"
   ]
  },
  {
   "cell_type": "code",
   "execution_count": 33,
   "metadata": {
    "collapsed": true,
    "run_control": {
     "frozen": false,
     "read_only": false
    }
   },
   "outputs": [],
   "source": [
    "new_test_ids = []\n",
    "rles = []\n",
    "\n",
    "for n, id_ in enumerate(test_ids):\n",
    "    \n",
    "    rle = list(prob_to_rles(preds_test_upsampled[n]))\n",
    "    rles.extend(rle)\n",
    "    new_test_ids.extend([id_] * len(rle))"
   ]
  },
  {
   "cell_type": "markdown",
   "metadata": {
    "run_control": {
     "frozen": false,
     "read_only": false
    }
   },
   "source": [
    "#### Create submission DataFrame"
   ]
  },
  {
   "cell_type": "code",
   "execution_count": 34,
   "metadata": {
    "collapsed": true,
    "run_control": {
     "frozen": false,
     "read_only": false
    }
   },
   "outputs": [],
   "source": [
    "prediction_prefix = 'deeper_unet_'"
   ]
  },
  {
   "cell_type": "code",
   "execution_count": 35,
   "metadata": {
    "run_control": {
     "frozen": false,
     "read_only": false
    }
   },
   "outputs": [
    {
     "name": "stdout",
     "output_type": "stream",
     "text": [
      "Total time 63.1150857329 min\n"
     ]
    }
   ],
   "source": [
    "sub = pd.DataFrame()\n",
    "sub['ImageId'] = new_test_ids\n",
    "sub['EncodedPixels'] = pd.Series(rles).apply(lambda x: ' '.join(str(y) for y in x))\n",
    "\n",
    "fname ='../04.predictions/'+prediction_prefix+str(n_epochs)+' vsplit '+str(val_split)+' seed '+str(seed)+' thr'+str(thr)+'.csv'\n",
    "\n",
    "sub.to_csv(fname, index=False)\n",
    "\n",
    "nm=(time.time() - start_time)/60\n",
    "print (\"Total time %s min\" % nm)"
   ]
  }
 ],
 "metadata": {
  "kernelspec": {
   "display_name": "Anaconda-tf",
   "language": "python",
   "name": "anaconda_tf"
  },
  "language_info": {
   "codemirror_mode": {
    "name": "ipython",
    "version": 2
   },
   "file_extension": ".py",
   "mimetype": "text/x-python",
   "name": "python",
   "nbconvert_exporter": "python",
   "pygments_lexer": "ipython2",
   "version": "2.7.14"
  }
 },
 "nbformat": 4,
 "nbformat_minor": 2
}
