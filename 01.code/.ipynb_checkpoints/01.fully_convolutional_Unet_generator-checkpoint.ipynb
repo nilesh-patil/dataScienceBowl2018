{
 "cells": [
  {
   "cell_type": "code",
   "execution_count": 1,
   "metadata": {
    "run_control": {
     "frozen": false,
     "read_only": false
    }
   },
   "outputs": [
    {
     "name": "stdout",
     "output_type": "stream",
     "text": [
      "Populating the interactive namespace from numpy and matplotlib\n"
     ]
    }
   ],
   "source": [
    "%pylab inline"
   ]
  },
  {
   "cell_type": "code",
   "execution_count": 2,
   "metadata": {
    "run_control": {
     "frozen": false,
     "read_only": false
    }
   },
   "outputs": [
    {
     "name": "stderr",
     "output_type": "stream",
     "text": [
      "Using TensorFlow backend.\n"
     ]
    }
   ],
   "source": [
    "import os\n",
    "import sys\n",
    "import random\n",
    "import warnings\n",
    "\n",
    "import pandas as pd\n",
    "from tqdm import tqdm\n",
    "from itertools import chain\n",
    "from skimage.io import imread, imshow, imread_collection, concatenate_images\n",
    "from skimage.transform import resize\n",
    "from skimage.morphology import label\n",
    "\n",
    "import tensorflow as tf\n",
    "from keras import backend as K\n",
    "from keras.models import Model, load_model\n",
    "from keras.layers import Input, Lambda, Conv2D, Conv2DTranspose, MaxPooling2D\n",
    "from keras.layers.merge import concatenate\n",
    "from keras.callbacks import EarlyStopping, ModelCheckpoint"
   ]
  },
  {
   "cell_type": "code",
   "execution_count": 3,
   "metadata": {
    "collapsed": true,
    "run_control": {
     "frozen": false,
     "read_only": false
    }
   },
   "outputs": [],
   "source": [
    "import time\n",
    "\n",
    "start_time = time.time()\n",
    "tcurrent   = start_time"
   ]
  },
  {
   "cell_type": "code",
   "execution_count": 4,
   "metadata": {
    "collapsed": true,
    "run_control": {
     "frozen": false,
     "read_only": false
    }
   },
   "outputs": [],
   "source": [
    "# Set some parameters\n",
    "IMG_WIDTH = 128\n",
    "IMG_HEIGHT = 128\n",
    "IMG_CHANNELS = 3\n",
    "TRAIN_PATH = '../00.data/extracted/stage1_train/'\n",
    "TEST_PATH = '../00.data/extracted/stage1_test/'\n",
    "\n",
    "warnings.filterwarnings('ignore', category=UserWarning, module='skimage')\n",
    "seed_value = 423 \n",
    "random.seed = seed_value\n",
    "np.random.seed = seed_value"
   ]
  },
  {
   "cell_type": "code",
   "execution_count": 5,
   "metadata": {
    "collapsed": true,
    "run_control": {
     "frozen": false,
     "read_only": false
    }
   },
   "outputs": [],
   "source": [
    "# Get train and test IDs\n",
    "train_ids = next(os.walk(TRAIN_PATH))[1]\n",
    "test_ids = next(os.walk(TEST_PATH))[1]"
   ]
  },
  {
   "cell_type": "code",
   "execution_count": 6,
   "metadata": {
    "collapsed": true,
    "run_control": {
     "frozen": false,
     "read_only": false
    }
   },
   "outputs": [],
   "source": [
    "X_train = np.zeros((len(train_ids), IMG_HEIGHT, IMG_WIDTH, IMG_CHANNELS), dtype=np.uint8)\n",
    "Y_train = np.zeros((len(train_ids), IMG_HEIGHT, IMG_WIDTH, 1), dtype=np.bool)"
   ]
  },
  {
   "cell_type": "code",
   "execution_count": 7,
   "metadata": {
    "run_control": {
     "frozen": false,
     "read_only": false
    }
   },
   "outputs": [
    {
     "name": "stdout",
     "output_type": "stream",
     "text": [
      "Getting and resizing train images and masks ... \n"
     ]
    },
    {
     "name": "stderr",
     "output_type": "stream",
     "text": [
      "100%|██████████| 670/670 [02:09<00:00,  5.16it/s]\n"
     ]
    }
   ],
   "source": [
    "print('Getting and resizing train images and masks ... ')\n",
    "\n",
    "sys.stdout.flush()\n",
    "\n",
    "for n, id_ in tqdm(enumerate(train_ids), total=len(train_ids)):\n",
    "    \n",
    "    path = TRAIN_PATH + id_\n",
    "    img = imread(path + '/images/' + id_ + '.png')[:,:,:IMG_CHANNELS]\n",
    "    img = resize(img, (IMG_HEIGHT, IMG_WIDTH), mode='constant', preserve_range=True)\n",
    "    X_train[n] = img\n",
    "    mask = np.zeros((IMG_HEIGHT, IMG_WIDTH, 1), dtype=np.bool)\n",
    "    \n",
    "    for mask_file in next(os.walk(path + '/masks/'))[2]:\n",
    "        mask_ = imread(path + '/masks/' + mask_file)\n",
    "        mask_ = np.expand_dims(resize(mask_, (IMG_HEIGHT, IMG_WIDTH), mode='constant', \n",
    "                                      preserve_range=True), axis=-1)\n",
    "        mask = np.maximum(mask, mask_)\n",
    "    \n",
    "    Y_train[n] = mask"
   ]
  },
  {
   "cell_type": "code",
   "execution_count": 8,
   "metadata": {
    "collapsed": true,
    "run_control": {
     "frozen": false,
     "read_only": false
    }
   },
   "outputs": [],
   "source": [
    "# Get and resize test images\n",
    "\n",
    "X_test = np.zeros((len(test_ids), IMG_HEIGHT, IMG_WIDTH, IMG_CHANNELS), dtype=np.uint8)\n",
    "\n",
    "sizes_test = []"
   ]
  },
  {
   "cell_type": "code",
   "execution_count": 9,
   "metadata": {
    "run_control": {
     "frozen": false,
     "read_only": false
    }
   },
   "outputs": [
    {
     "name": "stdout",
     "output_type": "stream",
     "text": [
      "Getting and resizing test images ... \n"
     ]
    },
    {
     "name": "stderr",
     "output_type": "stream",
     "text": [
      "100%|██████████| 65/65 [00:00<00:00, 65.89it/s]"
     ]
    },
    {
     "name": "stdout",
     "output_type": "stream",
     "text": [
      "Done!\n"
     ]
    },
    {
     "name": "stderr",
     "output_type": "stream",
     "text": [
      "\n"
     ]
    }
   ],
   "source": [
    "print('Getting and resizing test images ... ')\n",
    "\n",
    "sys.stdout.flush()\n",
    "\n",
    "for n, id_ in tqdm(enumerate(test_ids), total=len(test_ids)):\n",
    "    \n",
    "    path = TEST_PATH + id_\n",
    "    img = imread(path + '/images/' + id_ + '.png')[:,:,:IMG_CHANNELS]\n",
    "    sizes_test.append([img.shape[0], img.shape[1]])\n",
    "    img = resize(img, (IMG_HEIGHT, IMG_WIDTH), mode='constant', preserve_range=True)\n",
    "    X_test[n] = img\n",
    "\n",
    "print('Done!')"
   ]
  },
  {
   "cell_type": "markdown",
   "metadata": {
    "run_control": {
     "frozen": false,
     "read_only": false
    }
   },
   "source": [
    "#### Check if training data looks all right"
   ]
  },
  {
   "cell_type": "code",
   "execution_count": 10,
   "metadata": {
    "run_control": {
     "frozen": false,
     "read_only": false
    }
   },
   "outputs": [
    {
     "data": {
      "image/png": "[encoded data removed]",
      "text/plain": [
       "<matplotlib.figure.Figure at 0x2ac3fa488b10>"
      ]
     },
     "metadata": {},
     "output_type": "display_data"
    }
   ],
   "source": [
    "ix = random.randint(0, len(train_ids))\n",
    "\n",
    "plt.subplot(121)\n",
    "imshow(X_train[ix])\n",
    "plt.subplot(122)\n",
    "imshow(np.squeeze(Y_train[ix]));"
   ]
  },
  {
   "cell_type": "markdown",
   "metadata": {
    "run_control": {
     "frozen": false,
     "read_only": false
    }
   },
   "source": [
    "#### Define IoU metric"
   ]
  },
  {
   "cell_type": "code",
   "execution_count": 11,
   "metadata": {
    "collapsed": true,
    "run_control": {
     "frozen": false,
     "read_only": false
    }
   },
   "outputs": [],
   "source": [
    "def mean_iou(y_true, y_pred):\n",
    "    \n",
    "    prec = []\n",
    "    \n",
    "    for t in np.arange(0.5, 1.0, 0.05):\n",
    "        \n",
    "        y_pred_ = tf.to_int32(y_pred > t)\n",
    "        score, up_opt = tf.metrics.mean_iou(y_true, y_pred_, 2)\n",
    "        K.get_session().run(tf.local_variables_initializer())\n",
    "        \n",
    "        with tf.control_dependencies([up_opt]):\n",
    "            \n",
    "            score = tf.identity(score)\n",
    "            \n",
    "        prec.append(score)\n",
    "        \n",
    "    return K.mean(K.stack(prec), axis=0)"
   ]
  },
  {
   "cell_type": "markdown",
   "metadata": {
    "run_control": {
     "frozen": false,
     "read_only": false
    }
   },
   "source": [
    "### Build U-Net model"
   ]
  },
  {
   "cell_type": "code",
   "execution_count": 12,
   "metadata": {
    "collapsed": true,
    "run_control": {
     "frozen": false,
     "read_only": false
    }
   },
   "outputs": [],
   "source": [
    "import tensorflow as tf"
   ]
  },
  {
   "cell_type": "code",
   "execution_count": 13,
   "metadata": {
    "run_control": {
     "frozen": false,
     "read_only": false
    }
   },
   "outputs": [
    {
     "name": "stdout",
     "output_type": "stream",
     "text": [
      "__________________________________________________________________________________________________\n",
      "Layer (type)                    Output Shape         Param #     Connected to                     \n",
      "==================================================================================================\n",
      "input_1 (InputLayer)            (None, 128, 128, 3)  0                                            \n",
      "__________________________________________________________________________________________________\n",
      "conv2d_1 (Conv2D)               (None, 128, 128, 8)  224         input_1[0][0]                    \n",
      "__________________________________________________________________________________________________\n",
      "conv2d_2 (Conv2D)               (None, 128, 128, 8)  584         conv2d_1[0][0]                   \n",
      "__________________________________________________________________________________________________\n",
      "conv2d_3 (Conv2D)               (None, 128, 128, 8)  584         conv2d_2[0][0]                   \n",
      "__________________________________________________________________________________________________\n",
      "conv2d_4 (Conv2D)               (None, 128, 128, 8)  584         conv2d_3[0][0]                   \n",
      "__________________________________________________________________________________________________\n",
      "conv2d_5 (Conv2D)               (None, 128, 128, 8)  584         conv2d_4[0][0]                   \n",
      "__________________________________________________________________________________________________\n",
      "max_pooling2d_1 (MaxPooling2D)  (None, 64, 64, 8)    0           conv2d_5[0][0]                   \n",
      "__________________________________________________________________________________________________\n",
      "conv2d_6 (Conv2D)               (None, 64, 64, 16)   1168        max_pooling2d_1[0][0]            \n",
      "__________________________________________________________________________________________________\n",
      "conv2d_7 (Conv2D)               (None, 64, 64, 16)   2320        conv2d_6[0][0]                   \n",
      "__________________________________________________________________________________________________\n",
      "conv2d_8 (Conv2D)               (None, 64, 64, 16)   2320        conv2d_7[0][0]                   \n",
      "__________________________________________________________________________________________________\n",
      "conv2d_9 (Conv2D)               (None, 64, 64, 16)   2320        conv2d_8[0][0]                   \n",
      "__________________________________________________________________________________________________\n",
      "conv2d_10 (Conv2D)              (None, 64, 64, 16)   2320        conv2d_9[0][0]                   \n",
      "__________________________________________________________________________________________________\n",
      "max_pooling2d_2 (MaxPooling2D)  (None, 32, 32, 16)   0           conv2d_10[0][0]                  \n",
      "__________________________________________________________________________________________________\n",
      "conv2d_11 (Conv2D)              (None, 32, 32, 32)   4640        max_pooling2d_2[0][0]            \n",
      "__________________________________________________________________________________________________\n",
      "conv2d_12 (Conv2D)              (None, 32, 32, 32)   9248        conv2d_11[0][0]                  \n",
      "__________________________________________________________________________________________________\n",
      "conv2d_13 (Conv2D)              (None, 32, 32, 32)   9248        conv2d_12[0][0]                  \n",
      "__________________________________________________________________________________________________\n",
      "conv2d_14 (Conv2D)              (None, 32, 32, 32)   9248        conv2d_13[0][0]                  \n",
      "__________________________________________________________________________________________________\n",
      "conv2d_15 (Conv2D)              (None, 32, 32, 32)   9248        conv2d_14[0][0]                  \n",
      "__________________________________________________________________________________________________\n",
      "max_pooling2d_3 (MaxPooling2D)  (None, 16, 16, 32)   0           conv2d_15[0][0]                  \n",
      "__________________________________________________________________________________________________\n",
      "conv2d_16 (Conv2D)              (None, 16, 16, 64)   18496       max_pooling2d_3[0][0]            \n",
      "__________________________________________________________________________________________________\n",
      "conv2d_17 (Conv2D)              (None, 16, 16, 64)   36928       conv2d_16[0][0]                  \n",
      "__________________________________________________________________________________________________\n",
      "conv2d_18 (Conv2D)              (None, 16, 16, 64)   36928       conv2d_17[0][0]                  \n",
      "__________________________________________________________________________________________________\n",
      "conv2d_19 (Conv2D)              (None, 16, 16, 64)   36928       conv2d_18[0][0]                  \n",
      "__________________________________________________________________________________________________\n",
      "conv2d_20 (Conv2D)              (None, 16, 16, 64)   36928       conv2d_19[0][0]                  \n",
      "__________________________________________________________________________________________________\n",
      "max_pooling2d_4 (MaxPooling2D)  (None, 8, 8, 64)     0           conv2d_20[0][0]                  \n",
      "__________________________________________________________________________________________________\n",
      "conv2d_21 (Conv2D)              (None, 8, 8, 128)    73856       max_pooling2d_4[0][0]            \n",
      "__________________________________________________________________________________________________\n",
      "conv2d_22 (Conv2D)              (None, 8, 8, 128)    147584      conv2d_21[0][0]                  \n",
      "__________________________________________________________________________________________________\n",
      "conv2d_23 (Conv2D)              (None, 8, 8, 128)    147584      conv2d_22[0][0]                  \n",
      "__________________________________________________________________________________________________\n",
      "conv2d_24 (Conv2D)              (None, 8, 8, 128)    147584      conv2d_23[0][0]                  \n",
      "__________________________________________________________________________________________________\n",
      "conv2d_25 (Conv2D)              (None, 8, 8, 128)    147584      conv2d_24[0][0]                  \n",
      "__________________________________________________________________________________________________\n",
      "conv2d_transpose_1 (Conv2DTrans (None, 16, 16, 64)   32832       conv2d_25[0][0]                  \n",
      "__________________________________________________________________________________________________\n",
      "concatenate_1 (Concatenate)     (None, 16, 16, 128)  0           conv2d_transpose_1[0][0]         \n",
      "                                                                 conv2d_20[0][0]                  \n",
      "__________________________________________________________________________________________________\n",
      "conv2d_26 (Conv2D)              (None, 16, 16, 64)   73792       concatenate_1[0][0]              \n",
      "__________________________________________________________________________________________________\n",
      "conv2d_27 (Conv2D)              (None, 16, 16, 64)   36928       conv2d_26[0][0]                  \n",
      "__________________________________________________________________________________________________\n",
      "conv2d_28 (Conv2D)              (None, 16, 16, 64)   36928       conv2d_27[0][0]                  \n",
      "__________________________________________________________________________________________________\n",
      "conv2d_29 (Conv2D)              (None, 16, 16, 64)   36928       conv2d_28[0][0]                  \n",
      "__________________________________________________________________________________________________\n",
      "conv2d_30 (Conv2D)              (None, 16, 16, 64)   36928       conv2d_29[0][0]                  \n",
      "__________________________________________________________________________________________________\n",
      "conv2d_transpose_2 (Conv2DTrans (None, 32, 32, 32)   8224        conv2d_30[0][0]                  \n",
      "__________________________________________________________________________________________________\n",
      "concatenate_2 (Concatenate)     (None, 32, 32, 64)   0           conv2d_transpose_2[0][0]         \n",
      "                                                                 conv2d_15[0][0]                  \n",
      "__________________________________________________________________________________________________\n",
      "conv2d_31 (Conv2D)              (None, 32, 32, 32)   18464       concatenate_2[0][0]              \n",
      "__________________________________________________________________________________________________\n",
      "conv2d_32 (Conv2D)              (None, 32, 32, 32)   9248        conv2d_31[0][0]                  \n",
      "__________________________________________________________________________________________________\n",
      "conv2d_33 (Conv2D)              (None, 32, 32, 32)   9248        conv2d_32[0][0]                  \n",
      "__________________________________________________________________________________________________\n",
      "conv2d_34 (Conv2D)              (None, 32, 32, 32)   9248        conv2d_33[0][0]                  \n",
      "__________________________________________________________________________________________________\n",
      "conv2d_35 (Conv2D)              (None, 32, 32, 32)   9248        conv2d_34[0][0]                  \n",
      "__________________________________________________________________________________________________\n",
      "conv2d_transpose_3 (Conv2DTrans (None, 64, 64, 16)   2064        conv2d_35[0][0]                  \n",
      "__________________________________________________________________________________________________\n",
      "concatenate_3 (Concatenate)     (None, 64, 64, 32)   0           conv2d_transpose_3[0][0]         \n",
      "                                                                 conv2d_10[0][0]                  \n",
      "__________________________________________________________________________________________________\n",
      "conv2d_36 (Conv2D)              (None, 64, 64, 16)   4624        concatenate_3[0][0]              \n",
      "__________________________________________________________________________________________________\n",
      "conv2d_37 (Conv2D)              (None, 64, 64, 16)   2320        conv2d_36[0][0]                  \n",
      "__________________________________________________________________________________________________\n",
      "conv2d_38 (Conv2D)              (None, 64, 64, 16)   2320        conv2d_37[0][0]                  \n",
      "__________________________________________________________________________________________________\n",
      "conv2d_39 (Conv2D)              (None, 64, 64, 16)   2320        conv2d_38[0][0]                  \n",
      "__________________________________________________________________________________________________\n",
      "conv2d_40 (Conv2D)              (None, 64, 64, 16)   2320        conv2d_39[0][0]                  \n",
      "__________________________________________________________________________________________________\n",
      "conv2d_transpose_4 (Conv2DTrans (None, 128, 128, 8)  520         conv2d_40[0][0]                  \n",
      "__________________________________________________________________________________________________\n",
      "concatenate_4 (Concatenate)     (None, 128, 128, 16) 0           conv2d_transpose_4[0][0]         \n",
      "                                                                 conv2d_5[0][0]                   \n",
      "__________________________________________________________________________________________________\n",
      "conv2d_41 (Conv2D)              (None, 128, 128, 8)  1160        concatenate_4[0][0]              \n",
      "__________________________________________________________________________________________________\n",
      "conv2d_42 (Conv2D)              (None, 128, 128, 8)  584         conv2d_41[0][0]                  \n",
      "__________________________________________________________________________________________________\n",
      "conv2d_43 (Conv2D)              (None, 128, 128, 8)  584         conv2d_42[0][0]                  \n",
      "__________________________________________________________________________________________________\n",
      "conv2d_44 (Conv2D)              (None, 128, 128, 8)  584         conv2d_43[0][0]                  \n",
      "__________________________________________________________________________________________________\n",
      "conv2d_45 (Conv2D)              (None, 128, 128, 8)  584         conv2d_44[0][0]                  \n",
      "__________________________________________________________________________________________________\n",
      "conv2d_46 (Conv2D)              (None, 128, 128, 1)  9           conv2d_45[0][0]                  \n",
      "==================================================================================================\n",
      "Total params: 1,223,049\n",
      "Trainable params: 1,223,049\n",
      "Non-trainable params: 0\n",
      "__________________________________________________________________________________________________\n"
     ]
    }
   ],
   "source": [
    "K.clear_session()\n",
    "\n",
    "inputs = Input((IMG_HEIGHT, IMG_WIDTH, IMG_CHANNELS))\n",
    "\n",
    "c1 = Conv2D(8, (3, 3), activation='relu', padding='same') (inputs)\n",
    "c1 = Conv2D(8, (3, 3), activation='relu', padding='same') (c1)\n",
    "c1 = Conv2D(8, (3, 3), activation='relu', padding='same') (c1)\n",
    "c1 = Conv2D(8, (3, 3), activation='relu', padding='same') (c1)\n",
    "c1 = Conv2D(8, (3, 3), activation='relu', padding='same') (c1)\n",
    "p1 = MaxPooling2D((2, 2)) (c1)\n",
    "\n",
    "c2 = Conv2D(16, (3, 3), activation='relu', padding='same') (p1)\n",
    "c2 = Conv2D(16, (3, 3), activation='relu', padding='same') (c2)\n",
    "c2 = Conv2D(16, (3, 3), activation='relu', padding='same') (c2)\n",
    "c2 = Conv2D(16, (3, 3), activation='relu', padding='same') (c2)\n",
    "c2 = Conv2D(16, (3, 3), activation='relu', padding='same') (c2)\n",
    "p2 = MaxPooling2D((2, 2)) (c2)\n",
    "\n",
    "c3 = Conv2D(32, (3, 3), activation='relu', padding='same') (p2)\n",
    "c3 = Conv2D(32, (3, 3), activation='relu', padding='same') (c3)\n",
    "c3 = Conv2D(32, (3, 3), activation='relu', padding='same') (c3)\n",
    "c3 = Conv2D(32, (3, 3), activation='relu', padding='same') (c3)\n",
    "c3 = Conv2D(32, (3, 3), activation='relu', padding='same') (c3)\n",
    "p3 = MaxPooling2D((2, 2)) (c3)\n",
    "\n",
    "c4 = Conv2D(64, (3, 3), activation='relu', padding='same') (p3)\n",
    "c4 = Conv2D(64, (3, 3), activation='relu', padding='same') (c4)\n",
    "c4 = Conv2D(64, (3, 3), activation='relu', padding='same') (c4)\n",
    "c4 = Conv2D(64, (3, 3), activation='relu', padding='same') (c4)\n",
    "c4 = Conv2D(64, (3, 3), activation='relu', padding='same') (c4)\n",
    "p4 = MaxPooling2D(pool_size=(2, 2)) (c4)\n",
    "\n",
    "c5 = Conv2D(128, (3, 3), activation='relu', padding='same') (p4)\n",
    "c5 = Conv2D(128, (3, 3), activation='relu', padding='same') (c5)\n",
    "c5 = Conv2D(128, (3, 3), activation='relu', padding='same') (c5)\n",
    "c5 = Conv2D(128, (3, 3), activation='relu', padding='same') (c5)\n",
    "c5 = Conv2D(128, (3, 3), activation='relu', padding='same') (c5)\n",
    "\n",
    "u6 = Conv2DTranspose(64, (2, 2), strides=(2, 2), padding='same') (c5)\n",
    "u6 = concatenate([u6, c4])\n",
    "c6 = Conv2D(64, (3, 3), activation='relu', padding='same') (u6)\n",
    "c6 = Conv2D(64, (3, 3), activation='relu', padding='same') (c6)\n",
    "c6 = Conv2D(64, (3, 3), activation='relu', padding='same') (c6)\n",
    "c6 = Conv2D(64, (3, 3), activation='relu', padding='same') (c6)\n",
    "c6 = Conv2D(64, (3, 3), activation='relu', padding='same') (c6)\n",
    "\n",
    "u7 = Conv2DTranspose(32, (2, 2), strides=(2, 2), padding='same') (c6)\n",
    "u7 = concatenate([u7, c3])\n",
    "c7 = Conv2D(32, (3, 3), activation='relu', padding='same') (u7)\n",
    "c7 = Conv2D(32, (3, 3), activation='relu', padding='same') (c7)\n",
    "c7 = Conv2D(32, (3, 3), activation='relu', padding='same') (c7)\n",
    "c7 = Conv2D(32, (3, 3), activation='relu', padding='same') (c7)\n",
    "c7 = Conv2D(32, (3, 3), activation='relu', padding='same') (c7)\n",
    "\n",
    "u8 = Conv2DTranspose(16, (2, 2), strides=(2, 2), padding='same') (c7)\n",
    "u8 = concatenate([u8, c2])\n",
    "c8 = Conv2D(16, (3, 3), activation='relu', padding='same') (u8)\n",
    "c8 = Conv2D(16, (3, 3), activation='relu', padding='same') (c8)\n",
    "c8 = Conv2D(16, (3, 3), activation='relu', padding='same') (c8)\n",
    "c8 = Conv2D(16, (3, 3), activation='relu', padding='same') (c8)\n",
    "c8 = Conv2D(16, (3, 3), activation='relu', padding='same') (c8)\n",
    "\n",
    "u9 = Conv2DTranspose(8, (2, 2), strides=(2, 2), padding='same') (c8)\n",
    "u9 = concatenate([u9, c1], axis=3)\n",
    "c9 = Conv2D(8, (3, 3), activation='relu', padding='same') (u9)\n",
    "c9 = Conv2D(8, (3, 3), activation='relu', padding='same') (c9)\n",
    "c9 = Conv2D(8, (3, 3), activation='relu', padding='same') (c9)\n",
    "c9 = Conv2D(8, (3, 3), activation='relu', padding='same') (c9)\n",
    "c9 = Conv2D(8, (3, 3), activation='relu', padding='same') (c9)\n",
    "\n",
    "outputs = Conv2D(1, (1, 1), activation='sigmoid') (c9)\n",
    "\n",
    "model = Model(inputs=[inputs], outputs=[outputs])\n",
    "\n",
    "model.summary()"
   ]
  },
  {
   "cell_type": "code",
   "execution_count": 14,
   "metadata": {
    "collapsed": true,
    "run_control": {
     "frozen": false,
     "read_only": false
    }
   },
   "outputs": [],
   "source": [
    "model.compile(optimizer='adam', \n",
    "              loss='binary_crossentropy', \n",
    "              metrics=[mean_iou])"
   ]
  },
  {
   "cell_type": "code",
   "execution_count": 15,
   "metadata": {
    "collapsed": true,
    "run_control": {
     "frozen": false,
     "read_only": false
    }
   },
   "outputs": [],
   "source": [
    "model_path = '../02.model/deeper_unet.h5'"
   ]
  },
  {
   "cell_type": "code",
   "execution_count": 19,
   "metadata": {
    "collapsed": true
   },
   "outputs": [],
   "source": [
    "from keras.preprocessing.image import random_rotation,random_zoom,random_shift"
   ]
  },
  {
   "cell_type": "markdown",
   "metadata": {},
   "source": [
    "trainGen,maskGen = "
   ]
  },
  {
   "cell_type": "code",
   "execution_count": 38,
   "metadata": {
    "run_control": {
     "frozen": false,
     "read_only": false
    },
    "scrolled": true
   },
   "outputs": [
    {
     "name": "stdout",
     "output_type": "stream",
     "text": [
      "Train on 589 samples, validate on 81 samples\n",
      "Epoch 1/1000\n",
      "584/589 [============================>.] - ETA: 0s - loss: 0.5359 - mean_iou: 0.4176Epoch 00001: val_loss improved from inf to 0.45494, saving model to ../02.model/deeper_unet.h5\n",
      "589/589 [==============================] - 18s 31ms/step - loss: 0.5347 - mean_iou: 0.4177 - val_loss: 0.4549 - val_mean_iou: 0.4243\n",
      "Epoch 2/1000\n",
      "584/589 [============================>.] - ETA: 0s - loss: 0.3458 - mean_iou: 0.4237Epoch 00002: val_loss improved from 0.45494 to 0.33672, saving model to ../02.model/deeper_unet.h5\n",
      "589/589 [==============================] - 13s 22ms/step - loss: 0.3449 - mean_iou: 0.4238 - val_loss: 0.3367 - val_mean_iou: 0.4239\n",
      "Epoch 3/1000\n",
      "584/589 [============================>.] - ETA: 0s - loss: 0.2437 - mean_iou: 0.4273Epoch 00003: val_loss improved from 0.33672 to 0.26101, saving model to ../02.model/deeper_unet.h5\n",
      "589/589 [==============================] - 13s 22ms/step - loss: 0.2438 - mean_iou: 0.4274 - val_loss: 0.2610 - val_mean_iou: 0.4396\n",
      "Epoch 4/1000\n",
      "584/589 [============================>.] - ETA: 0s - loss: 0.1851 - mean_iou: 0.4586Epoch 00004: val_loss improved from 0.26101 to 0.17257, saving model to ../02.model/deeper_unet.h5\n",
      "589/589 [==============================] - 13s 22ms/step - loss: 0.1856 - mean_iou: 0.4588 - val_loss: 0.1726 - val_mean_iou: 0.4864\n",
      "Epoch 5/1000\n",
      "584/589 [============================>.] - ETA: 0s - loss: 0.1285 - mean_iou: 0.5147Epoch 00005: val_loss improved from 0.17257 to 0.13855, saving model to ../02.model/deeper_unet.h5\n",
      "589/589 [==============================] - 13s 22ms/step - loss: 0.1286 - mean_iou: 0.5149 - val_loss: 0.1385 - val_mean_iou: 0.5417\n",
      "Epoch 6/1000\n",
      "584/589 [============================>.] - ETA: 0s - loss: 0.1126 - mean_iou: 0.5648Epoch 00006: val_loss improved from 0.13855 to 0.12909, saving model to ../02.model/deeper_unet.h5\n",
      "589/589 [==============================] - 13s 22ms/step - loss: 0.1122 - mean_iou: 0.5649 - val_loss: 0.1291 - val_mean_iou: 0.5840\n",
      "Epoch 7/1000\n",
      "584/589 [============================>.] - ETA: 0s - loss: 0.1114 - mean_iou: 0.6003Epoch 00007: val_loss improved from 0.12909 to 0.12603, saving model to ../02.model/deeper_unet.h5\n",
      "589/589 [==============================] - 13s 22ms/step - loss: 0.1109 - mean_iou: 0.6004 - val_loss: 0.1260 - val_mean_iou: 0.6143\n",
      "Epoch 8/1000\n",
      "584/589 [============================>.] - ETA: 0s - loss: 0.1004 - mean_iou: 0.6265Epoch 00008: val_loss improved from 0.12603 to 0.12243, saving model to ../02.model/deeper_unet.h5\n",
      "589/589 [==============================] - 13s 22ms/step - loss: 0.1007 - mean_iou: 0.6266 - val_loss: 0.1224 - val_mean_iou: 0.6386\n",
      "Epoch 9/1000\n",
      "584/589 [============================>.] - ETA: 0s - loss: 0.0930 - mean_iou: 0.6486Epoch 00009: val_loss improved from 0.12243 to 0.10552, saving model to ../02.model/deeper_unet.h5\n",
      "589/589 [==============================] - 13s 22ms/step - loss: 0.0931 - mean_iou: 0.6486 - val_loss: 0.1055 - val_mean_iou: 0.6591\n",
      "Epoch 10/1000\n",
      "584/589 [============================>.] - ETA: 0s - loss: 0.0888 - mean_iou: 0.6680Epoch 00010: val_loss did not improve\n",
      "589/589 [==============================] - 13s 22ms/step - loss: 0.0888 - mean_iou: 0.6681 - val_loss: 0.1163 - val_mean_iou: 0.6766\n",
      "Epoch 11/1000\n",
      "584/589 [============================>.] - ETA: 0s - loss: 0.0972 - mean_iou: 0.6834Epoch 00011: val_loss did not improve\n",
      "589/589 [==============================] - 13s 22ms/step - loss: 0.0973 - mean_iou: 0.6834 - val_loss: 0.1086 - val_mean_iou: 0.6896\n",
      "Epoch 12/1000\n",
      "584/589 [============================>.] - ETA: 0s - loss: 0.0857 - mean_iou: 0.6959Epoch 00012: val_loss did not improve\n",
      "589/589 [==============================] - 13s 22ms/step - loss: 0.0857 - mean_iou: 0.6960 - val_loss: 0.1063 - val_mean_iou: 0.7020\n",
      "Epoch 13/1000\n",
      "584/589 [============================>.] - ETA: 0s - loss: 0.0836 - mean_iou: 0.7074Epoch 00013: val_loss improved from 0.10552 to 0.10067, saving model to ../02.model/deeper_unet.h5\n",
      "589/589 [==============================] - 13s 22ms/step - loss: 0.0831 - mean_iou: 0.7074 - val_loss: 0.1007 - val_mean_iou: 0.7129\n",
      "Epoch 14/1000\n",
      "584/589 [============================>.] - ETA: 0s - loss: 0.0843 - mean_iou: 0.7178Epoch 00014: val_loss did not improve\n",
      "589/589 [==============================] - 13s 22ms/step - loss: 0.0840 - mean_iou: 0.7179 - val_loss: 0.1070 - val_mean_iou: 0.7223\n",
      "Epoch 15/1000\n",
      "584/589 [============================>.] - ETA: 0s - loss: 0.0802 - mean_iou: 0.7268Epoch 00015: val_loss improved from 0.10067 to 0.09920, saving model to ../02.model/deeper_unet.h5\n",
      "589/589 [==============================] - 13s 22ms/step - loss: 0.0800 - mean_iou: 0.7269 - val_loss: 0.0992 - val_mean_iou: 0.7309\n",
      "Epoch 16/1000\n",
      "584/589 [============================>.] - ETA: 0s - loss: 0.0807 - mean_iou: 0.7345Epoch 00016: val_loss did not improve\n",
      "589/589 [==============================] - 13s 22ms/step - loss: 0.0807 - mean_iou: 0.7346 - val_loss: 0.1015 - val_mean_iou: 0.7379\n",
      "Epoch 17/1000\n",
      "584/589 [============================>.] - ETA: 0s - loss: 0.0837 - mean_iou: 0.7408Epoch 00017: val_loss improved from 0.09920 to 0.09516, saving model to ../02.model/deeper_unet.h5\n",
      "589/589 [==============================] - 13s 22ms/step - loss: 0.0834 - mean_iou: 0.7409 - val_loss: 0.0952 - val_mean_iou: 0.7439\n",
      "Epoch 18/1000\n",
      "584/589 [============================>.] - ETA: 0s - loss: 0.0781 - mean_iou: 0.7471Epoch 00018: val_loss improved from 0.09516 to 0.09372, saving model to ../02.model/deeper_unet.h5\n",
      "589/589 [==============================] - 13s 22ms/step - loss: 0.0778 - mean_iou: 0.7471 - val_loss: 0.0937 - val_mean_iou: 0.7500\n",
      "Epoch 19/1000\n",
      "584/589 [============================>.] - ETA: 0s - loss: 0.0763 - mean_iou: 0.7527Epoch 00019: val_loss did not improve\n",
      "589/589 [==============================] - 13s 22ms/step - loss: 0.0766 - mean_iou: 0.7528 - val_loss: 0.0984 - val_mean_iou: 0.7555\n",
      "Epoch 20/1000\n",
      "584/589 [============================>.] - ETA: 0s - loss: 0.0749 - mean_iou: 0.7581Epoch 00020: val_loss improved from 0.09372 to 0.09339, saving model to ../02.model/deeper_unet.h5\n",
      "589/589 [==============================] - 13s 22ms/step - loss: 0.0751 - mean_iou: 0.7582 - val_loss: 0.0934 - val_mean_iou: 0.7607\n",
      "Epoch 21/1000\n",
      "584/589 [============================>.] - ETA: 0s - loss: 0.0765 - mean_iou: 0.7630Epoch 00021: val_loss improved from 0.09339 to 0.09259, saving model to ../02.model/deeper_unet.h5\n",
      "589/589 [==============================] - 13s 22ms/step - loss: 0.0764 - mean_iou: 0.7631 - val_loss: 0.0926 - val_mean_iou: 0.7652\n",
      "Epoch 22/1000\n",
      "584/589 [============================>.] - ETA: 0s - loss: 0.0766 - mean_iou: 0.7673Epoch 00022: val_loss improved from 0.09259 to 0.08974, saving model to ../02.model/deeper_unet.h5\n",
      "589/589 [==============================] - 13s 22ms/step - loss: 0.0767 - mean_iou: 0.7673 - val_loss: 0.0897 - val_mean_iou: 0.7693\n",
      "Epoch 23/1000\n",
      "584/589 [============================>.] - ETA: 0s - loss: 0.0755 - mean_iou: 0.7713Epoch 00023: val_loss did not improve\n",
      "589/589 [==============================] - 13s 22ms/step - loss: 0.0756 - mean_iou: 0.7713 - val_loss: 0.0947 - val_mean_iou: 0.7732\n",
      "Epoch 24/1000\n",
      "584/589 [============================>.] - ETA: 0s - loss: 0.0749 - mean_iou: 0.7750Epoch 00024: val_loss improved from 0.08974 to 0.08910, saving model to ../02.model/deeper_unet.h5\n",
      "589/589 [==============================] - 13s 22ms/step - loss: 0.0750 - mean_iou: 0.7750 - val_loss: 0.0891 - val_mean_iou: 0.7767\n",
      "Epoch 25/1000\n",
      "584/589 [============================>.] - ETA: 0s - loss: 0.0749 - mean_iou: 0.7782Epoch 00025: val_loss did not improve\n",
      "589/589 [==============================] - 13s 22ms/step - loss: 0.0748 - mean_iou: 0.7782 - val_loss: 0.0901 - val_mean_iou: 0.7798\n",
      "Epoch 26/1000\n",
      "584/589 [============================>.] - ETA: 0s - loss: 0.0722 - mean_iou: 0.7814Epoch 00026: val_loss improved from 0.08910 to 0.08843, saving model to ../02.model/deeper_unet.h5\n",
      "589/589 [==============================] - 13s 22ms/step - loss: 0.0723 - mean_iou: 0.7814 - val_loss: 0.0884 - val_mean_iou: 0.7831\n",
      "Epoch 27/1000\n"
     ]
    },
    {
     "name": "stdout",
     "output_type": "stream",
     "text": [
      "584/589 [============================>.] - ETA: 0s - loss: 0.0720 - mean_iou: 0.7846Epoch 00027: val_loss improved from 0.08843 to 0.08747, saving model to ../02.model/deeper_unet.h5\n",
      "589/589 [==============================] - 13s 22ms/step - loss: 0.0718 - mean_iou: 0.7846 - val_loss: 0.0875 - val_mean_iou: 0.7861\n",
      "Epoch 28/1000\n",
      "584/589 [============================>.] - ETA: 0s - loss: 0.0733 - mean_iou: 0.7873Epoch 00028: val_loss did not improve\n",
      "589/589 [==============================] - 13s 22ms/step - loss: 0.0734 - mean_iou: 0.7873 - val_loss: 0.0901 - val_mean_iou: 0.7887\n",
      "Epoch 29/1000\n",
      "584/589 [============================>.] - ETA: 0s - loss: 0.0728 - mean_iou: 0.7901Epoch 00029: val_loss did not improve\n",
      "589/589 [==============================] - 13s 22ms/step - loss: 0.0728 - mean_iou: 0.7901 - val_loss: 0.1105 - val_mean_iou: 0.7913\n",
      "Epoch 30/1000\n",
      "584/589 [============================>.] - ETA: 0s - loss: 0.0735 - mean_iou: 0.7924Epoch 00030: val_loss improved from 0.08747 to 0.08638, saving model to ../02.model/deeper_unet.h5\n",
      "589/589 [==============================] - 13s 22ms/step - loss: 0.0734 - mean_iou: 0.7924 - val_loss: 0.0864 - val_mean_iou: 0.7936\n",
      "Epoch 31/1000\n",
      "584/589 [============================>.] - ETA: 0s - loss: 0.0740 - mean_iou: 0.7946Epoch 00031: val_loss did not improve\n",
      "589/589 [==============================] - 13s 22ms/step - loss: 0.0739 - mean_iou: 0.7946 - val_loss: 0.0951 - val_mean_iou: 0.7957\n",
      "Epoch 32/1000\n",
      "584/589 [============================>.] - ETA: 0s - loss: 0.0740 - mean_iou: 0.7967Epoch 00032: val_loss did not improve\n",
      "589/589 [==============================] - 13s 22ms/step - loss: 0.0740 - mean_iou: 0.7967 - val_loss: 0.0877 - val_mean_iou: 0.7977\n",
      "Epoch 33/1000\n",
      "584/589 [============================>.] - ETA: 0s - loss: 0.0700 - mean_iou: 0.7988Epoch 00033: val_loss did not improve\n",
      "589/589 [==============================] - 13s 22ms/step - loss: 0.0700 - mean_iou: 0.7988 - val_loss: 0.0879 - val_mean_iou: 0.7998\n",
      "Epoch 34/1000\n",
      "584/589 [============================>.] - ETA: 0s - loss: 0.0708 - mean_iou: 0.8008Epoch 00034: val_loss did not improve\n",
      "589/589 [==============================] - 13s 22ms/step - loss: 0.0708 - mean_iou: 0.8008 - val_loss: 0.0874 - val_mean_iou: 0.8018\n",
      "Epoch 35/1000\n",
      "584/589 [============================>.] - ETA: 0s - loss: 0.0721 - mean_iou: 0.8026Epoch 00035: val_loss improved from 0.08638 to 0.08299, saving model to ../02.model/deeper_unet.h5\n",
      "589/589 [==============================] - 13s 22ms/step - loss: 0.0717 - mean_iou: 0.8026 - val_loss: 0.0830 - val_mean_iou: 0.8035\n",
      "Epoch 36/1000\n",
      "584/589 [============================>.] - ETA: 0s - loss: 0.0690 - mean_iou: 0.8045Epoch 00036: val_loss did not improve\n",
      "589/589 [==============================] - 13s 22ms/step - loss: 0.0689 - mean_iou: 0.8045 - val_loss: 0.0836 - val_mean_iou: 0.8054\n",
      "Epoch 37/1000\n",
      "584/589 [============================>.] - ETA: 0s - loss: 0.0688 - mean_iou: 0.8062Epoch 00037: val_loss did not improve\n",
      "589/589 [==============================] - 13s 22ms/step - loss: 0.0684 - mean_iou: 0.8062 - val_loss: 0.0869 - val_mean_iou: 0.8071\n",
      "Epoch 38/1000\n",
      "584/589 [============================>.] - ETA: 0s - loss: 0.0690 - mean_iou: 0.8079Epoch 00038: val_loss did not improve\n",
      "589/589 [==============================] - 13s 22ms/step - loss: 0.0697 - mean_iou: 0.8079 - val_loss: 0.0836 - val_mean_iou: 0.8087\n",
      "Epoch 39/1000\n",
      "584/589 [============================>.] - ETA: 0s - loss: 0.0686 - mean_iou: 0.8095Epoch 00039: val_loss did not improve\n",
      "589/589 [==============================] - 13s 22ms/step - loss: 0.0686 - mean_iou: 0.8095 - val_loss: 0.0833 - val_mean_iou: 0.8103\n",
      "Epoch 40/1000\n",
      "584/589 [============================>.] - ETA: 0s - loss: 0.0682 - mean_iou: 0.8110Epoch 00040: val_loss did not improve\n",
      "589/589 [==============================] - 13s 22ms/step - loss: 0.0680 - mean_iou: 0.8110 - val_loss: 0.0877 - val_mean_iou: 0.8117\n",
      "Epoch 41/1000\n",
      "584/589 [============================>.] - ETA: 0s - loss: 0.0685 - mean_iou: 0.8124Epoch 00041: val_loss did not improve\n",
      "589/589 [==============================] - 13s 22ms/step - loss: 0.0686 - mean_iou: 0.8124 - val_loss: 0.0855 - val_mean_iou: 0.8131\n",
      "Epoch 42/1000\n",
      "584/589 [============================>.] - ETA: 0s - loss: 0.0660 - mean_iou: 0.8138Epoch 00042: val_loss did not improve\n",
      "589/589 [==============================] - 13s 22ms/step - loss: 0.0660 - mean_iou: 0.8138 - val_loss: 0.0845 - val_mean_iou: 0.8144\n",
      "Epoch 43/1000\n",
      "584/589 [============================>.] - ETA: 0s - loss: 0.0674 - mean_iou: 0.8150Epoch 00043: val_loss did not improve\n",
      "589/589 [==============================] - 13s 22ms/step - loss: 0.0678 - mean_iou: 0.8150 - val_loss: 0.0840 - val_mean_iou: 0.8157\n",
      "Epoch 44/1000\n",
      "584/589 [============================>.] - ETA: 0s - loss: 0.0652 - mean_iou: 0.8163Epoch 00044: val_loss improved from 0.08299 to 0.08206, saving model to ../02.model/deeper_unet.h5\n",
      "589/589 [==============================] - 13s 22ms/step - loss: 0.0649 - mean_iou: 0.8163 - val_loss: 0.0821 - val_mean_iou: 0.8170\n",
      "Epoch 45/1000\n",
      "584/589 [============================>.] - ETA: 0s - loss: 0.0664 - mean_iou: 0.8176Epoch 00045: val_loss did not improve\n",
      "589/589 [==============================] - 13s 22ms/step - loss: 0.0661 - mean_iou: 0.8176 - val_loss: 0.0843 - val_mean_iou: 0.8182\n",
      "Epoch 46/1000\n",
      "584/589 [============================>.] - ETA: 0s - loss: 0.0686 - mean_iou: 0.8188Epoch 00046: val_loss did not improve\n",
      "589/589 [==============================] - 13s 22ms/step - loss: 0.0683 - mean_iou: 0.8188 - val_loss: 0.0876 - val_mean_iou: 0.8193\n",
      "Epoch 47/1000\n",
      "584/589 [============================>.] - ETA: 0s - loss: 0.0677 - mean_iou: 0.8198Epoch 00047: val_loss did not improve\n",
      "589/589 [==============================] - 13s 22ms/step - loss: 0.0675 - mean_iou: 0.8199 - val_loss: 0.0855 - val_mean_iou: 0.8203\n",
      "Epoch 48/1000\n",
      "584/589 [============================>.] - ETA: 0s - loss: 0.0643 - mean_iou: 0.8209Epoch 00048: val_loss did not improve\n",
      "589/589 [==============================] - 13s 22ms/step - loss: 0.0646 - mean_iou: 0.8209 - val_loss: 0.0847 - val_mean_iou: 0.8214\n",
      "Epoch 49/1000\n",
      "584/589 [============================>.] - ETA: 0s - loss: 0.0661 - mean_iou: 0.8219Epoch 00049: val_loss improved from 0.08206 to 0.07724, saving model to ../02.model/deeper_unet.h5\n",
      "589/589 [==============================] - 13s 22ms/step - loss: 0.0661 - mean_iou: 0.8219 - val_loss: 0.0772 - val_mean_iou: 0.8224\n",
      "Epoch 50/1000\n",
      "584/589 [============================>.] - ETA: 0s - loss: 0.0655 - mean_iou: 0.8229Epoch 00050: val_loss did not improve\n",
      "589/589 [==============================] - 13s 22ms/step - loss: 0.0656 - mean_iou: 0.8229 - val_loss: 0.0811 - val_mean_iou: 0.8234\n",
      "Epoch 51/1000\n",
      "584/589 [============================>.] - ETA: 0s - loss: 0.0654 - mean_iou: 0.8239Epoch 00051: val_loss did not improve\n",
      "589/589 [==============================] - 13s 22ms/step - loss: 0.0656 - mean_iou: 0.8239 - val_loss: 0.0795 - val_mean_iou: 0.8244\n",
      "Epoch 52/1000\n",
      "584/589 [============================>.] - ETA: 0s - loss: 0.0643 - mean_iou: 0.8248Epoch 00052: val_loss did not improve\n",
      "589/589 [==============================] - 13s 22ms/step - loss: 0.0642 - mean_iou: 0.8248 - val_loss: 0.0788 - val_mean_iou: 0.8253\n",
      "Epoch 53/1000\n",
      "584/589 [============================>.] - ETA: 0s - loss: 0.0639 - mean_iou: 0.8258Epoch 00053: val_loss did not improve\n",
      "589/589 [==============================] - 13s 22ms/step - loss: 0.0639 - mean_iou: 0.8258 - val_loss: 0.0798 - val_mean_iou: 0.8263\n",
      "Epoch 54/1000\n",
      "584/589 [============================>.] - ETA: 0s - loss: 0.0659 - mean_iou: 0.8267Epoch 00054: val_loss did not improve\n",
      "589/589 [==============================] - 13s 22ms/step - loss: 0.0658 - mean_iou: 0.8267 - val_loss: 0.0811 - val_mean_iou: 0.8271\n",
      "Epoch 55/1000\n",
      "584/589 [============================>.] - ETA: 0s - loss: 0.0638 - mean_iou: 0.8275Epoch 00055: val_loss did not improve\n",
      "589/589 [==============================] - 13s 22ms/step - loss: 0.0634 - mean_iou: 0.8275 - val_loss: 0.0804 - val_mean_iou: 0.8279\n",
      "Epoch 56/1000\n",
      "584/589 [============================>.] - ETA: 0s - loss: 0.0650 - mean_iou: 0.8283Epoch 00056: val_loss did not improve\n",
      "589/589 [==============================] - 13s 22ms/step - loss: 0.0648 - mean_iou: 0.8283 - val_loss: 0.0807 - val_mean_iou: 0.8287\n"
     ]
    },
    {
     "name": "stdout",
     "output_type": "stream",
     "text": [
      "Epoch 57/1000\n",
      "584/589 [============================>.] - ETA: 0s - loss: 0.0646 - mean_iou: 0.8291Epoch 00057: val_loss did not improve\n",
      "589/589 [==============================] - 13s 22ms/step - loss: 0.0646 - mean_iou: 0.8291 - val_loss: 0.0817 - val_mean_iou: 0.8295\n",
      "Epoch 58/1000\n",
      "584/589 [============================>.] - ETA: 0s - loss: 0.0645 - mean_iou: 0.8298Epoch 00058: val_loss did not improve\n",
      "589/589 [==============================] - 13s 22ms/step - loss: 0.0646 - mean_iou: 0.8298 - val_loss: 0.0788 - val_mean_iou: 0.8302\n",
      "Epoch 59/1000\n",
      "584/589 [============================>.] - ETA: 0s - loss: 0.0636 - mean_iou: 0.8305Epoch 00059: val_loss did not improve\n",
      "589/589 [==============================] - 13s 22ms/step - loss: 0.0636 - mean_iou: 0.8306 - val_loss: 0.0808 - val_mean_iou: 0.8309\n",
      "Epoch 60/1000\n",
      "584/589 [============================>.] - ETA: 0s - loss: 0.0620 - mean_iou: 0.8313Epoch 00060: val_loss did not improve\n",
      "589/589 [==============================] - 13s 22ms/step - loss: 0.0624 - mean_iou: 0.8313 - val_loss: 0.0799 - val_mean_iou: 0.8317\n",
      "Epoch 61/1000\n",
      "584/589 [============================>.] - ETA: 0s - loss: 0.0627 - mean_iou: 0.8320Epoch 00061: val_loss did not improve\n",
      "589/589 [==============================] - 13s 22ms/step - loss: 0.0627 - mean_iou: 0.8320 - val_loss: 0.0820 - val_mean_iou: 0.8324\n",
      "Epoch 62/1000\n",
      "584/589 [============================>.] - ETA: 0s - loss: 0.0660 - mean_iou: 0.8328Epoch 00062: val_loss did not improve\n",
      "589/589 [==============================] - 13s 22ms/step - loss: 0.0663 - mean_iou: 0.8328 - val_loss: 0.0823 - val_mean_iou: 0.8331\n",
      "Epoch 63/1000\n",
      "584/589 [============================>.] - ETA: 0s - loss: 0.0630 - mean_iou: 0.8334Epoch 00063: val_loss did not improve\n",
      "589/589 [==============================] - 13s 22ms/step - loss: 0.0630 - mean_iou: 0.8334 - val_loss: 0.0785 - val_mean_iou: 0.8337\n",
      "Epoch 64/1000\n",
      "584/589 [============================>.] - ETA: 0s - loss: 0.0770 - mean_iou: 0.8340Epoch 00064: val_loss did not improve\n",
      "589/589 [==============================] - 13s 22ms/step - loss: 0.0771 - mean_iou: 0.8340 - val_loss: 0.1354 - val_mean_iou: 0.8341\n",
      "Epoch 65/1000\n",
      "584/589 [============================>.] - ETA: 0s - loss: 0.0761 - mean_iou: 0.8341Epoch 00065: val_loss did not improve\n",
      "589/589 [==============================] - 13s 22ms/step - loss: 0.0766 - mean_iou: 0.8341 - val_loss: 0.0931 - val_mean_iou: 0.8343\n",
      "Epoch 66/1000\n",
      "584/589 [============================>.] - ETA: 0s - loss: 0.0687 - mean_iou: 0.8345Epoch 00066: val_loss did not improve\n",
      "589/589 [==============================] - 13s 22ms/step - loss: 0.0688 - mean_iou: 0.8345 - val_loss: 0.0801 - val_mean_iou: 0.8347\n",
      "Epoch 67/1000\n",
      "584/589 [============================>.] - ETA: 0s - loss: 0.0639 - mean_iou: 0.8350Epoch 00067: val_loss did not improve\n",
      "589/589 [==============================] - 13s 22ms/step - loss: 0.0640 - mean_iou: 0.8350 - val_loss: 0.0802 - val_mean_iou: 0.8353\n",
      "Epoch 68/1000\n",
      "584/589 [============================>.] - ETA: 0s - loss: 0.0635 - mean_iou: 0.8356Epoch 00068: val_loss did not improve\n",
      "589/589 [==============================] - 13s 22ms/step - loss: 0.0637 - mean_iou: 0.8356 - val_loss: 0.0793 - val_mean_iou: 0.8359\n",
      "Epoch 69/1000\n",
      "584/589 [============================>.] - ETA: 0s - loss: 0.0630 - mean_iou: 0.8362Epoch 00069: val_loss did not improve\n",
      "589/589 [==============================] - 13s 22ms/step - loss: 0.0632 - mean_iou: 0.8362 - val_loss: 0.0816 - val_mean_iou: 0.8364\n",
      "Epoch 70/1000\n",
      "584/589 [============================>.] - ETA: 0s - loss: 0.0627 - mean_iou: 0.8367Epoch 00070: val_loss did not improve\n",
      "589/589 [==============================] - 13s 22ms/step - loss: 0.0626 - mean_iou: 0.8367 - val_loss: 0.0815 - val_mean_iou: 0.8370\n",
      "Epoch 71/1000\n",
      "584/589 [============================>.] - ETA: 0s - loss: 0.0663 - mean_iou: 0.8372Epoch 00071: val_loss did not improve\n",
      "589/589 [==============================] - 13s 22ms/step - loss: 0.0662 - mean_iou: 0.8372 - val_loss: 0.0834 - val_mean_iou: 0.8375\n",
      "Epoch 72/1000\n",
      "584/589 [============================>.] - ETA: 0s - loss: 0.0625 - mean_iou: 0.8378Epoch 00072: val_loss did not improve\n",
      "589/589 [==============================] - 13s 22ms/step - loss: 0.0624 - mean_iou: 0.8378 - val_loss: 0.0793 - val_mean_iou: 0.8380\n",
      "Epoch 73/1000\n",
      "584/589 [============================>.] - ETA: 0s - loss: 0.0623 - mean_iou: 0.8383Epoch 00073: val_loss did not improve\n",
      "589/589 [==============================] - 13s 22ms/step - loss: 0.0624 - mean_iou: 0.8383 - val_loss: 0.0814 - val_mean_iou: 0.8386\n",
      "Epoch 74/1000\n",
      "584/589 [============================>.] - ETA: 0s - loss: 0.0626 - mean_iou: 0.8388Epoch 00074: val_loss did not improve\n",
      "589/589 [==============================] - 13s 22ms/step - loss: 0.0626 - mean_iou: 0.8388 - val_loss: 0.0822 - val_mean_iou: 0.8391\n",
      "Epoch 75/1000\n",
      "584/589 [============================>.] - ETA: 0s - loss: 0.0617 - mean_iou: 0.8393Epoch 00075: val_loss improved from 0.07724 to 0.07689, saving model to ../02.model/deeper_unet.h5\n",
      "589/589 [==============================] - 13s 22ms/step - loss: 0.0620 - mean_iou: 0.8393 - val_loss: 0.0769 - val_mean_iou: 0.8395\n",
      "Epoch 76/1000\n",
      "584/589 [============================>.] - ETA: 0s - loss: 0.0630 - mean_iou: 0.8398Epoch 00076: val_loss did not improve\n",
      "589/589 [==============================] - 13s 22ms/step - loss: 0.0627 - mean_iou: 0.8398 - val_loss: 0.0801 - val_mean_iou: 0.8400\n",
      "Epoch 77/1000\n",
      "584/589 [============================>.] - ETA: 0s - loss: 0.0615 - mean_iou: 0.8403Epoch 00077: val_loss improved from 0.07689 to 0.07582, saving model to ../02.model/deeper_unet.h5\n",
      "589/589 [==============================] - 13s 22ms/step - loss: 0.0615 - mean_iou: 0.8403 - val_loss: 0.0758 - val_mean_iou: 0.8405\n",
      "Epoch 78/1000\n",
      "584/589 [============================>.] - ETA: 0s - loss: 0.0604 - mean_iou: 0.8408Epoch 00078: val_loss did not improve\n",
      "589/589 [==============================] - 13s 22ms/step - loss: 0.0605 - mean_iou: 0.8408 - val_loss: 0.0778 - val_mean_iou: 0.8410\n",
      "Epoch 79/1000\n",
      "584/589 [============================>.] - ETA: 0s - loss: 0.0633 - mean_iou: 0.8413Epoch 00079: val_loss did not improve\n",
      "589/589 [==============================] - 13s 22ms/step - loss: 0.0636 - mean_iou: 0.8413 - val_loss: 0.0792 - val_mean_iou: 0.8415\n",
      "Epoch 80/1000\n",
      "584/589 [============================>.] - ETA: 0s - loss: 0.0612 - mean_iou: 0.8417Epoch 00080: val_loss did not improve\n",
      "589/589 [==============================] - 13s 22ms/step - loss: 0.0610 - mean_iou: 0.8417 - val_loss: 0.0773 - val_mean_iou: 0.8419\n",
      "Epoch 81/1000\n",
      "584/589 [============================>.] - ETA: 0s - loss: 0.0600 - mean_iou: 0.8421Epoch 00081: val_loss did not improve\n",
      "589/589 [==============================] - 13s 22ms/step - loss: 0.0600 - mean_iou: 0.8421 - val_loss: 0.0778 - val_mean_iou: 0.8424\n",
      "Epoch 82/1000\n",
      "584/589 [============================>.] - ETA: 0s - loss: 0.0613 - mean_iou: 0.8426Epoch 00082: val_loss improved from 0.07582 to 0.07563, saving model to ../02.model/deeper_unet.h5\n",
      "589/589 [==============================] - 13s 22ms/step - loss: 0.0613 - mean_iou: 0.8426 - val_loss: 0.0756 - val_mean_iou: 0.8428\n",
      "Epoch 83/1000\n",
      "584/589 [============================>.] - ETA: 0s - loss: 0.0616 - mean_iou: 0.8430Epoch 00083: val_loss did not improve\n",
      "589/589 [==============================] - 13s 22ms/step - loss: 0.0616 - mean_iou: 0.8430 - val_loss: 0.0762 - val_mean_iou: 0.8433\n",
      "Epoch 84/1000\n",
      "584/589 [============================>.] - ETA: 0s - loss: 0.0615 - mean_iou: 0.8435Epoch 00084: val_loss did not improve\n",
      "589/589 [==============================] - 13s 22ms/step - loss: 0.0612 - mean_iou: 0.8435 - val_loss: 0.0859 - val_mean_iou: 0.8437\n",
      "Epoch 85/1000\n",
      "584/589 [============================>.] - ETA: 0s - loss: 0.0601 - mean_iou: 0.8439Epoch 00085: val_loss did not improve\n",
      "589/589 [==============================] - 13s 22ms/step - loss: 0.0599 - mean_iou: 0.8439 - val_loss: 0.0768 - val_mean_iou: 0.8441\n",
      "Epoch 86/1000\n",
      "584/589 [============================>.] - ETA: 0s - loss: 0.0593 - mean_iou: 0.8443Epoch 00086: val_loss improved from 0.07563 to 0.07492, saving model to ../02.model/deeper_unet.h5\n",
      "589/589 [==============================] - 13s 22ms/step - loss: 0.0593 - mean_iou: 0.8443 - val_loss: 0.0749 - val_mean_iou: 0.8446\n"
     ]
    },
    {
     "name": "stdout",
     "output_type": "stream",
     "text": [
      "Epoch 87/1000\n",
      "584/589 [============================>.] - ETA: 0s - loss: 0.0600 - mean_iou: 0.8448Epoch 00087: val_loss improved from 0.07492 to 0.07463, saving model to ../02.model/deeper_unet.h5\n",
      "589/589 [==============================] - 13s 22ms/step - loss: 0.0598 - mean_iou: 0.8448 - val_loss: 0.0746 - val_mean_iou: 0.8450\n",
      "Epoch 88/1000\n",
      "584/589 [============================>.] - ETA: 0s - loss: 0.0601 - mean_iou: 0.8452Epoch 00088: val_loss did not improve\n",
      "589/589 [==============================] - 13s 22ms/step - loss: 0.0600 - mean_iou: 0.8452 - val_loss: 0.0788 - val_mean_iou: 0.8454\n",
      "Epoch 89/1000\n",
      "584/589 [============================>.] - ETA: 0s - loss: 0.0590 - mean_iou: 0.8456Epoch 00089: val_loss did not improve\n",
      "589/589 [==============================] - 13s 22ms/step - loss: 0.0593 - mean_iou: 0.8456 - val_loss: 0.0755 - val_mean_iou: 0.8458\n",
      "Epoch 90/1000\n",
      "584/589 [============================>.] - ETA: 0s - loss: 0.0604 - mean_iou: 0.8460Epoch 00090: val_loss did not improve\n",
      "589/589 [==============================] - 13s 22ms/step - loss: 0.0605 - mean_iou: 0.8460 - val_loss: 0.0806 - val_mean_iou: 0.8462\n",
      "Epoch 91/1000\n",
      "584/589 [============================>.] - ETA: 0s - loss: 0.0612 - mean_iou: 0.8463Epoch 00091: val_loss did not improve\n",
      "589/589 [==============================] - 13s 22ms/step - loss: 0.0610 - mean_iou: 0.8463 - val_loss: 0.0803 - val_mean_iou: 0.8465\n",
      "Epoch 92/1000\n",
      "584/589 [============================>.] - ETA: 0s - loss: 0.0591 - mean_iou: 0.8467Epoch 00092: val_loss did not improve\n",
      "589/589 [==============================] - 13s 22ms/step - loss: 0.0591 - mean_iou: 0.8467 - val_loss: 0.0772 - val_mean_iou: 0.8469\n",
      "Epoch 93/1000\n",
      "584/589 [============================>.] - ETA: 0s - loss: 0.0606 - mean_iou: 0.8471Epoch 00093: val_loss did not improve\n",
      "589/589 [==============================] - 13s 22ms/step - loss: 0.0605 - mean_iou: 0.8471 - val_loss: 0.0794 - val_mean_iou: 0.8473\n",
      "Epoch 94/1000\n",
      "584/589 [============================>.] - ETA: 0s - loss: 0.0604 - mean_iou: 0.8475Epoch 00094: val_loss did not improve\n",
      "589/589 [==============================] - 13s 22ms/step - loss: 0.0606 - mean_iou: 0.8475 - val_loss: 0.0826 - val_mean_iou: 0.8476\n",
      "Epoch 95/1000\n",
      "584/589 [============================>.] - ETA: 0s - loss: 0.0588 - mean_iou: 0.8478Epoch 00095: val_loss did not improve\n",
      "589/589 [==============================] - 13s 22ms/step - loss: 0.0587 - mean_iou: 0.8478 - val_loss: 0.0755 - val_mean_iou: 0.8480\n",
      "Epoch 96/1000\n",
      "584/589 [============================>.] - ETA: 0s - loss: 0.0571 - mean_iou: 0.8482Epoch 00096: val_loss improved from 0.07463 to 0.07426, saving model to ../02.model/deeper_unet.h5\n",
      "589/589 [==============================] - 13s 22ms/step - loss: 0.0574 - mean_iou: 0.8482 - val_loss: 0.0743 - val_mean_iou: 0.8484\n",
      "Epoch 97/1000\n",
      "584/589 [============================>.] - ETA: 0s - loss: 0.0577 - mean_iou: 0.8486Epoch 00097: val_loss did not improve\n",
      "589/589 [==============================] - 13s 22ms/step - loss: 0.0585 - mean_iou: 0.8486 - val_loss: 0.0800 - val_mean_iou: 0.8487\n",
      "Epoch 98/1000\n",
      "584/589 [============================>.] - ETA: 0s - loss: 0.0584 - mean_iou: 0.8489Epoch 00098: val_loss improved from 0.07426 to 0.07267, saving model to ../02.model/deeper_unet.h5\n",
      "589/589 [==============================] - 13s 22ms/step - loss: 0.0592 - mean_iou: 0.8489 - val_loss: 0.0727 - val_mean_iou: 0.8490\n",
      "Epoch 99/1000\n",
      "584/589 [============================>.] - ETA: 0s - loss: 0.0577 - mean_iou: 0.8492Epoch 00099: val_loss did not improve\n",
      "589/589 [==============================] - 13s 22ms/step - loss: 0.0578 - mean_iou: 0.8492 - val_loss: 0.0817 - val_mean_iou: 0.8494\n",
      "Epoch 100/1000\n",
      "584/589 [============================>.] - ETA: 0s - loss: 0.0604 - mean_iou: 0.8495Epoch 00100: val_loss did not improve\n",
      "589/589 [==============================] - 13s 22ms/step - loss: 0.0603 - mean_iou: 0.8495 - val_loss: 0.0780 - val_mean_iou: 0.8497\n",
      "Epoch 101/1000\n",
      "584/589 [============================>.] - ETA: 0s - loss: 0.0576 - mean_iou: 0.8499Epoch 00101: val_loss did not improve\n",
      "589/589 [==============================] - 13s 22ms/step - loss: 0.0573 - mean_iou: 0.8499 - val_loss: 0.0755 - val_mean_iou: 0.8501\n",
      "Epoch 102/1000\n",
      "584/589 [============================>.] - ETA: 0s - loss: 0.0579 - mean_iou: 0.8502Epoch 00102: val_loss did not improve\n",
      "589/589 [==============================] - 13s 22ms/step - loss: 0.0577 - mean_iou: 0.8502 - val_loss: 0.0779 - val_mean_iou: 0.8504\n",
      "Epoch 103/1000\n",
      "584/589 [============================>.] - ETA: 0s - loss: 0.0573 - mean_iou: 0.8506Epoch 00103: val_loss did not improve\n",
      "589/589 [==============================] - 13s 22ms/step - loss: 0.0574 - mean_iou: 0.8506 - val_loss: 0.0762 - val_mean_iou: 0.8507\n",
      "Epoch 104/1000\n",
      "584/589 [============================>.] - ETA: 0s - loss: 0.0585 - mean_iou: 0.8509Epoch 00104: val_loss did not improve\n",
      "589/589 [==============================] - 13s 22ms/step - loss: 0.0584 - mean_iou: 0.8509 - val_loss: 0.0747 - val_mean_iou: 0.8511\n",
      "Epoch 105/1000\n",
      "584/589 [============================>.] - ETA: 0s - loss: 0.0573 - mean_iou: 0.8512Epoch 00105: val_loss did not improve\n",
      "589/589 [==============================] - 13s 22ms/step - loss: 0.0571 - mean_iou: 0.8512 - val_loss: 0.0770 - val_mean_iou: 0.8514\n",
      "Epoch 106/1000\n",
      "584/589 [============================>.] - ETA: 0s - loss: 0.0584 - mean_iou: 0.8516Epoch 00106: val_loss did not improve\n",
      "589/589 [==============================] - 13s 22ms/step - loss: 0.0583 - mean_iou: 0.8516 - val_loss: 0.0773 - val_mean_iou: 0.8517\n",
      "Epoch 107/1000\n",
      "584/589 [============================>.] - ETA: 0s - loss: 0.0572 - mean_iou: 0.8519Epoch 00107: val_loss did not improve\n",
      "589/589 [==============================] - 13s 22ms/step - loss: 0.0571 - mean_iou: 0.8519 - val_loss: 0.0773 - val_mean_iou: 0.8520\n",
      "Epoch 108/1000\n",
      "584/589 [============================>.] - ETA: 0s - loss: 0.0567 - mean_iou: 0.8522Epoch 00108: val_loss did not improve\n",
      "589/589 [==============================] - 13s 22ms/step - loss: 0.0564 - mean_iou: 0.8522 - val_loss: 0.0753 - val_mean_iou: 0.8524\n",
      "Epoch 109/1000\n",
      "584/589 [============================>.] - ETA: 0s - loss: 0.0577 - mean_iou: 0.8525Epoch 00109: val_loss did not improve\n",
      "589/589 [==============================] - 13s 22ms/step - loss: 0.0575 - mean_iou: 0.8525 - val_loss: 0.0827 - val_mean_iou: 0.8527\n",
      "Epoch 110/1000\n",
      "584/589 [============================>.] - ETA: 0s - loss: 0.0567 - mean_iou: 0.8528Epoch 00110: val_loss did not improve\n",
      "589/589 [==============================] - 13s 22ms/step - loss: 0.0564 - mean_iou: 0.8528 - val_loss: 0.0793 - val_mean_iou: 0.8530\n",
      "Epoch 111/1000\n",
      "584/589 [============================>.] - ETA: 0s - loss: 0.0563 - mean_iou: 0.8531Epoch 00111: val_loss did not improve\n",
      "589/589 [==============================] - 13s 22ms/step - loss: 0.0563 - mean_iou: 0.8531 - val_loss: 0.0811 - val_mean_iou: 0.8533\n",
      "Epoch 112/1000\n",
      "584/589 [============================>.] - ETA: 0s - loss: 0.0572 - mean_iou: 0.8534Epoch 00112: val_loss did not improve\n",
      "589/589 [==============================] - 13s 22ms/step - loss: 0.0573 - mean_iou: 0.8534 - val_loss: 0.0756 - val_mean_iou: 0.8536\n",
      "Epoch 113/1000\n",
      "584/589 [============================>.] - ETA: 0s - loss: 0.0552 - mean_iou: 0.8537Epoch 00113: val_loss did not improve\n",
      "589/589 [==============================] - 13s 22ms/step - loss: 0.0551 - mean_iou: 0.8537 - val_loss: 0.0778 - val_mean_iou: 0.8539\n",
      "Epoch 114/1000\n",
      "584/589 [============================>.] - ETA: 0s - loss: 0.0547 - mean_iou: 0.8540Epoch 00114: val_loss did not improve\n",
      "589/589 [==============================] - 13s 22ms/step - loss: 0.0548 - mean_iou: 0.8540 - val_loss: 0.0785 - val_mean_iou: 0.8542\n",
      "Epoch 115/1000\n",
      "584/589 [============================>.] - ETA: 0s - loss: 0.0551 - mean_iou: 0.8543Epoch 00115: val_loss did not improve\n",
      "589/589 [==============================] - 13s 22ms/step - loss: 0.0550 - mean_iou: 0.8543 - val_loss: 0.0788 - val_mean_iou: 0.8545\n",
      "Epoch 116/1000\n",
      "584/589 [============================>.] - ETA: 0s - loss: 0.0544 - mean_iou: 0.8546Epoch 00116: val_loss did not improve\n",
      "589/589 [==============================] - 13s 22ms/step - loss: 0.0545 - mean_iou: 0.8546 - val_loss: 0.0778 - val_mean_iou: 0.8548\n"
     ]
    },
    {
     "name": "stdout",
     "output_type": "stream",
     "text": [
      "Epoch 117/1000\n",
      "584/589 [============================>.] - ETA: 0s - loss: 0.0551 - mean_iou: 0.8549Epoch 00117: val_loss did not improve\n",
      "589/589 [==============================] - 13s 22ms/step - loss: 0.0552 - mean_iou: 0.8549 - val_loss: 0.0814 - val_mean_iou: 0.8551\n",
      "Epoch 118/1000\n",
      "584/589 [============================>.] - ETA: 0s - loss: 0.0571 - mean_iou: 0.8552Epoch 00118: val_loss did not improve\n",
      "589/589 [==============================] - 13s 22ms/step - loss: 0.0572 - mean_iou: 0.8552 - val_loss: 0.0819 - val_mean_iou: 0.8554\n",
      "Epoch 119/1000\n",
      "584/589 [============================>.] - ETA: 0s - loss: 0.0542 - mean_iou: 0.8555Epoch 00119: val_loss did not improve\n",
      "589/589 [==============================] - 13s 22ms/step - loss: 0.0540 - mean_iou: 0.8555 - val_loss: 0.0735 - val_mean_iou: 0.8557\n",
      "Epoch 120/1000\n",
      "584/589 [============================>.] - ETA: 0s - loss: 0.0534 - mean_iou: 0.8558Epoch 00120: val_loss did not improve\n",
      "589/589 [==============================] - 13s 22ms/step - loss: 0.0533 - mean_iou: 0.8558 - val_loss: 0.0814 - val_mean_iou: 0.8560\n",
      "Epoch 121/1000\n",
      "584/589 [============================>.] - ETA: 0s - loss: 0.0538 - mean_iou: 0.8561Epoch 00121: val_loss did not improve\n",
      "589/589 [==============================] - 13s 22ms/step - loss: 0.0544 - mean_iou: 0.8561 - val_loss: 0.0760 - val_mean_iou: 0.8562\n",
      "Epoch 122/1000\n",
      "584/589 [============================>.] - ETA: 0s - loss: 0.0530 - mean_iou: 0.8564Epoch 00122: val_loss did not improve\n",
      "589/589 [==============================] - 13s 22ms/step - loss: 0.0530 - mean_iou: 0.8564 - val_loss: 0.0771 - val_mean_iou: 0.8566\n",
      "Epoch 123/1000\n",
      "584/589 [============================>.] - ETA: 0s - loss: 0.0554 - mean_iou: 0.8567Epoch 00123: val_loss did not improve\n",
      "589/589 [==============================] - 13s 22ms/step - loss: 0.0556 - mean_iou: 0.8567 - val_loss: 0.0806 - val_mean_iou: 0.8568\n",
      "Epoch 124/1000\n",
      "584/589 [============================>.] - ETA: 0s - loss: 0.0537 - mean_iou: 0.8570Epoch 00124: val_loss did not improve\n",
      "589/589 [==============================] - 13s 22ms/step - loss: 0.0536 - mean_iou: 0.8570 - val_loss: 0.0771 - val_mean_iou: 0.8571\n",
      "Epoch 125/1000\n",
      "584/589 [============================>.] - ETA: 0s - loss: 0.0562 - mean_iou: 0.8572Epoch 00125: val_loss did not improve\n",
      "589/589 [==============================] - 13s 22ms/step - loss: 0.0560 - mean_iou: 0.8572 - val_loss: 0.0770 - val_mean_iou: 0.8573\n",
      "Epoch 126/1000\n",
      "584/589 [============================>.] - ETA: 0s - loss: 0.0533 - mean_iou: 0.8574Epoch 00126: val_loss did not improve\n",
      "589/589 [==============================] - 13s 22ms/step - loss: 0.0535 - mean_iou: 0.8574 - val_loss: 0.0831 - val_mean_iou: 0.8576\n",
      "Epoch 127/1000\n",
      "584/589 [============================>.] - ETA: 0s - loss: 0.0545 - mean_iou: 0.8577Epoch 00127: val_loss did not improve\n",
      "589/589 [==============================] - 13s 22ms/step - loss: 0.0544 - mean_iou: 0.8577 - val_loss: 0.0741 - val_mean_iou: 0.8579\n",
      "Epoch 128/1000\n",
      "584/589 [============================>.] - ETA: 0s - loss: 0.0564 - mean_iou: 0.8580Epoch 00128: val_loss did not improve\n",
      "589/589 [==============================] - 13s 22ms/step - loss: 0.0564 - mean_iou: 0.8580 - val_loss: 0.0747 - val_mean_iou: 0.8581\n",
      "Epoch 129/1000\n",
      "584/589 [============================>.] - ETA: 0s - loss: 0.0538 - mean_iou: 0.8582Epoch 00129: val_loss did not improve\n",
      "589/589 [==============================] - 13s 22ms/step - loss: 0.0538 - mean_iou: 0.8582 - val_loss: 0.0801 - val_mean_iou: 0.8583\n",
      "Epoch 130/1000\n",
      "584/589 [============================>.] - ETA: 0s - loss: 0.0611 - mean_iou: 0.8584Epoch 00130: val_loss did not improve\n",
      "589/589 [==============================] - 13s 22ms/step - loss: 0.0611 - mean_iou: 0.8584 - val_loss: 0.0815 - val_mean_iou: 0.8585\n",
      "Epoch 131/1000\n",
      "584/589 [============================>.] - ETA: 0s - loss: 0.0608 - mean_iou: 0.8586Epoch 00131: val_loss did not improve\n",
      "589/589 [==============================] - 13s 22ms/step - loss: 0.0610 - mean_iou: 0.8586 - val_loss: 0.0828 - val_mean_iou: 0.8587\n",
      "Epoch 132/1000\n",
      "584/589 [============================>.] - ETA: 0s - loss: 0.0562 - mean_iou: 0.8588Epoch 00132: val_loss did not improve\n",
      "589/589 [==============================] - 13s 22ms/step - loss: 0.0564 - mean_iou: 0.8588 - val_loss: 0.0752 - val_mean_iou: 0.8589\n",
      "Epoch 133/1000\n",
      "584/589 [============================>.] - ETA: 0s - loss: 0.0537 - mean_iou: 0.8590Epoch 00133: val_loss did not improve\n",
      "589/589 [==============================] - 13s 22ms/step - loss: 0.0539 - mean_iou: 0.8590 - val_loss: 0.0778 - val_mean_iou: 0.8592\n",
      "Epoch 134/1000\n",
      "584/589 [============================>.] - ETA: 0s - loss: 0.0516 - mean_iou: 0.8593Epoch 00134: val_loss did not improve\n",
      "589/589 [==============================] - 13s 22ms/step - loss: 0.0516 - mean_iou: 0.8593 - val_loss: 0.0765 - val_mean_iou: 0.8594\n",
      "Epoch 135/1000\n",
      "584/589 [============================>.] - ETA: 0s - loss: 0.0522 - mean_iou: 0.8596Epoch 00135: val_loss did not improve\n",
      "589/589 [==============================] - 13s 22ms/step - loss: 0.0522 - mean_iou: 0.8596 - val_loss: 0.0765 - val_mean_iou: 0.8597\n",
      "Epoch 136/1000\n",
      "584/589 [============================>.] - ETA: 0s - loss: 0.0521 - mean_iou: 0.8598Epoch 00136: val_loss did not improve\n",
      "589/589 [==============================] - 13s 22ms/step - loss: 0.0519 - mean_iou: 0.8598 - val_loss: 0.0749 - val_mean_iou: 0.8600\n",
      "Epoch 137/1000\n",
      "584/589 [============================>.] - ETA: 0s - loss: 0.0498 - mean_iou: 0.8601Epoch 00137: val_loss did not improve\n",
      "589/589 [==============================] - 13s 22ms/step - loss: 0.0498 - mean_iou: 0.8601 - val_loss: 0.0781 - val_mean_iou: 0.8602\n",
      "Epoch 138/1000\n",
      "584/589 [============================>.] - ETA: 0s - loss: 0.0502 - mean_iou: 0.8604Epoch 00138: val_loss did not improve\n",
      "589/589 [==============================] - 13s 22ms/step - loss: 0.0504 - mean_iou: 0.8604 - val_loss: 0.0757 - val_mean_iou: 0.8605\n",
      "Epoch 139/1000\n",
      "584/589 [============================>.] - ETA: 0s - loss: 0.0506 - mean_iou: 0.8606Epoch 00139: val_loss did not improve\n",
      "589/589 [==============================] - 13s 22ms/step - loss: 0.0503 - mean_iou: 0.8606 - val_loss: 0.0789 - val_mean_iou: 0.8608\n",
      "Epoch 140/1000\n",
      "584/589 [============================>.] - ETA: 0s - loss: 0.0496 - mean_iou: 0.8609Epoch 00140: val_loss did not improve\n",
      "589/589 [==============================] - 13s 22ms/step - loss: 0.0497 - mean_iou: 0.8609 - val_loss: 0.0781 - val_mean_iou: 0.8610\n",
      "Epoch 141/1000\n",
      "584/589 [============================>.] - ETA: 0s - loss: 0.0483 - mean_iou: 0.8611Epoch 00141: val_loss did not improve\n",
      "589/589 [==============================] - 13s 22ms/step - loss: 0.0483 - mean_iou: 0.8611 - val_loss: 0.0775 - val_mean_iou: 0.8613\n",
      "Epoch 142/1000\n",
      "584/589 [============================>.] - ETA: 0s - loss: 0.0479 - mean_iou: 0.8614Epoch 00142: val_loss did not improve\n",
      "589/589 [==============================] - 13s 22ms/step - loss: 0.0478 - mean_iou: 0.8614 - val_loss: 0.0763 - val_mean_iou: 0.8616\n",
      "Epoch 143/1000\n",
      "584/589 [============================>.] - ETA: 0s - loss: 0.0487 - mean_iou: 0.8617Epoch 00143: val_loss did not improve\n",
      "589/589 [==============================] - 13s 22ms/step - loss: 0.0489 - mean_iou: 0.8617 - val_loss: 0.0773 - val_mean_iou: 0.8618\n",
      "Epoch 144/1000\n",
      "584/589 [============================>.] - ETA: 0s - loss: 0.0481 - mean_iou: 0.8619Epoch 00144: val_loss did not improve\n",
      "589/589 [==============================] - 13s 22ms/step - loss: 0.0481 - mean_iou: 0.8619 - val_loss: 0.0822 - val_mean_iou: 0.8621\n",
      "Epoch 145/1000\n",
      "584/589 [============================>.] - ETA: 0s - loss: 0.0480 - mean_iou: 0.8622Epoch 00145: val_loss did not improve\n",
      "589/589 [==============================] - 13s 22ms/step - loss: 0.0479 - mean_iou: 0.8622 - val_loss: 0.0784 - val_mean_iou: 0.8624\n",
      "Epoch 146/1000\n",
      "584/589 [============================>.] - ETA: 0s - loss: 0.0547 - mean_iou: 0.8625Epoch 00146: val_loss did not improve\n",
      "589/589 [==============================] - 13s 22ms/step - loss: 0.0546 - mean_iou: 0.8625 - val_loss: 0.0779 - val_mean_iou: 0.8625\n",
      "Epoch 147/1000\n"
     ]
    },
    {
     "name": "stdout",
     "output_type": "stream",
     "text": [
      "584/589 [============================>.] - ETA: 0s - loss: 0.0534 - mean_iou: 0.8626Epoch 00147: val_loss did not improve\n",
      "589/589 [==============================] - 13s 22ms/step - loss: 0.0535 - mean_iou: 0.8626 - val_loss: 0.0781 - val_mean_iou: 0.8627\n",
      "Epoch 148/1000\n",
      "584/589 [============================>.] - ETA: 0s - loss: 0.0498 - mean_iou: 0.8628Epoch 00148: val_loss did not improve\n",
      "589/589 [==============================] - 13s 22ms/step - loss: 0.0497 - mean_iou: 0.8628 - val_loss: 0.0833 - val_mean_iou: 0.8630\n",
      "Epoch 149/1000\n",
      "584/589 [============================>.] - ETA: 0s - loss: 0.0475 - mean_iou: 0.8631Epoch 00149: val_loss did not improve\n",
      "589/589 [==============================] - 13s 22ms/step - loss: 0.0473 - mean_iou: 0.8631 - val_loss: 0.0781 - val_mean_iou: 0.8632\n",
      "Epoch 150/1000\n",
      "584/589 [============================>.] - ETA: 0s - loss: 0.0468 - mean_iou: 0.8634Epoch 00150: val_loss did not improve\n",
      "589/589 [==============================] - 13s 22ms/step - loss: 0.0468 - mean_iou: 0.8634 - val_loss: 0.0823 - val_mean_iou: 0.8635\n",
      "Epoch 151/1000\n",
      "584/589 [============================>.] - ETA: 0s - loss: 0.0516 - mean_iou: 0.8636Epoch 00151: val_loss did not improve\n",
      "589/589 [==============================] - 13s 22ms/step - loss: 0.0514 - mean_iou: 0.8636 - val_loss: 0.0834 - val_mean_iou: 0.8637\n",
      "Epoch 152/1000\n",
      "584/589 [============================>.] - ETA: 0s - loss: 0.0486 - mean_iou: 0.8638Epoch 00152: val_loss did not improve\n",
      "589/589 [==============================] - 13s 22ms/step - loss: 0.0485 - mean_iou: 0.8638 - val_loss: 0.0782 - val_mean_iou: 0.8640\n",
      "Epoch 153/1000\n",
      "584/589 [============================>.] - ETA: 0s - loss: 0.0493 - mean_iou: 0.8641Epoch 00153: val_loss did not improve\n",
      "589/589 [==============================] - 13s 22ms/step - loss: 0.0491 - mean_iou: 0.8641 - val_loss: 0.0785 - val_mean_iou: 0.8642\n",
      "Epoch 154/1000\n",
      "584/589 [============================>.] - ETA: 0s - loss: 0.0477 - mean_iou: 0.8643Epoch 00154: val_loss did not improve\n",
      "589/589 [==============================] - 13s 22ms/step - loss: 0.0477 - mean_iou: 0.8643 - val_loss: 0.0784 - val_mean_iou: 0.8644\n",
      "Epoch 155/1000\n",
      "584/589 [============================>.] - ETA: 0s - loss: 0.0462 - mean_iou: 0.8646Epoch 00155: val_loss did not improve\n",
      "589/589 [==============================] - 13s 22ms/step - loss: 0.0464 - mean_iou: 0.8646 - val_loss: 0.0781 - val_mean_iou: 0.8647\n",
      "Epoch 156/1000\n",
      "584/589 [============================>.] - ETA: 0s - loss: 0.0483 - mean_iou: 0.8648Epoch 00156: val_loss did not improve\n",
      "589/589 [==============================] - 13s 22ms/step - loss: 0.0485 - mean_iou: 0.8648 - val_loss: 0.0829 - val_mean_iou: 0.8649\n",
      "Epoch 157/1000\n",
      "584/589 [============================>.] - ETA: 0s - loss: 0.0457 - mean_iou: 0.8650Epoch 00157: val_loss did not improve\n",
      "589/589 [==============================] - 13s 22ms/step - loss: 0.0459 - mean_iou: 0.8650 - val_loss: 0.0792 - val_mean_iou: 0.8651\n",
      "Epoch 158/1000\n",
      "584/589 [============================>.] - ETA: 0s - loss: 0.0458 - mean_iou: 0.8653Epoch 00158: val_loss did not improve\n",
      "589/589 [==============================] - 13s 22ms/step - loss: 0.0457 - mean_iou: 0.8653 - val_loss: 0.0822 - val_mean_iou: 0.8654\n",
      "Epoch 159/1000\n",
      "584/589 [============================>.] - ETA: 0s - loss: 0.0484 - mean_iou: 0.8655Epoch 00159: val_loss did not improve\n",
      "589/589 [==============================] - 13s 22ms/step - loss: 0.0484 - mean_iou: 0.8655 - val_loss: 0.0754 - val_mean_iou: 0.8656\n",
      "Epoch 160/1000\n",
      "584/589 [============================>.] - ETA: 0s - loss: 0.0459 - mean_iou: 0.8657Epoch 00160: val_loss did not improve\n",
      "589/589 [==============================] - 13s 22ms/step - loss: 0.0459 - mean_iou: 0.8657 - val_loss: 0.0826 - val_mean_iou: 0.8659\n",
      "Epoch 161/1000\n",
      "584/589 [============================>.] - ETA: 0s - loss: 0.0454 - mean_iou: 0.8660Epoch 00161: val_loss did not improve\n",
      "589/589 [==============================] - 13s 22ms/step - loss: 0.0455 - mean_iou: 0.8660 - val_loss: 0.0807 - val_mean_iou: 0.8661\n",
      "Epoch 162/1000\n",
      "584/589 [============================>.] - ETA: 0s - loss: 0.0475 - mean_iou: 0.8662Epoch 00162: val_loss did not improve\n",
      "589/589 [==============================] - 13s 22ms/step - loss: 0.0473 - mean_iou: 0.8662 - val_loss: 0.0776 - val_mean_iou: 0.8663\n",
      "Epoch 163/1000\n",
      "584/589 [============================>.] - ETA: 0s - loss: 0.0532 - mean_iou: 0.8664Epoch 00163: val_loss did not improve\n",
      "589/589 [==============================] - 13s 22ms/step - loss: 0.0531 - mean_iou: 0.8664 - val_loss: 0.0813 - val_mean_iou: 0.8665\n",
      "Epoch 164/1000\n",
      "584/589 [============================>.] - ETA: 0s - loss: 0.0515 - mean_iou: 0.8666Epoch 00164: val_loss did not improve\n",
      "589/589 [==============================] - 13s 22ms/step - loss: 0.0516 - mean_iou: 0.8666 - val_loss: 0.0771 - val_mean_iou: 0.8667\n",
      "Epoch 165/1000\n",
      "584/589 [============================>.] - ETA: 0s - loss: 0.0478 - mean_iou: 0.8668Epoch 00165: val_loss did not improve\n",
      "589/589 [==============================] - 13s 22ms/step - loss: 0.0479 - mean_iou: 0.8668 - val_loss: 0.0826 - val_mean_iou: 0.8669\n",
      "Epoch 166/1000\n",
      "584/589 [============================>.] - ETA: 0s - loss: 0.0479 - mean_iou: 0.8670Epoch 00166: val_loss did not improve\n",
      "589/589 [==============================] - 13s 22ms/step - loss: 0.0477 - mean_iou: 0.8670 - val_loss: 0.0838 - val_mean_iou: 0.8671\n",
      "Epoch 167/1000\n",
      "584/589 [============================>.] - ETA: 0s - loss: 0.0463 - mean_iou: 0.8672Epoch 00167: val_loss did not improve\n",
      "589/589 [==============================] - 13s 22ms/step - loss: 0.0460 - mean_iou: 0.8672 - val_loss: 0.0780 - val_mean_iou: 0.8673\n",
      "Epoch 168/1000\n",
      "584/589 [============================>.] - ETA: 0s - loss: 0.0440 - mean_iou: 0.8674Epoch 00168: val_loss did not improve\n",
      "589/589 [==============================] - 13s 22ms/step - loss: 0.0442 - mean_iou: 0.8674 - val_loss: 0.0792 - val_mean_iou: 0.8675\n",
      "Epoch 169/1000\n",
      "584/589 [============================>.] - ETA: 0s - loss: 0.0442 - mean_iou: 0.8677Epoch 00169: val_loss did not improve\n",
      "589/589 [==============================] - 13s 22ms/step - loss: 0.0441 - mean_iou: 0.8677 - val_loss: 0.0822 - val_mean_iou: 0.8678\n",
      "Epoch 170/1000\n",
      "584/589 [============================>.] - ETA: 0s - loss: 0.0442 - mean_iou: 0.8679Epoch 00170: val_loss did not improve\n",
      "589/589 [==============================] - 13s 22ms/step - loss: 0.0441 - mean_iou: 0.8679 - val_loss: 0.0776 - val_mean_iou: 0.8680\n",
      "Epoch 171/1000\n",
      "584/589 [============================>.] - ETA: 0s - loss: 0.0439 - mean_iou: 0.8681Epoch 00171: val_loss did not improve\n",
      "589/589 [==============================] - 13s 22ms/step - loss: 0.0438 - mean_iou: 0.8681 - val_loss: 0.0826 - val_mean_iou: 0.8683\n",
      "Epoch 172/1000\n",
      "584/589 [============================>.] - ETA: 0s - loss: 0.0430 - mean_iou: 0.8684Epoch 00172: val_loss did not improve\n",
      "589/589 [==============================] - 13s 22ms/step - loss: 0.0429 - mean_iou: 0.8684 - val_loss: 0.0788 - val_mean_iou: 0.8685\n",
      "Epoch 173/1000\n",
      "584/589 [============================>.] - ETA: 0s - loss: 0.0448 - mean_iou: 0.8686Epoch 00173: val_loss did not improve\n",
      "589/589 [==============================] - 13s 22ms/step - loss: 0.0449 - mean_iou: 0.8686 - val_loss: 0.0828 - val_mean_iou: 0.8687\n",
      "Epoch 174/1000\n",
      "584/589 [============================>.] - ETA: 0s - loss: 0.0453 - mean_iou: 0.8688Epoch 00174: val_loss did not improve\n",
      "589/589 [==============================] - 13s 22ms/step - loss: 0.0452 - mean_iou: 0.8688 - val_loss: 0.0835 - val_mean_iou: 0.8689\n",
      "Epoch 175/1000\n",
      "584/589 [============================>.] - ETA: 0s - loss: 0.0426 - mean_iou: 0.8691Epoch 00175: val_loss did not improve\n",
      "589/589 [==============================] - 13s 22ms/step - loss: 0.0427 - mean_iou: 0.8691 - val_loss: 0.0806 - val_mean_iou: 0.8692\n",
      "Epoch 176/1000\n",
      "584/589 [============================>.] - ETA: 0s - loss: 0.0424 - mean_iou: 0.8693Epoch 00176: val_loss did not improve\n",
      "589/589 [==============================] - 13s 22ms/step - loss: 0.0423 - mean_iou: 0.8693 - val_loss: 0.0792 - val_mean_iou: 0.8694\n",
      "Epoch 177/1000\n",
      "584/589 [============================>.] - ETA: 0s - loss: 0.0434 - mean_iou: 0.8695Epoch 00177: val_loss did not improve\n",
      "589/589 [==============================] - 13s 22ms/step - loss: 0.0436 - mean_iou: 0.8695 - val_loss: 0.0823 - val_mean_iou: 0.8696\n"
     ]
    },
    {
     "name": "stdout",
     "output_type": "stream",
     "text": [
      "Epoch 178/1000\n",
      "584/589 [============================>.] - ETA: 0s - loss: 0.0432 - mean_iou: 0.8697Epoch 00178: val_loss did not improve\n",
      "589/589 [==============================] - 13s 22ms/step - loss: 0.0431 - mean_iou: 0.8697 - val_loss: 0.0945 - val_mean_iou: 0.8698\n",
      "Epoch 179/1000\n",
      "584/589 [============================>.] - ETA: 0s - loss: 0.0466 - mean_iou: 0.8699Epoch 00179: val_loss did not improve\n",
      "589/589 [==============================] - 13s 22ms/step - loss: 0.0466 - mean_iou: 0.8699 - val_loss: 0.0825 - val_mean_iou: 0.8700\n",
      "Epoch 180/1000\n",
      "584/589 [============================>.] - ETA: 0s - loss: 0.0425 - mean_iou: 0.8701Epoch 00180: val_loss did not improve\n",
      "589/589 [==============================] - 13s 22ms/step - loss: 0.0424 - mean_iou: 0.8701 - val_loss: 0.0803 - val_mean_iou: 0.8702\n",
      "Epoch 181/1000\n",
      "584/589 [============================>.] - ETA: 0s - loss: 0.0422 - mean_iou: 0.8703Epoch 00181: val_loss did not improve\n",
      "589/589 [==============================] - 13s 22ms/step - loss: 0.0423 - mean_iou: 0.8703 - val_loss: 0.0795 - val_mean_iou: 0.8705\n",
      "Epoch 182/1000\n",
      "584/589 [============================>.] - ETA: 0s - loss: 0.0424 - mean_iou: 0.8706Epoch 00182: val_loss did not improve\n",
      "589/589 [==============================] - 13s 22ms/step - loss: 0.0427 - mean_iou: 0.8706 - val_loss: 0.0818 - val_mean_iou: 0.8707\n",
      "Epoch 183/1000\n",
      "584/589 [============================>.] - ETA: 0s - loss: 0.0428 - mean_iou: 0.8708Epoch 00183: val_loss did not improve\n",
      "589/589 [==============================] - 13s 22ms/step - loss: 0.0430 - mean_iou: 0.8708 - val_loss: 0.0861 - val_mean_iou: 0.8709\n",
      "Epoch 184/1000\n",
      "584/589 [============================>.] - ETA: 0s - loss: 0.0438 - mean_iou: 0.8710Epoch 00184: val_loss did not improve\n",
      "589/589 [==============================] - 13s 22ms/step - loss: 0.0436 - mean_iou: 0.8710 - val_loss: 0.0817 - val_mean_iou: 0.8711\n",
      "Epoch 185/1000\n",
      "584/589 [============================>.] - ETA: 0s - loss: 0.0428 - mean_iou: 0.8712Epoch 00185: val_loss did not improve\n",
      "589/589 [==============================] - 13s 22ms/step - loss: 0.0429 - mean_iou: 0.8712 - val_loss: 0.0789 - val_mean_iou: 0.8713\n",
      "Epoch 186/1000\n",
      "584/589 [============================>.] - ETA: 0s - loss: 0.0442 - mean_iou: 0.8714Epoch 00186: val_loss did not improve\n",
      "589/589 [==============================] - 13s 22ms/step - loss: 0.0442 - mean_iou: 0.8714 - val_loss: 0.0800 - val_mean_iou: 0.8715\n",
      "Epoch 187/1000\n",
      "584/589 [============================>.] - ETA: 0s - loss: 0.0419 - mean_iou: 0.8716Epoch 00187: val_loss did not improve\n",
      "589/589 [==============================] - 13s 22ms/step - loss: 0.0422 - mean_iou: 0.8716 - val_loss: 0.0821 - val_mean_iou: 0.8717\n",
      "Epoch 188/1000\n",
      "584/589 [============================>.] - ETA: 0s - loss: 0.0436 - mean_iou: 0.8718Epoch 00188: val_loss did not improve\n",
      "589/589 [==============================] - 13s 22ms/step - loss: 0.0437 - mean_iou: 0.8718 - val_loss: 0.0833 - val_mean_iou: 0.8719\n",
      "Epoch 189/1000\n",
      "584/589 [============================>.] - ETA: 0s - loss: 0.0430 - mean_iou: 0.8720Epoch 00189: val_loss did not improve\n",
      "589/589 [==============================] - 13s 22ms/step - loss: 0.0431 - mean_iou: 0.8720 - val_loss: 0.0831 - val_mean_iou: 0.8721\n",
      "Epoch 190/1000\n",
      "584/589 [============================>.] - ETA: 0s - loss: 0.0417 - mean_iou: 0.8722Epoch 00190: val_loss did not improve\n",
      "589/589 [==============================] - 13s 22ms/step - loss: 0.0420 - mean_iou: 0.8722 - val_loss: 0.0799 - val_mean_iou: 0.8723\n",
      "Epoch 191/1000\n",
      "584/589 [============================>.] - ETA: 0s - loss: 0.0398 - mean_iou: 0.8724Epoch 00191: val_loss did not improve\n",
      "589/589 [==============================] - 13s 22ms/step - loss: 0.0403 - mean_iou: 0.8724 - val_loss: 0.0801 - val_mean_iou: 0.8725\n",
      "Epoch 192/1000\n",
      "584/589 [============================>.] - ETA: 0s - loss: 0.0410 - mean_iou: 0.8726Epoch 00192: val_loss did not improve\n",
      "589/589 [==============================] - 13s 22ms/step - loss: 0.0409 - mean_iou: 0.8726 - val_loss: 0.0844 - val_mean_iou: 0.8727\n",
      "Epoch 193/1000\n",
      "584/589 [============================>.] - ETA: 0s - loss: 0.0403 - mean_iou: 0.8728Epoch 00193: val_loss did not improve\n",
      "589/589 [==============================] - 13s 22ms/step - loss: 0.0403 - mean_iou: 0.8728 - val_loss: 0.0871 - val_mean_iou: 0.8730\n",
      "Epoch 194/1000\n",
      "584/589 [============================>.] - ETA: 0s - loss: 0.0448 - mean_iou: 0.8731Epoch 00194: val_loss did not improve\n",
      "589/589 [==============================] - 13s 22ms/step - loss: 0.0446 - mean_iou: 0.8731 - val_loss: 0.0779 - val_mean_iou: 0.8731\n",
      "Epoch 195/1000\n",
      "584/589 [============================>.] - ETA: 0s - loss: 0.0468 - mean_iou: 0.8732Epoch 00195: val_loss did not improve\n",
      "589/589 [==============================] - 13s 22ms/step - loss: 0.0468 - mean_iou: 0.8732 - val_loss: 0.0792 - val_mean_iou: 0.8733\n",
      "Epoch 196/1000\n",
      "584/589 [============================>.] - ETA: 0s - loss: 0.0439 - mean_iou: 0.8734Epoch 00196: val_loss did not improve\n",
      "589/589 [==============================] - 13s 22ms/step - loss: 0.0440 - mean_iou: 0.8734 - val_loss: 0.0815 - val_mean_iou: 0.8735\n",
      "Epoch 197/1000\n",
      "584/589 [============================>.] - ETA: 0s - loss: 0.0475 - mean_iou: 0.8735Epoch 00197: val_loss did not improve\n",
      "589/589 [==============================] - 13s 22ms/step - loss: 0.0474 - mean_iou: 0.8735 - val_loss: 0.0816 - val_mean_iou: 0.8736\n",
      "Epoch 198/1000\n",
      "584/589 [============================>.] - ETA: 0s - loss: 0.0422 - mean_iou: 0.8737Epoch 00198: val_loss did not improve\n",
      "589/589 [==============================] - 13s 22ms/step - loss: 0.0421 - mean_iou: 0.8737 - val_loss: 0.0842 - val_mean_iou: 0.8738\n",
      "Epoch 00198: early stopping\n"
     ]
    }
   ],
   "source": [
    "# Fit model\n",
    "earlystopper = EarlyStopping(patience=100, verbose=1)\n",
    "checkpointer = ModelCheckpoint(model_path, verbose=1, save_best_only=True)\n",
    "\n",
    "# setup\n",
    "n_epochs  = 1000\n",
    "val_split = 0.12\n",
    "\n",
    "# fitting\n",
    "results = model.fit(X_train*1.0/255, \n",
    "                    Y_train, \n",
    "                    validation_split=val_split, \n",
    "                    batch_size=8,\n",
    "                    epochs=n_epochs, \n",
    "                    callbacks=[earlystopper, checkpointer])"
   ]
  },
  {
   "cell_type": "markdown",
   "metadata": {
    "run_control": {
     "frozen": false,
     "read_only": false
    }
   },
   "source": [
    "#### Predict on train, val and test"
   ]
  },
  {
   "cell_type": "code",
   "execution_count": 39,
   "metadata": {
    "run_control": {
     "frozen": false,
     "read_only": false
    }
   },
   "outputs": [
    {
     "name": "stdout",
     "output_type": "stream",
     "text": [
      "603/603 [==============================] - 3s 4ms/step\n",
      "67/67 [==============================] - 0s 4ms/step\n",
      "65/65 [==============================] - 0s 3ms/step\n"
     ]
    }
   ],
   "source": [
    "model = load_model(model_path, custom_objects={'mean_iou': mean_iou})\n",
    "preds_train = model.predict(X_train[:int(X_train.shape[0]*0.9)]*1.0/255, verbose=1)\n",
    "preds_val = model.predict(X_train[int(X_train.shape[0]*0.9):]*1.0/255, verbose=1)\n",
    "preds_test = model.predict(X_test*1.0/255, verbose=1)"
   ]
  },
  {
   "cell_type": "markdown",
   "metadata": {
    "run_control": {
     "frozen": false,
     "read_only": false
    }
   },
   "source": [
    "#### Threshold predictions"
   ]
  },
  {
   "cell_type": "code",
   "execution_count": 40,
   "metadata": {
    "collapsed": true,
    "run_control": {
     "frozen": false,
     "read_only": false
    }
   },
   "outputs": [],
   "source": [
    "thr = 0.50\n",
    "preds_train_t = (preds_train > thr).astype(np.uint8)\n",
    "preds_val_t = (preds_val > thr).astype(np.uint8)\n",
    "preds_test_t = (preds_test > thr).astype(np.uint8)"
   ]
  },
  {
   "cell_type": "markdown",
   "metadata": {
    "run_control": {
     "frozen": false,
     "read_only": false
    }
   },
   "source": [
    "#### Create list of upsampled test masks"
   ]
  },
  {
   "cell_type": "code",
   "execution_count": 41,
   "metadata": {
    "collapsed": true,
    "run_control": {
     "frozen": false,
     "read_only": false
    }
   },
   "outputs": [],
   "source": [
    "preds_test_upsampled = []\n",
    "\n",
    "for i in range(len(preds_test)):\n",
    "    \n",
    "    preds_test_upsampled.append(resize(np.squeeze(preds_test[i]), \n",
    "                                       (sizes_test[i][0], sizes_test[i][1]), \n",
    "                                       mode='constant',\n",
    "                                       preserve_range=True))"
   ]
  },
  {
   "cell_type": "markdown",
   "metadata": {
    "run_control": {
     "frozen": false,
     "read_only": false
    }
   },
   "source": [
    "#### Perform a sanity check on some random training samples"
   ]
  },
  {
   "cell_type": "code",
   "execution_count": 42,
   "metadata": {
    "run_control": {
     "frozen": false,
     "read_only": false
    }
   },
   "outputs": [
    {
     "data": {
      "image/png": "[encoded data removed]",
      "text/plain": [
       "<matplotlib.figure.Figure at 0x2ac467eda210>"
      ]
     },
     "metadata": {},
     "output_type": "display_data"
    }
   ],
   "source": [
    "ix = random.randint(0, len(preds_train_t))\n",
    "\n",
    "plt.figure(figsize=(12,6))\n",
    "\n",
    "plt.subplot(131)\n",
    "imshow(X_train[ix])\n",
    "plt.subplot(132)\n",
    "imshow(np.squeeze(Y_train[ix]))\n",
    "plt.subplot(133)\n",
    "imshow(np.squeeze(preds_train_t[ix]));"
   ]
  },
  {
   "cell_type": "markdown",
   "metadata": {
    "run_control": {
     "frozen": false,
     "read_only": false
    }
   },
   "source": [
    "#### Perform a sanity check on some random validation samples"
   ]
  },
  {
   "cell_type": "code",
   "execution_count": 43,
   "metadata": {
    "run_control": {
     "frozen": false,
     "read_only": false
    }
   },
   "outputs": [
    {
     "data": {
      "image/png": "[encoded data removed]",
      "text/plain": [
       "<matplotlib.figure.Figure at 0x2ac4b3fa8e90>"
      ]
     },
     "metadata": {},
     "output_type": "display_data"
    }
   ],
   "source": [
    "ix = random.randint(0, len(preds_val_t))\n",
    "\n",
    "plt.figure(figsize=(12,6))\n",
    "\n",
    "plt.subplot(131)\n",
    "imshow(X_train[int(X_train.shape[0]*0.9):][ix])\n",
    "plt.subplot(132)\n",
    "imshow(np.squeeze(Y_train[int(Y_train.shape[0]*0.9):][ix]))\n",
    "plt.subplot(133)\n",
    "imshow(np.squeeze(preds_val_t[ix]));"
   ]
  },
  {
   "cell_type": "markdown",
   "metadata": {
    "run_control": {
     "frozen": false,
     "read_only": false
    }
   },
   "source": [
    "#### Run-length encoding stolen from https://www.kaggle.com/rakhlin/fast-run-length-encoding-python"
   ]
  },
  {
   "cell_type": "code",
   "execution_count": 44,
   "metadata": {
    "collapsed": true,
    "run_control": {
     "frozen": false,
     "read_only": false
    }
   },
   "outputs": [],
   "source": [
    "def rle_encoding(x):\n",
    "    dots = np.where(x.T.flatten() == 1)[0]\n",
    "    run_lengths = []\n",
    "    prev = -2\n",
    "    for b in dots:\n",
    "        if (b>prev+1): run_lengths.extend((b + 1, 0))\n",
    "        run_lengths[-1] += 1\n",
    "        prev = b\n",
    "    return run_lengths\n",
    "\n",
    "def prob_to_rles(x, cutoff=0.5):\n",
    "    lab_img = label(x > cutoff)\n",
    "    for i in range(1, lab_img.max() + 1):\n",
    "        yield rle_encoding(lab_img == i)"
   ]
  },
  {
   "cell_type": "code",
   "execution_count": 45,
   "metadata": {
    "collapsed": true,
    "run_control": {
     "frozen": false,
     "read_only": false
    }
   },
   "outputs": [],
   "source": [
    "new_test_ids = []\n",
    "rles = []\n",
    "\n",
    "for n, id_ in enumerate(test_ids):\n",
    "    \n",
    "    rle = list(prob_to_rles(preds_test_upsampled[n]))\n",
    "    rles.extend(rle)\n",
    "    new_test_ids.extend([id_] * len(rle))"
   ]
  },
  {
   "cell_type": "markdown",
   "metadata": {
    "run_control": {
     "frozen": false,
     "read_only": false
    }
   },
   "source": [
    "#### Create submission DataFrame"
   ]
  },
  {
   "cell_type": "code",
   "execution_count": 49,
   "metadata": {
    "collapsed": true,
    "run_control": {
     "frozen": false,
     "read_only": false
    }
   },
   "outputs": [],
   "source": [
    "prediction_prefix = 'deeper_unet_'"
   ]
  },
  {
   "cell_type": "code",
   "execution_count": 50,
   "metadata": {
    "run_control": {
     "frozen": false,
     "read_only": false
    }
   },
   "outputs": [
    {
     "name": "stdout",
     "output_type": "stream",
     "text": [
      "Total time 58.5050112009 min\n"
     ]
    }
   ],
   "source": [
    "sub = pd.DataFrame()\n",
    "sub['ImageId'] = new_test_ids\n",
    "sub['EncodedPixels'] = pd.Series(rles).apply(lambda x: ' '.join(str(y) for y in x))\n",
    "\n",
    "fname ='../04.predictions/'+prediction_prefix+str(n_epochs)+' vsplit '+str(val_split)+' seed '+str(seed_value)+' thr'+str(thr)+'.csv'\n",
    "\n",
    "sub.to_csv(fname, index=False)\n",
    "\n",
    "nm=(time.time() - start_time)/60\n",
    "print (\"Total time %s min\" % nm)"
   ]
  }
 ],
 "metadata": {
  "kernelspec": {
   "display_name": "Anaconda-tf",
   "language": "python",
   "name": "anaconda_tf"
  },
  "language_info": {
   "codemirror_mode": {
    "name": "ipython",
    "version": 2
   },
   "file_extension": ".py",
   "mimetype": "text/x-python",
   "name": "python",
   "nbconvert_exporter": "python",
   "pygments_lexer": "ipython2",
   "version": "2.7.14"
  }
 },
 "nbformat": 4,
 "nbformat_minor": 2
}
