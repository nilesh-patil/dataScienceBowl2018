{
 "cells": [
  {
   "cell_type": "code",
   "execution_count": 7,
   "metadata": {},
   "outputs": [
    {
     "name": "stdout",
     "output_type": "stream",
     "text": [
      "Populating the interactive namespace from numpy and matplotlib\n"
     ]
    },
    {
     "name": "stderr",
     "output_type": "stream",
     "text": [
      "/software/anaconda/5.0.1b/lib/python2.7/site-packages/IPython/core/magics/pylab.py:161: UserWarning: pylab import has clobbered these variables: ['resize', 'imshow', 'seed', 'random', 'imread', 'concatenate']\n",
      "`%matplotlib` prevents importing * from pylab and numpy\n",
      "  \"\\n`%matplotlib` prevents importing * from pylab and numpy\"\n"
     ]
    }
   ],
   "source": [
    "%pylab inline"
   ]
  },
  {
   "cell_type": "code",
   "execution_count": 8,
   "metadata": {
    "run_control": {
     "frozen": false,
     "read_only": false
    }
   },
   "outputs": [],
   "source": [
    "import os\n",
    "import sys\n",
    "import random\n",
    "import warnings\n",
    "\n",
    "import numpy as np\n",
    "import pandas as pd\n",
    "\n",
    "import matplotlib.pyplot as plt\n",
    "\n",
    "from tqdm import tqdm\n",
    "from itertools import chain\n",
    "from skimage.io import imread, imshow, imread_collection, concatenate_images\n",
    "from skimage.transform import resize\n",
    "from skimage.morphology import label\n",
    "\n",
    "from keras import backend as K\n",
    "from keras.models import Model, load_model\n",
    "from keras.layers import Input, Lambda, Conv2D, Conv2DTranspose, MaxPooling2D\n",
    "from keras.layers.merge import concatenate\n",
    "from keras.callbacks import EarlyStopping, ModelCheckpoint"
   ]
  },
  {
   "cell_type": "code",
   "execution_count": 9,
   "metadata": {
    "collapsed": true
   },
   "outputs": [],
   "source": [
    "import time\n",
    "\n",
    "start_time = time.time()\n",
    "tcurrent   = start_time"
   ]
  },
  {
   "cell_type": "code",
   "execution_count": 10,
   "metadata": {
    "collapsed": true
   },
   "outputs": [],
   "source": [
    "# Set some parameters\n",
    "IMG_WIDTH = 128\n",
    "IMG_HEIGHT = 128\n",
    "IMG_CHANNELS = 3\n",
    "TRAIN_PATH = '../00.data/extracted/stage1_train/'\n",
    "TEST_PATH = '../00.data/extracted/stage1_test/'\n",
    "\n",
    "warnings.filterwarnings('ignore', category=UserWarning, module='skimage')\n",
    "seed = 423 # original seed: 42\n",
    "random.seed = seed\n",
    "np.random.seed = seed"
   ]
  },
  {
   "cell_type": "code",
   "execution_count": 11,
   "metadata": {
    "collapsed": true
   },
   "outputs": [],
   "source": [
    "# Get train and test IDs\n",
    "train_ids = next(os.walk(TRAIN_PATH))[1]\n",
    "test_ids = next(os.walk(TEST_PATH))[1]"
   ]
  },
  {
   "cell_type": "code",
   "execution_count": 12,
   "metadata": {
    "collapsed": true
   },
   "outputs": [],
   "source": [
    "X_train = np.zeros((len(train_ids), IMG_HEIGHT, IMG_WIDTH, IMG_CHANNELS), dtype=np.uint8)\n",
    "Y_train = np.zeros((len(train_ids), IMG_HEIGHT, IMG_WIDTH, 1), dtype=np.bool)"
   ]
  },
  {
   "cell_type": "code",
   "execution_count": 13,
   "metadata": {},
   "outputs": [
    {
     "name": "stdout",
     "output_type": "stream",
     "text": [
      "Getting and resizing train images and masks ... \n"
     ]
    },
    {
     "name": "stderr",
     "output_type": "stream",
     "text": [
      "100%|██████████| 670/670 [03:37<00:00,  3.08it/s]\n"
     ]
    }
   ],
   "source": [
    "print('Getting and resizing train images and masks ... ')\n",
    "\n",
    "sys.stdout.flush()\n",
    "\n",
    "for n, id_ in tqdm(enumerate(train_ids), total=len(train_ids)):\n",
    "    \n",
    "    path = TRAIN_PATH + id_\n",
    "    img = imread(path + '/images/' + id_ + '.png')[:,:,:IMG_CHANNELS]\n",
    "    img = resize(img, (IMG_HEIGHT, IMG_WIDTH), mode='constant', preserve_range=True)\n",
    "    X_train[n] = img\n",
    "    mask = np.zeros((IMG_HEIGHT, IMG_WIDTH, 1), dtype=np.bool)\n",
    "    \n",
    "    for mask_file in next(os.walk(path + '/masks/'))[2]:\n",
    "        mask_ = imread(path + '/masks/' + mask_file)\n",
    "        mask_ = np.expand_dims(resize(mask_, (IMG_HEIGHT, IMG_WIDTH), mode='constant', \n",
    "                                      preserve_range=True), axis=-1)\n",
    "        mask = np.maximum(mask, mask_)\n",
    "    \n",
    "    Y_train[n] = mask"
   ]
  },
  {
   "cell_type": "code",
   "execution_count": 14,
   "metadata": {
    "collapsed": true
   },
   "outputs": [],
   "source": [
    "# Get and resize test images\n",
    "\n",
    "X_test = np.zeros((len(test_ids), IMG_HEIGHT, IMG_WIDTH, IMG_CHANNELS), dtype=np.uint8)\n",
    "\n",
    "sizes_test = []"
   ]
  },
  {
   "cell_type": "code",
   "execution_count": 15,
   "metadata": {},
   "outputs": [
    {
     "name": "stdout",
     "output_type": "stream",
     "text": [
      "Getting and resizing test images ... \n"
     ]
    },
    {
     "name": "stderr",
     "output_type": "stream",
     "text": [
      "100%|██████████| 65/65 [00:01<00:00, 40.36it/s]"
     ]
    },
    {
     "name": "stdout",
     "output_type": "stream",
     "text": [
      "Done!\n"
     ]
    },
    {
     "name": "stderr",
     "output_type": "stream",
     "text": [
      "\n"
     ]
    }
   ],
   "source": [
    "print('Getting and resizing test images ... ')\n",
    "\n",
    "sys.stdout.flush()\n",
    "\n",
    "for n, id_ in tqdm(enumerate(test_ids), total=len(test_ids)):\n",
    "    \n",
    "    path = TEST_PATH + id_\n",
    "    img = imread(path + '/images/' + id_ + '.png')[:,:,:IMG_CHANNELS]\n",
    "    sizes_test.append([img.shape[0], img.shape[1]])\n",
    "    img = resize(img, (IMG_HEIGHT, IMG_WIDTH), mode='constant', preserve_range=True)\n",
    "    X_test[n] = img\n",
    "\n",
    "print('Done!')"
   ]
  },
  {
   "cell_type": "code",
   "execution_count": 19,
   "metadata": {},
   "outputs": [
    {
     "data": {
      "image/png": "[encoded data removed]",
      "text/plain": [
       "<matplotlib.figure.Figure at 0x2b704b4483d0>"
      ]
     },
     "metadata": {},
     "output_type": "display_data"
    }
   ],
   "source": [
    "# Check if training data looks all right\n",
    "ix = random.randint(0, len(train_ids))\n",
    "plt.subplot(121)\n",
    "imshow(X_train[ix])\n",
    "plt.subplot(122)\n",
    "imshow(np.squeeze(Y_train[ix]));"
   ]
  },
  {
   "cell_type": "code",
   "execution_count": 20,
   "metadata": {
    "collapsed": true
   },
   "outputs": [],
   "source": [
    "# Define IoU metric\n",
    "\n",
    "def mean_iou(y_true, y_pred):\n",
    "    prec = []\n",
    "    for t in np.arange(0.5, 1.0, 0.05):\n",
    "        y_pred_ = tf.to_int32(y_pred > t)\n",
    "        score, up_opt = tf.metrics.mean_iou(y_true, y_pred_, 2)\n",
    "        K.get_session().run(tf.local_variables_initializer())\n",
    "        with tf.control_dependencies([up_opt]):\n",
    "            score = tf.identity(score)\n",
    "        prec.append(score)\n",
    "    return K.mean(K.stack(prec), axis=0)"
   ]
  },
  {
   "cell_type": "markdown",
   "metadata": {},
   "source": [
    "### Build U-Net model"
   ]
  },
  {
   "cell_type": "code",
   "execution_count": 22,
   "metadata": {
    "collapsed": true
   },
   "outputs": [],
   "source": [
    "import tensorflow as tf"
   ]
  },
  {
   "cell_type": "code",
   "execution_count": 23,
   "metadata": {},
   "outputs": [],
   "source": [
    "inputs = Input((IMG_HEIGHT, IMG_WIDTH, IMG_CHANNELS))\n",
    "s = Lambda(lambda x: x / 255) (inputs)\n",
    "\n",
    "c1 = Conv2D(8, (3, 3), activation='relu', padding='same') (s)\n",
    "c1 = Conv2D(8, (3, 3), activation='relu', padding='same') (c1)\n",
    "p1 = MaxPooling2D((2, 2)) (c1)\n",
    "\n",
    "c2 = Conv2D(16, (3, 3), activation='relu', padding='same') (p1)\n",
    "c2 = Conv2D(16, (3, 3), activation='relu', padding='same') (c2)\n",
    "p2 = MaxPooling2D((2, 2)) (c2)\n",
    "\n",
    "c3 = Conv2D(32, (3, 3), activation='relu', padding='same') (p2)\n",
    "c3 = Conv2D(32, (3, 3), activation='relu', padding='same') (c3)\n",
    "p3 = MaxPooling2D((2, 2)) (c3)\n",
    "\n",
    "c4 = Conv2D(64, (3, 3), activation='relu', padding='same') (p3)\n",
    "c4 = Conv2D(64, (3, 3), activation='relu', padding='same') (c4)\n",
    "p4 = MaxPooling2D(pool_size=(2, 2)) (c4)\n",
    "\n",
    "c5 = Conv2D(128, (3, 3), activation='relu', padding='same') (p4)\n",
    "c5 = Conv2D(128, (3, 3), activation='relu', padding='same') (c5)\n",
    "\n",
    "u6 = Conv2DTranspose(64, (2, 2), strides=(2, 2), padding='same') (c5)\n",
    "u6 = concatenate([u6, c4])\n",
    "c6 = Conv2D(64, (3, 3), activation='relu', padding='same') (u6)\n",
    "c6 = Conv2D(64, (3, 3), activation='relu', padding='same') (c6)\n",
    "\n",
    "u7 = Conv2DTranspose(32, (2, 2), strides=(2, 2), padding='same') (c6)\n",
    "u7 = concatenate([u7, c3])\n",
    "c7 = Conv2D(32, (3, 3), activation='relu', padding='same') (u7)\n",
    "c7 = Conv2D(32, (3, 3), activation='relu', padding='same') (c7)\n",
    "\n",
    "u8 = Conv2DTranspose(16, (2, 2), strides=(2, 2), padding='same') (c7)\n",
    "u8 = concatenate([u8, c2])\n",
    "c8 = Conv2D(16, (3, 3), activation='relu', padding='same') (u8)\n",
    "c8 = Conv2D(16, (3, 3), activation='relu', padding='same') (c8)\n",
    "\n",
    "u9 = Conv2DTranspose(8, (2, 2), strides=(2, 2), padding='same') (c8)\n",
    "u9 = concatenate([u9, c1], axis=3)\n",
    "c9 = Conv2D(8, (3, 3), activation='relu', padding='same') (u9)\n",
    "c9 = Conv2D(8, (3, 3), activation='relu', padding='same') (c9)\n",
    "\n",
    "outputs = Conv2D(1, (1, 1), activation='sigmoid') (c9)\n",
    "\n",
    "model = Model(inputs=[inputs], outputs=[outputs])"
   ]
  },
  {
   "cell_type": "code",
   "execution_count": 24,
   "metadata": {},
   "outputs": [
    {
     "name": "stdout",
     "output_type": "stream",
     "text": [
      "__________________________________________________________________________________________________\n",
      "Layer (type)                    Output Shape         Param #     Connected to                     \n",
      "==================================================================================================\n",
      "input_3 (InputLayer)            (None, 128, 128, 3)  0                                            \n",
      "__________________________________________________________________________________________________\n",
      "lambda_3 (Lambda)               (None, 128, 128, 3)  0           input_3[0][0]                    \n",
      "__________________________________________________________________________________________________\n",
      "conv2d_39 (Conv2D)              (None, 128, 128, 8)  224         lambda_3[0][0]                   \n",
      "__________________________________________________________________________________________________\n",
      "conv2d_40 (Conv2D)              (None, 128, 128, 8)  584         conv2d_39[0][0]                  \n",
      "__________________________________________________________________________________________________\n",
      "max_pooling2d_9 (MaxPooling2D)  (None, 64, 64, 8)    0           conv2d_40[0][0]                  \n",
      "__________________________________________________________________________________________________\n",
      "conv2d_41 (Conv2D)              (None, 64, 64, 16)   1168        max_pooling2d_9[0][0]            \n",
      "__________________________________________________________________________________________________\n",
      "conv2d_42 (Conv2D)              (None, 64, 64, 16)   2320        conv2d_41[0][0]                  \n",
      "__________________________________________________________________________________________________\n",
      "max_pooling2d_10 (MaxPooling2D) (None, 32, 32, 16)   0           conv2d_42[0][0]                  \n",
      "__________________________________________________________________________________________________\n",
      "conv2d_43 (Conv2D)              (None, 32, 32, 32)   4640        max_pooling2d_10[0][0]           \n",
      "__________________________________________________________________________________________________\n",
      "conv2d_44 (Conv2D)              (None, 32, 32, 32)   9248        conv2d_43[0][0]                  \n",
      "__________________________________________________________________________________________________\n",
      "max_pooling2d_11 (MaxPooling2D) (None, 16, 16, 32)   0           conv2d_44[0][0]                  \n",
      "__________________________________________________________________________________________________\n",
      "conv2d_45 (Conv2D)              (None, 16, 16, 64)   18496       max_pooling2d_11[0][0]           \n",
      "__________________________________________________________________________________________________\n",
      "conv2d_46 (Conv2D)              (None, 16, 16, 64)   36928       conv2d_45[0][0]                  \n",
      "__________________________________________________________________________________________________\n",
      "max_pooling2d_12 (MaxPooling2D) (None, 8, 8, 64)     0           conv2d_46[0][0]                  \n",
      "__________________________________________________________________________________________________\n",
      "conv2d_47 (Conv2D)              (None, 8, 8, 128)    73856       max_pooling2d_12[0][0]           \n",
      "__________________________________________________________________________________________________\n",
      "conv2d_48 (Conv2D)              (None, 8, 8, 128)    147584      conv2d_47[0][0]                  \n",
      "__________________________________________________________________________________________________\n",
      "conv2d_transpose_9 (Conv2DTrans (None, 16, 16, 64)   32832       conv2d_48[0][0]                  \n",
      "__________________________________________________________________________________________________\n",
      "concatenate_9 (Concatenate)     (None, 16, 16, 128)  0           conv2d_transpose_9[0][0]         \n",
      "                                                                 conv2d_46[0][0]                  \n",
      "__________________________________________________________________________________________________\n",
      "conv2d_49 (Conv2D)              (None, 16, 16, 64)   73792       concatenate_9[0][0]              \n",
      "__________________________________________________________________________________________________\n",
      "conv2d_50 (Conv2D)              (None, 16, 16, 64)   36928       conv2d_49[0][0]                  \n",
      "__________________________________________________________________________________________________\n",
      "conv2d_transpose_10 (Conv2DTran (None, 32, 32, 32)   8224        conv2d_50[0][0]                  \n",
      "__________________________________________________________________________________________________\n",
      "concatenate_10 (Concatenate)    (None, 32, 32, 64)   0           conv2d_transpose_10[0][0]        \n",
      "                                                                 conv2d_44[0][0]                  \n",
      "__________________________________________________________________________________________________\n",
      "conv2d_51 (Conv2D)              (None, 32, 32, 32)   18464       concatenate_10[0][0]             \n",
      "__________________________________________________________________________________________________\n",
      "conv2d_52 (Conv2D)              (None, 32, 32, 32)   9248        conv2d_51[0][0]                  \n",
      "__________________________________________________________________________________________________\n",
      "conv2d_transpose_11 (Conv2DTran (None, 64, 64, 16)   2064        conv2d_52[0][0]                  \n",
      "__________________________________________________________________________________________________\n",
      "concatenate_11 (Concatenate)    (None, 64, 64, 32)   0           conv2d_transpose_11[0][0]        \n",
      "                                                                 conv2d_42[0][0]                  \n",
      "__________________________________________________________________________________________________\n",
      "conv2d_53 (Conv2D)              (None, 64, 64, 16)   4624        concatenate_11[0][0]             \n",
      "__________________________________________________________________________________________________\n",
      "conv2d_54 (Conv2D)              (None, 64, 64, 16)   2320        conv2d_53[0][0]                  \n",
      "__________________________________________________________________________________________________\n",
      "conv2d_transpose_12 (Conv2DTran (None, 128, 128, 8)  520         conv2d_54[0][0]                  \n",
      "__________________________________________________________________________________________________\n",
      "concatenate_12 (Concatenate)    (None, 128, 128, 16) 0           conv2d_transpose_12[0][0]        \n",
      "                                                                 conv2d_40[0][0]                  \n",
      "__________________________________________________________________________________________________\n",
      "conv2d_55 (Conv2D)              (None, 128, 128, 8)  1160        concatenate_12[0][0]             \n",
      "__________________________________________________________________________________________________\n",
      "conv2d_56 (Conv2D)              (None, 128, 128, 8)  584         conv2d_55[0][0]                  \n",
      "__________________________________________________________________________________________________\n",
      "conv2d_57 (Conv2D)              (None, 128, 128, 1)  9           conv2d_56[0][0]                  \n",
      "==================================================================================================\n",
      "Total params: 485,817\n",
      "Trainable params: 485,817\n",
      "Non-trainable params: 0\n",
      "__________________________________________________________________________________________________\n"
     ]
    }
   ],
   "source": [
    "model.compile(optimizer='adam', \n",
    "              loss='binary_crossentropy', \n",
    "              metrics=[mean_iou])\n",
    "model.summary()"
   ]
  },
  {
   "cell_type": "code",
   "execution_count": 25,
   "metadata": {
    "collapsed": true
   },
   "outputs": [],
   "source": [
    "model_path = '../02.model/model-dsbowl2018-1.h5'"
   ]
  },
  {
   "cell_type": "code",
   "execution_count": 26,
   "metadata": {
    "scrolled": true
   },
   "outputs": [
    {
     "name": "stdout",
     "output_type": "stream",
     "text": [
      "Train on 589 samples, validate on 81 samples\n",
      "Epoch 1/100\n",
      "584/589 [============================>.] - ETA: 0s - loss: 0.4845 - mean_iou: 0.4222Epoch 00001: val_loss improved from inf to 0.40581, saving model to ../02.model/model-dsbowl2018-1.h5\n",
      "589/589 [==============================] - 15s 25ms/step - loss: 0.4843 - mean_iou: 0.4223 - val_loss: 0.4058 - val_mean_iou: 0.4242\n",
      "Epoch 2/100\n",
      "584/589 [============================>.] - ETA: 0s - loss: 0.3005 - mean_iou: 0.4230Epoch 00002: val_loss improved from 0.40581 to 0.29249, saving model to ../02.model/model-dsbowl2018-1.h5\n",
      "589/589 [==============================] - 7s 12ms/step - loss: 0.2996 - mean_iou: 0.4230 - val_loss: 0.2925 - val_mean_iou: 0.4239\n",
      "Epoch 3/100\n",
      "584/589 [============================>.] - ETA: 0s - loss: 0.2167 - mean_iou: 0.4242Epoch 00003: val_loss improved from 0.29249 to 0.23367, saving model to ../02.model/model-dsbowl2018-1.h5\n",
      "589/589 [==============================] - 7s 12ms/step - loss: 0.2166 - mean_iou: 0.4242 - val_loss: 0.2337 - val_mean_iou: 0.4250\n",
      "Epoch 4/100\n",
      "584/589 [============================>.] - ETA: 0s - loss: 0.1758 - mean_iou: 0.4302Epoch 00004: val_loss improved from 0.23367 to 0.18721, saving model to ../02.model/model-dsbowl2018-1.h5\n",
      "589/589 [==============================] - 7s 12ms/step - loss: 0.1758 - mean_iou: 0.4302 - val_loss: 0.1872 - val_mean_iou: 0.4420\n",
      "Epoch 5/100\n",
      "584/589 [============================>.] - ETA: 0s - loss: 0.1341 - mean_iou: 0.4655Epoch 00005: val_loss improved from 0.18721 to 0.14645, saving model to ../02.model/model-dsbowl2018-1.h5\n",
      "589/589 [==============================] - 7s 12ms/step - loss: 0.1338 - mean_iou: 0.4657 - val_loss: 0.1464 - val_mean_iou: 0.4927\n",
      "Epoch 6/100\n",
      "584/589 [============================>.] - ETA: 0s - loss: 0.1202 - mean_iou: 0.5149Epoch 00006: val_loss improved from 0.14645 to 0.13868, saving model to ../02.model/model-dsbowl2018-1.h5\n",
      "589/589 [==============================] - 7s 12ms/step - loss: 0.1200 - mean_iou: 0.5150 - val_loss: 0.1387 - val_mean_iou: 0.5357\n",
      "Epoch 7/100\n",
      "584/589 [============================>.] - ETA: 0s - loss: 0.1028 - mean_iou: 0.5551Epoch 00007: val_loss improved from 0.13868 to 0.12080, saving model to ../02.model/model-dsbowl2018-1.h5\n",
      "589/589 [==============================] - 7s 12ms/step - loss: 0.1025 - mean_iou: 0.5553 - val_loss: 0.1208 - val_mean_iou: 0.5731\n",
      "Epoch 8/100\n",
      "584/589 [============================>.] - ETA: 0s - loss: 0.0976 - mean_iou: 0.5882Epoch 00008: val_loss did not improve\n",
      "589/589 [==============================] - 7s 11ms/step - loss: 0.0980 - mean_iou: 0.5883 - val_loss: 0.1227 - val_mean_iou: 0.6023\n",
      "Epoch 9/100\n",
      "584/589 [============================>.] - ETA: 0s - loss: 0.0940 - mean_iou: 0.6145Epoch 00009: val_loss did not improve\n",
      "589/589 [==============================] - 7s 11ms/step - loss: 0.0942 - mean_iou: 0.6146 - val_loss: 0.1256 - val_mean_iou: 0.6262\n",
      "Epoch 10/100\n",
      "584/589 [============================>.] - ETA: 0s - loss: 0.0931 - mean_iou: 0.6362Epoch 00010: val_loss improved from 0.12080 to 0.11891, saving model to ../02.model/model-dsbowl2018-1.h5\n",
      "589/589 [==============================] - 7s 12ms/step - loss: 0.0927 - mean_iou: 0.6363 - val_loss: 0.1189 - val_mean_iou: 0.6458\n",
      "Epoch 11/100\n",
      "584/589 [============================>.] - ETA: 0s - loss: 0.0887 - mean_iou: 0.6541Epoch 00011: val_loss improved from 0.11891 to 0.10593, saving model to ../02.model/model-dsbowl2018-1.h5\n",
      "589/589 [==============================] - 7s 12ms/step - loss: 0.0890 - mean_iou: 0.6542 - val_loss: 0.1059 - val_mean_iou: 0.6622\n",
      "Epoch 12/100\n",
      "584/589 [============================>.] - ETA: 0s - loss: 0.0903 - mean_iou: 0.6690Epoch 00012: val_loss did not improve\n",
      "589/589 [==============================] - 7s 11ms/step - loss: 0.0899 - mean_iou: 0.6691 - val_loss: 0.1098 - val_mean_iou: 0.6759\n",
      "Epoch 13/100\n",
      "584/589 [============================>.] - ETA: 0s - loss: 0.0889 - mean_iou: 0.6821Epoch 00013: val_loss did not improve\n",
      "589/589 [==============================] - 7s 11ms/step - loss: 0.0889 - mean_iou: 0.6821 - val_loss: 0.1119 - val_mean_iou: 0.6875\n",
      "Epoch 14/100\n",
      "584/589 [============================>.] - ETA: 0s - loss: 0.0832 - mean_iou: 0.6925Epoch 00014: val_loss improved from 0.10593 to 0.10136, saving model to ../02.model/model-dsbowl2018-1.h5\n",
      "589/589 [==============================] - 7s 12ms/step - loss: 0.0842 - mean_iou: 0.6925 - val_loss: 0.1014 - val_mean_iou: 0.6978\n",
      "Epoch 15/100\n",
      "584/589 [============================>.] - ETA: 0s - loss: 0.0838 - mean_iou: 0.7022Epoch 00015: val_loss improved from 0.10136 to 0.09960, saving model to ../02.model/model-dsbowl2018-1.h5\n",
      "589/589 [==============================] - 7s 12ms/step - loss: 0.0836 - mean_iou: 0.7022 - val_loss: 0.0996 - val_mean_iou: 0.7068\n",
      "Epoch 16/100\n",
      "584/589 [============================>.] - ETA: 0s - loss: 0.0849 - mean_iou: 0.7110Epoch 00016: val_loss did not improve\n",
      "589/589 [==============================] - 7s 11ms/step - loss: 0.0848 - mean_iou: 0.7110 - val_loss: 0.1069 - val_mean_iou: 0.7150\n",
      "Epoch 17/100\n",
      "584/589 [============================>.] - ETA: 0s - loss: 0.0837 - mean_iou: 0.7185Epoch 00017: val_loss improved from 0.09960 to 0.09784, saving model to ../02.model/model-dsbowl2018-1.h5\n",
      "589/589 [==============================] - 7s 12ms/step - loss: 0.0832 - mean_iou: 0.7185 - val_loss: 0.0978 - val_mean_iou: 0.7219\n",
      "Epoch 18/100\n",
      "584/589 [============================>.] - ETA: 0s - loss: 0.0796 - mean_iou: 0.7254Epoch 00018: val_loss improved from 0.09784 to 0.09739, saving model to ../02.model/model-dsbowl2018-1.h5\n",
      "589/589 [==============================] - 7s 12ms/step - loss: 0.0797 - mean_iou: 0.7255 - val_loss: 0.0974 - val_mean_iou: 0.7288\n",
      "Epoch 19/100\n",
      "584/589 [============================>.] - ETA: 0s - loss: 0.0825 - mean_iou: 0.7319Epoch 00019: val_loss did not improve\n",
      "589/589 [==============================] - 7s 11ms/step - loss: 0.0826 - mean_iou: 0.7319 - val_loss: 0.1034 - val_mean_iou: 0.7347\n",
      "Epoch 20/100\n",
      "584/589 [============================>.] - ETA: 0s - loss: 0.0793 - mean_iou: 0.7374Epoch 00020: val_loss did not improve\n",
      "589/589 [==============================] - 7s 11ms/step - loss: 0.0789 - mean_iou: 0.7374 - val_loss: 0.1042 - val_mean_iou: 0.7400\n",
      "Epoch 21/100\n",
      "584/589 [============================>.] - ETA: 0s - loss: 0.0797 - mean_iou: 0.7424Epoch 00021: val_loss did not improve\n",
      "589/589 [==============================] - 7s 11ms/step - loss: 0.0794 - mean_iou: 0.7424 - val_loss: 0.1036 - val_mean_iou: 0.7448\n",
      "Epoch 22/100\n",
      "584/589 [============================>.] - ETA: 0s - loss: 0.0773 - mean_iou: 0.7471Epoch 00022: val_loss improved from 0.09739 to 0.09717, saving model to ../02.model/model-dsbowl2018-1.h5\n",
      "589/589 [==============================] - 7s 12ms/step - loss: 0.0773 - mean_iou: 0.7471 - val_loss: 0.0972 - val_mean_iou: 0.7494\n",
      "Epoch 23/100\n",
      "584/589 [============================>.] - ETA: 0s - loss: 0.0774 - mean_iou: 0.7515Epoch 00023: val_loss did not improve\n",
      "589/589 [==============================] - 7s 11ms/step - loss: 0.0781 - mean_iou: 0.7515 - val_loss: 0.1082 - val_mean_iou: 0.7535\n",
      "Epoch 24/100\n",
      "584/589 [============================>.] - ETA: 0s - loss: 0.0792 - mean_iou: 0.7553Epoch 00024: val_loss improved from 0.09717 to 0.09311, saving model to ../02.model/model-dsbowl2018-1.h5\n",
      "589/589 [==============================] - 7s 12ms/step - loss: 0.0787 - mean_iou: 0.7553 - val_loss: 0.0931 - val_mean_iou: 0.7573\n",
      "Epoch 25/100\n",
      "584/589 [============================>.] - ETA: 0s - loss: 0.0808 - mean_iou: 0.7591Epoch 00025: val_loss did not improve\n",
      "589/589 [==============================] - 7s 11ms/step - loss: 0.0809 - mean_iou: 0.7591 - val_loss: 0.1009 - val_mean_iou: 0.7610\n",
      "Epoch 26/100\n",
      "584/589 [============================>.] - ETA: 0s - loss: 0.0755 - mean_iou: 0.7628Epoch 00026: val_loss did not improve\n",
      "589/589 [==============================] - 7s 11ms/step - loss: 0.0762 - mean_iou: 0.7628 - val_loss: 0.0940 - val_mean_iou: 0.7645\n",
      "Epoch 27/100\n",
      "584/589 [============================>.] - ETA: 0s - loss: 0.0769 - mean_iou: 0.7661Epoch 00027: val_loss did not improve\n",
      "589/589 [==============================] - 7s 11ms/step - loss: 0.0767 - mean_iou: 0.7661 - val_loss: 0.1028 - val_mean_iou: 0.7677\n"
     ]
    },
    {
     "name": "stdout",
     "output_type": "stream",
     "text": [
      "Epoch 28/100\n",
      "584/589 [============================>.] - ETA: 0s - loss: 0.0752 - mean_iou: 0.7691Epoch 00028: val_loss improved from 0.09311 to 0.09241, saving model to ../02.model/model-dsbowl2018-1.h5\n",
      "589/589 [==============================] - 7s 12ms/step - loss: 0.0748 - mean_iou: 0.7691 - val_loss: 0.0924 - val_mean_iou: 0.7706\n",
      "Epoch 29/100\n",
      "584/589 [============================>.] - ETA: 0s - loss: 0.0723 - mean_iou: 0.7721Epoch 00029: val_loss did not improve\n",
      "589/589 [==============================] - 7s 11ms/step - loss: 0.0721 - mean_iou: 0.7721 - val_loss: 0.0944 - val_mean_iou: 0.7735\n",
      "Epoch 30/100\n",
      "584/589 [============================>.] - ETA: 0s - loss: 0.0728 - mean_iou: 0.7750Epoch 00030: val_loss did not improve\n",
      "589/589 [==============================] - 7s 11ms/step - loss: 0.0727 - mean_iou: 0.7750 - val_loss: 0.0937 - val_mean_iou: 0.7763\n",
      "Epoch 31/100\n",
      "584/589 [============================>.] - ETA: 0s - loss: 0.0712 - mean_iou: 0.7777Epoch 00031: val_loss improved from 0.09241 to 0.09227, saving model to ../02.model/model-dsbowl2018-1.h5\n",
      "589/589 [==============================] - 7s 12ms/step - loss: 0.0716 - mean_iou: 0.7777 - val_loss: 0.0923 - val_mean_iou: 0.7790\n",
      "Epoch 32/100\n",
      "584/589 [============================>.] - ETA: 0s - loss: 0.0715 - mean_iou: 0.7803Epoch 00032: val_loss improved from 0.09227 to 0.09016, saving model to ../02.model/model-dsbowl2018-1.h5\n",
      "589/589 [==============================] - 7s 12ms/step - loss: 0.0717 - mean_iou: 0.7803 - val_loss: 0.0902 - val_mean_iou: 0.7815\n",
      "Epoch 33/100\n",
      "584/589 [============================>.] - ETA: 0s - loss: 0.0697 - mean_iou: 0.7827Epoch 00033: val_loss improved from 0.09016 to 0.08728, saving model to ../02.model/model-dsbowl2018-1.h5\n",
      "589/589 [==============================] - 7s 12ms/step - loss: 0.0698 - mean_iou: 0.7827 - val_loss: 0.0873 - val_mean_iou: 0.7839\n",
      "Epoch 34/100\n",
      "584/589 [============================>.] - ETA: 0s - loss: 0.0725 - mean_iou: 0.7850Epoch 00034: val_loss did not improve\n",
      "589/589 [==============================] - 7s 11ms/step - loss: 0.0726 - mean_iou: 0.7850 - val_loss: 0.0891 - val_mean_iou: 0.7860\n",
      "Epoch 35/100\n",
      "584/589 [============================>.] - ETA: 0s - loss: 0.0714 - mean_iou: 0.7871Epoch 00035: val_loss did not improve\n",
      "589/589 [==============================] - 7s 11ms/step - loss: 0.0710 - mean_iou: 0.7871 - val_loss: 0.0903 - val_mean_iou: 0.7881\n",
      "Epoch 36/100\n",
      "584/589 [============================>.] - ETA: 0s - loss: 0.0674 - mean_iou: 0.7892Epoch 00036: val_loss did not improve\n",
      "589/589 [==============================] - 7s 11ms/step - loss: 0.0675 - mean_iou: 0.7892 - val_loss: 0.0922 - val_mean_iou: 0.7902\n",
      "Epoch 37/100\n",
      "584/589 [============================>.] - ETA: 0s - loss: 0.0670 - mean_iou: 0.7911Epoch 00037: val_loss did not improve\n",
      "589/589 [==============================] - 7s 11ms/step - loss: 0.0670 - mean_iou: 0.7912 - val_loss: 0.0914 - val_mean_iou: 0.7922\n",
      "Epoch 38/100\n",
      "584/589 [============================>.] - ETA: 0s - loss: 0.0662 - mean_iou: 0.7932Epoch 00038: val_loss did not improve\n",
      "589/589 [==============================] - 7s 11ms/step - loss: 0.0663 - mean_iou: 0.7932 - val_loss: 0.0899 - val_mean_iou: 0.7942\n",
      "Epoch 00038: early stopping\n"
     ]
    }
   ],
   "source": [
    "# Fit model\n",
    "earlystopper = EarlyStopping(patience=5, verbose=1)\n",
    "checkpointer = ModelCheckpoint(model_path, verbose=1, save_best_only=True)\n",
    "\n",
    "# setup\n",
    "n_epochs  = 100\n",
    "val_split = 0.12\n",
    "\n",
    "# fitting\n",
    "results = model.fit(X_train, Y_train, \n",
    "                    validation_split=val_split, \n",
    "                    batch_size=8, epochs=n_epochs, \n",
    "                    callbacks=[earlystopper, checkpointer])"
   ]
  },
  {
   "cell_type": "markdown",
   "metadata": {},
   "source": [
    "#### Predict on train, val and test"
   ]
  },
  {
   "cell_type": "code",
   "execution_count": 27,
   "metadata": {},
   "outputs": [
    {
     "name": "stdout",
     "output_type": "stream",
     "text": [
      "603/603 [==============================] - 1s 2ms/step\n",
      "67/67 [==============================] - 0s 2ms/step\n",
      "65/65 [==============================] - 0s 2ms/step\n"
     ]
    }
   ],
   "source": [
    "model = load_model(model_path, custom_objects={'mean_iou': mean_iou})\n",
    "preds_train = model.predict(X_train[:int(X_train.shape[0]*0.9)], verbose=1)\n",
    "preds_val = model.predict(X_train[int(X_train.shape[0]*0.9):], verbose=1)\n",
    "preds_test = model.predict(X_test, verbose=1)"
   ]
  },
  {
   "cell_type": "markdown",
   "metadata": {},
   "source": [
    "#### Threshold predictions"
   ]
  },
  {
   "cell_type": "code",
   "execution_count": 28,
   "metadata": {
    "collapsed": true
   },
   "outputs": [],
   "source": [
    "thr = 0.50\n",
    "preds_train_t = (preds_train > thr).astype(np.uint8)\n",
    "preds_val_t = (preds_val > thr).astype(np.uint8)\n",
    "preds_test_t = (preds_test > thr).astype(np.uint8)"
   ]
  },
  {
   "cell_type": "markdown",
   "metadata": {},
   "source": [
    "#### Create list of upsampled test masks"
   ]
  },
  {
   "cell_type": "code",
   "execution_count": 29,
   "metadata": {
    "collapsed": true
   },
   "outputs": [],
   "source": [
    "preds_test_upsampled = []\n",
    "\n",
    "for i in range(len(preds_test)):\n",
    "    \n",
    "    preds_test_upsampled.append(resize(np.squeeze(preds_test[i]), \n",
    "                                       (sizes_test[i][0], sizes_test[i][1]), \n",
    "                                       mode='constant',\n",
    "                                       preserve_range=True))"
   ]
  },
  {
   "cell_type": "markdown",
   "metadata": {},
   "source": [
    "#### Perform a sanity check on some random training samples"
   ]
  },
  {
   "cell_type": "code",
   "execution_count": 30,
   "metadata": {},
   "outputs": [
    {
     "data": {
      "image/png": "[encoded data removed]",
      "text/plain": [
       "<matplotlib.figure.Figure at 0x2b70ab830990>"
      ]
     },
     "metadata": {},
     "output_type": "display_data"
    }
   ],
   "source": [
    "ix = random.randint(0, len(preds_train_t))\n",
    "\n",
    "plt.subplot(131)\n",
    "imshow(X_train[ix])\n",
    "plt.subplot(132)\n",
    "imshow(np.squeeze(Y_train[ix]))\n",
    "plt.subplot(133)\n",
    "imshow(np.squeeze(preds_train_t[ix]));"
   ]
  },
  {
   "cell_type": "markdown",
   "metadata": {},
   "source": [
    "#### Perform a sanity check on some random validation samples"
   ]
  },
  {
   "cell_type": "code",
   "execution_count": 31,
   "metadata": {},
   "outputs": [
    {
     "data": {
      "image/png": "[encoded data removed]",
      "text/plain": [
       "<matplotlib.figure.Figure at 0x2b70abb23390>"
      ]
     },
     "metadata": {},
     "output_type": "display_data"
    }
   ],
   "source": [
    "ix = random.randint(0, len(preds_val_t))\n",
    "\n",
    "plt.subplot(131)\n",
    "imshow(X_train[int(X_train.shape[0]*0.9):][ix])\n",
    "plt.subplot(132)\n",
    "imshow(np.squeeze(Y_train[int(Y_train.shape[0]*0.9):][ix]))\n",
    "plt.subplot(133)\n",
    "imshow(np.squeeze(preds_val_t[ix]));"
   ]
  },
  {
   "cell_type": "markdown",
   "metadata": {},
   "source": [
    "#### Run-length encoding stolen from https://www.kaggle.com/rakhlin/fast-run-length-encoding-python"
   ]
  },
  {
   "cell_type": "code",
   "execution_count": 32,
   "metadata": {
    "collapsed": true
   },
   "outputs": [],
   "source": [
    "def rle_encoding(x):\n",
    "    dots = np.where(x.T.flatten() == 1)[0]\n",
    "    run_lengths = []\n",
    "    prev = -2\n",
    "    for b in dots:\n",
    "        if (b>prev+1): run_lengths.extend((b + 1, 0))\n",
    "        run_lengths[-1] += 1\n",
    "        prev = b\n",
    "    return run_lengths\n",
    "\n",
    "def prob_to_rles(x, cutoff=0.5):\n",
    "    lab_img = label(x > cutoff)\n",
    "    for i in range(1, lab_img.max() + 1):\n",
    "        yield rle_encoding(lab_img == i)"
   ]
  },
  {
   "cell_type": "code",
   "execution_count": 33,
   "metadata": {
    "collapsed": true
   },
   "outputs": [],
   "source": [
    "new_test_ids = []\n",
    "rles = []\n",
    "\n",
    "for n, id_ in enumerate(test_ids):\n",
    "    \n",
    "    rle = list(prob_to_rles(preds_test_upsampled[n]))\n",
    "    rles.extend(rle)\n",
    "    new_test_ids.extend([id_] * len(rle))"
   ]
  },
  {
   "cell_type": "markdown",
   "metadata": {},
   "source": [
    "#### Create submission DataFrame"
   ]
  },
  {
   "cell_type": "code",
   "execution_count": 35,
   "metadata": {},
   "outputs": [
    {
     "name": "stdout",
     "output_type": "stream",
     "text": [
      "Total time 20.524931252 min\n"
     ]
    }
   ],
   "source": [
    "sub = pd.DataFrame()\n",
    "sub['ImageId'] = new_test_ids\n",
    "sub['EncodedPixels'] = pd.Series(rles).apply(lambda x: ' '.join(str(y) for y in x))\n",
    "\n",
    "fname ='../04.predictions/sub-dsbowl nep '+str(n_epochs)+' vsplit '+str(val_split)+' seed '+str(seed)+' thr'+str(thr)+'.csv'\n",
    "\n",
    "sub.to_csv(fname, index=False)\n",
    "\n",
    "nm=(time.time() - start_time)/60\n",
    "print (\"Total time %s min\" % nm)"
   ]
  }
 ],
 "metadata": {
  "kernelspec": {
   "display_name": "Anaconda-tf",
   "language": "python",
   "name": "anaconda_tf"
  },
  "language_info": {
   "codemirror_mode": {
    "name": "ipython",
    "version": 2
   },
   "file_extension": ".py",
   "mimetype": "text/x-python",
   "name": "python",
   "nbconvert_exporter": "python",
   "pygments_lexer": "ipython2",
   "version": "2.7.14"
  }
 },
 "nbformat": 4,
 "nbformat_minor": 2
}
